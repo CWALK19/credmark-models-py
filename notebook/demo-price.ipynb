{
 "cells": [
  {
   "cell_type": "code",
   "execution_count": 1,
   "id": "b77380ae-0c7d-4db5-84f9-3670ec85d744",
   "metadata": {},
   "outputs": [],
   "source": [
    "from credmark.cmf.engine.model_loader import ModelLoader\n",
    "from credmark.cmf.engine.context import EngineModelContext\n",
    "\n",
    "from credmark.dto import EmptyInput\n",
    "\n",
    "from credmark.cmf.types import Contract, Token\n",
    "\n",
    "from credmark.cmf.types.ledger import (\n",
    "    BlockTable, ContractTable,\n",
    "    LogTable, ReceiptTable, TokenTable, TokenTransferTable,\n",
    "    TraceTable, TransactionTable, LedgerTable,\n",
    "    LedgerAggregate, LedgerModelOutput\n",
    ")\n",
    "import sys\n",
    "sys.tracebacklimit=0"
   ]
  },
  {
   "cell_type": "code",
   "execution_count": 2,
   "id": "84d69de1-3bbc-4677-9936-10e4085508c2",
   "metadata": {},
   "outputs": [],
   "source": [
    "model_loader = ModelLoader(['../models'], None, True)\n",
    "\n",
    "params = {'chain_id': 1,\n",
    "          'block_number': None,\n",
    "          'model_loader': model_loader,\n",
    "          'chain_to_provider_url': {'1': 'https://eth-mainnet.alchemyapi.io/v2/4HREehwJhXq-fkm1llCDGol-swXEXj0L'},\n",
    "          'api_url': 'http://h2.runchee.com:18700',\n",
    "          'run_id': None,\n",
    "          'console': True,\n",
    "          'use_local_models': '*',\n",
    "         }\n",
    "context = EngineModelContext.create_context(**params)"
   ]
  },
  {
   "cell_type": "code",
   "execution_count": 3,
   "id": "f428ab9a-4a43-4c1d-b673-aa2fd713f1dc",
   "metadata": {},
   "outputs": [
    {
     "data": {
      "text/plain": [
       "14879234"
      ]
     },
     "execution_count": 3,
     "metadata": {},
     "output_type": "execute_result"
    }
   ],
   "source": [
    "context.block_number"
   ]
  },
  {
   "cell_type": "code",
   "execution_count": 4,
   "id": "5e37f678-bd93-4403-acce-b11bd8148e96",
   "metadata": {},
   "outputs": [
    {
     "name": "stdout",
     "output_type": "stream",
     "text": [
      "ETH/ETH: 1.0\n",
      "ETH/USD: 1952.41\n",
      "ETH/GBP: 1551.6991988809766\n",
      "ETH/CNY: 13016.153441022941\n",
      "CNY/USD: 0.149999\n",
      "USD/ETH: 0.0005121875016005859\n",
      "GBP/ETH: 0.0006444548020139212\n",
      "BTC/CNY: 208820.71735092037\n"
     ]
    },
    {
     "ename": "ModelInputError",
     "evalue": "Error validating model price.oracle-chainlink input: 1 validation error for PriceInput\nbase\n  Address instance must be created with a string or int (type=type_error)",
     "output_type": "error",
     "traceback": [
      "\u001b[0;31m---------------------------------------------------------------------------\u001b[0m",
      "\u001b[0;31mValidationError\u001b[0m                           Traceback (most recent call last)",
      "File \u001b[0;32m~/mambaforge/envs/cmk310/lib/python3.10/site-packages/credmark_model_framework-0.8.22-py3.10.egg/credmark/dto/transform.py:61\u001b[0m, in \u001b[0;36mtransform_data_for_dto\u001b[0;34m(data, dto_class, slug, data_source)\u001b[0m\n\u001b[1;32m     59\u001b[0m         \u001b[38;5;28;01melse\u001b[39;00m:\n\u001b[1;32m     60\u001b[0m             \u001b[38;5;66;03m# create dto from dict\u001b[39;00m\n\u001b[0;32m---> 61\u001b[0m             \u001b[38;5;28;01mreturn\u001b[39;00m \u001b[43mdto_class\u001b[49m\u001b[43m(\u001b[49m\u001b[38;5;241;43m*\u001b[39;49m\u001b[38;5;241;43m*\u001b[39;49m\u001b[43mdata\u001b[49m\u001b[43m)\u001b[49m\n\u001b[1;32m     62\u001b[0m \u001b[38;5;28;01mexcept\u001b[39;00m \u001b[38;5;167;01mException\u001b[39;00m \u001b[38;5;28;01mas\u001b[39;00m e:\n",
      "File \u001b[0;32m~/mambaforge/envs/cmk310/lib/python3.10/site-packages/pydantic/main.py:331\u001b[0m, in \u001b[0;36mpydantic.main.BaseModel.__init__\u001b[0;34m()\u001b[0m\n",
      "\u001b[0;31mValidationError\u001b[0m: 1 validation error for PriceInput\nbase\n  Address instance must be created with a string or int (type=type_error)",
      "\nDuring handling of the above exception, another exception occurred:\n",
      "\u001b[0;31mDataTransformError\u001b[0m                        Traceback (most recent call last)",
      "File \u001b[0;32m~/mambaforge/envs/cmk310/lib/python3.10/site-packages/credmark_model_framework-0.8.22-py3.10.egg/credmark/cmf/engine/context.py:577\u001b[0m, in \u001b[0;36mEngineModelContext._run_local_model_with_class\u001b[0;34m(self, slug, input, block_number, version, model_class)\u001b[0m\n\u001b[1;32m    576\u001b[0m \u001b[38;5;28;01mtry\u001b[39;00m:\n\u001b[0;32m--> 577\u001b[0m     \u001b[38;5;28minput\u001b[39m \u001b[38;5;241m=\u001b[39m \u001b[43mtransform_data_for_dto\u001b[49m\u001b[43m(\u001b[49m\u001b[38;5;28;43minput\u001b[39;49m\u001b[43m,\u001b[49m\u001b[43m \u001b[49m\u001b[43mmodel_class\u001b[49m\u001b[38;5;241;43m.\u001b[39;49m\u001b[43minputDTO\u001b[49m\u001b[43m,\u001b[49m\u001b[43m \u001b[49m\u001b[43mslug\u001b[49m\u001b[43m,\u001b[49m\u001b[43m \u001b[49m\u001b[38;5;124;43m'\u001b[39;49m\u001b[38;5;124;43minput\u001b[39;49m\u001b[38;5;124;43m'\u001b[39;49m\u001b[43m)\u001b[49m\n\u001b[1;32m    578\u001b[0m \u001b[38;5;28;01mexcept\u001b[39;00m DataTransformError \u001b[38;5;28;01mas\u001b[39;00m err:\n\u001b[1;32m    579\u001b[0m     \u001b[38;5;66;03m# We convert to an input error here to distinguish\u001b[39;00m\n\u001b[1;32m    580\u001b[0m     \u001b[38;5;66;03m# from output transform errors below\u001b[39;00m\n",
      "File \u001b[0;32m~/mambaforge/envs/cmk310/lib/python3.10/site-packages/credmark_model_framework-0.8.22-py3.10.egg/credmark/dto/transform.py:63\u001b[0m, in \u001b[0;36mtransform_data_for_dto\u001b[0;34m(data, dto_class, slug, data_source)\u001b[0m\n\u001b[1;32m     62\u001b[0m \u001b[38;5;28;01mexcept\u001b[39;00m \u001b[38;5;167;01mException\u001b[39;00m \u001b[38;5;28;01mas\u001b[39;00m e:\n\u001b[0;32m---> 63\u001b[0m     \u001b[38;5;28;01mraise\u001b[39;00m DataTransformError(\n\u001b[1;32m     64\u001b[0m         \u001b[38;5;124mf\u001b[39m\u001b[38;5;124m'\u001b[39m\u001b[38;5;124mError validating model \u001b[39m\u001b[38;5;132;01m{\u001b[39;00mslug\u001b[38;5;132;01m}\u001b[39;00m\u001b[38;5;124m \u001b[39m\u001b[38;5;132;01m{\u001b[39;00mdata_source\u001b[38;5;132;01m}\u001b[39;00m\u001b[38;5;124m: \u001b[39m\u001b[38;5;132;01m{\u001b[39;00me\u001b[38;5;132;01m}\u001b[39;00m\u001b[38;5;124m'\u001b[39m)\n",
      "\u001b[0;31mDataTransformError\u001b[0m: Error validating model price.oracle-chainlink input: 1 validation error for PriceInput\nbase\n  Address instance must be created with a string or int (type=type_error)",
      "\nDuring handling of the above exception, another exception occurred:\n",
      "\u001b[0;31mModelInputError\u001b[0m                           Traceback (most recent call last)",
      "Input \u001b[0;32mIn [4]\u001b[0m, in \u001b[0;36m<cell line: 27>\u001b[0;34m()\u001b[0m\n\u001b[1;32m      1\u001b[0m test_cases \u001b[38;5;241m=\u001b[39m [\n\u001b[1;32m      2\u001b[0m     {\u001b[38;5;124m'\u001b[39m\u001b[38;5;124mbase\u001b[39m\u001b[38;5;124m'\u001b[39m: \u001b[38;5;124m'\u001b[39m\u001b[38;5;124mETH\u001b[39m\u001b[38;5;124m'\u001b[39m, \u001b[38;5;124m'\u001b[39m\u001b[38;5;124mquote\u001b[39m\u001b[38;5;124m'\u001b[39m: \u001b[38;5;124m'\u001b[39m\u001b[38;5;124mETH\u001b[39m\u001b[38;5;124m'\u001b[39m},\n\u001b[1;32m      3\u001b[0m     {\u001b[38;5;124m'\u001b[39m\u001b[38;5;124mbase\u001b[39m\u001b[38;5;124m'\u001b[39m: \u001b[38;5;124m'\u001b[39m\u001b[38;5;124mETH\u001b[39m\u001b[38;5;124m'\u001b[39m, \u001b[38;5;124m'\u001b[39m\u001b[38;5;124mquote\u001b[39m\u001b[38;5;124m'\u001b[39m: \u001b[38;5;124m'\u001b[39m\u001b[38;5;124mUSD\u001b[39m\u001b[38;5;124m'\u001b[39m},\n\u001b[0;32m   (...)\u001b[0m\n\u001b[1;32m     24\u001b[0m     {\u001b[38;5;124m'\u001b[39m\u001b[38;5;124mquote\u001b[39m\u001b[38;5;124m'\u001b[39m: \u001b[38;5;124m'\u001b[39m\u001b[38;5;124mCNY\u001b[39m\u001b[38;5;124m'\u001b[39m, \u001b[38;5;124m'\u001b[39m\u001b[38;5;124mbase\u001b[39m\u001b[38;5;124m'\u001b[39m: {\u001b[38;5;124m'\u001b[39m\u001b[38;5;124maddress\u001b[39m\u001b[38;5;124m'\u001b[39m:\u001b[38;5;124m'\u001b[39m\u001b[38;5;124m0x767FE9EDC9E0dF98E07454847909b5E959D7ca0E\u001b[39m\u001b[38;5;124m'\u001b[39m}},\n\u001b[1;32m     25\u001b[0m ]\n\u001b[1;32m     27\u001b[0m \u001b[38;5;28;01mfor\u001b[39;00m case \u001b[38;5;129;01min\u001b[39;00m test_cases:\n\u001b[0;32m---> 28\u001b[0m     price \u001b[38;5;241m=\u001b[39m \u001b[43mcontext\u001b[49m\u001b[38;5;241;43m.\u001b[39;49m\u001b[43mmodels\u001b[49m\u001b[38;5;241;43m.\u001b[39;49m\u001b[43mprice\u001b[49m\u001b[38;5;241;43m.\u001b[39;49m\u001b[43moracle_chainlink\u001b[49m\u001b[43m(\u001b[49m\u001b[43mcase\u001b[49m\u001b[43m)\u001b[49m\n\u001b[1;32m     29\u001b[0m     \u001b[38;5;28mprint\u001b[39m(\u001b[38;5;124mf\u001b[39m\u001b[38;5;124m\"\u001b[39m\u001b[38;5;132;01m{\u001b[39;00mcase[\u001b[38;5;124m'\u001b[39m\u001b[38;5;124mbase\u001b[39m\u001b[38;5;124m'\u001b[39m]\u001b[38;5;132;01m}\u001b[39;00m\u001b[38;5;124m/\u001b[39m\u001b[38;5;132;01m{\u001b[39;00mcase[\u001b[38;5;124m'\u001b[39m\u001b[38;5;124mquote\u001b[39m\u001b[38;5;124m'\u001b[39m]\u001b[38;5;132;01m}\u001b[39;00m\u001b[38;5;124m: \u001b[39m\u001b[38;5;132;01m{\u001b[39;00mprice[\u001b[38;5;124m'\u001b[39m\u001b[38;5;124mprice\u001b[39m\u001b[38;5;124m'\u001b[39m]\u001b[38;5;132;01m}\u001b[39;00m\u001b[38;5;124m\"\u001b[39m)\n",
      "File \u001b[0;32m~/mambaforge/envs/cmk310/lib/python3.10/site-packages/credmark_model_framework-0.8.22-py3.10.egg/credmark/cmf/model/context.py:80\u001b[0m, in \u001b[0;36mRunModelMethod.__call__\u001b[0;34m(self, input, return_type, **kwargs)\u001b[0m\n\u001b[1;32m     77\u001b[0m \u001b[38;5;28;01melif\u001b[39;00m \u001b[38;5;28minput\u001b[39m \u001b[38;5;129;01mis\u001b[39;00m \u001b[38;5;28;01mNone\u001b[39;00m:\n\u001b[1;32m     78\u001b[0m     \u001b[38;5;28minput\u001b[39m \u001b[38;5;241m=\u001b[39m kwargs\n\u001b[0;32m---> 80\u001b[0m \u001b[38;5;28;01mreturn\u001b[39;00m \u001b[38;5;28;43mself\u001b[39;49m\u001b[38;5;241;43m.\u001b[39;49m\u001b[43m__context\u001b[49m\u001b[38;5;241;43m.\u001b[39;49m\u001b[43mrun_model\u001b[49m\u001b[43m(\u001b[49m\n\u001b[1;32m     81\u001b[0m \u001b[43m    \u001b[49m\u001b[38;5;124;43mf\u001b[39;49m\u001b[38;5;124;43m\"\u001b[39;49m\u001b[38;5;132;43;01m{\u001b[39;49;00m\u001b[38;5;28;43mself\u001b[39;49m\u001b[38;5;241;43m.\u001b[39;49m\u001b[43m__prefix\u001b[49m\u001b[38;5;241;43m.\u001b[39;49m\u001b[43mreplace\u001b[49m\u001b[43m(\u001b[49m\u001b[38;5;124;43m'\u001b[39;49m\u001b[38;5;124;43m_\u001b[39;49m\u001b[38;5;124;43m'\u001b[39;49m\u001b[43m,\u001b[49m\u001b[43m \u001b[49m\u001b[38;5;124;43m'\u001b[39;49m\u001b[38;5;124;43m-\u001b[39;49m\u001b[38;5;124;43m'\u001b[39;49m\u001b[43m)\u001b[49m\u001b[38;5;132;43;01m}\u001b[39;49;00m\u001b[38;5;124;43m\"\u001b[39;49m\u001b[43m,\u001b[49m\n\u001b[1;32m     82\u001b[0m \u001b[43m    \u001b[49m\u001b[38;5;28;43minput\u001b[39;49m\u001b[43m,\u001b[49m\u001b[43m \u001b[49m\u001b[43mblock_number\u001b[49m\u001b[38;5;241;43m=\u001b[39;49m\u001b[38;5;28;43mself\u001b[39;49m\u001b[38;5;241;43m.\u001b[39;49m\u001b[43m__block_number\u001b[49m\u001b[43m,\u001b[49m\n\u001b[1;32m     83\u001b[0m \u001b[43m    \u001b[49m\u001b[43mreturn_type\u001b[49m\u001b[38;5;241;43m=\u001b[39;49m\u001b[43mreturn_type\u001b[49m\u001b[43m)\u001b[49m\n",
      "File \u001b[0;32m~/mambaforge/envs/cmk310/lib/python3.10/site-packages/credmark_model_framework-0.8.22-py3.10.egg/credmark/cmf/engine/context.py:384\u001b[0m, in \u001b[0;36mEngineModelContext.run_model\u001b[0;34m(self, slug, input, return_type, block_number, version)\u001b[0m\n\u001b[1;32m    379\u001b[0m \u001b[38;5;28;01mif\u001b[39;00m block_number \u001b[38;5;129;01mis\u001b[39;00m \u001b[38;5;129;01mnot\u001b[39;00m \u001b[38;5;28;01mNone\u001b[39;00m \u001b[38;5;129;01mand\u001b[39;00m block_number \u001b[38;5;241m>\u001b[39m \u001b[38;5;28mself\u001b[39m\u001b[38;5;241m.\u001b[39mblock_number:\n\u001b[1;32m    380\u001b[0m     \u001b[38;5;28;01mraise\u001b[39;00m ModelInvalidStateError(\n\u001b[1;32m    381\u001b[0m         \u001b[38;5;124mf\u001b[39m\u001b[38;5;124m'\u001b[39m\u001b[38;5;124mAttempt to run model \u001b[39m\u001b[38;5;132;01m{\u001b[39;00mslug\u001b[38;5;132;01m}\u001b[39;00m\u001b[38;5;124m at context block \u001b[39m\u001b[38;5;132;01m{\u001b[39;00m\u001b[38;5;28mself\u001b[39m\u001b[38;5;241m.\u001b[39mblock_number\u001b[38;5;132;01m}\u001b[39;00m\u001b[38;5;124m \u001b[39m\u001b[38;5;124m'\u001b[39m\n\u001b[1;32m    382\u001b[0m         \u001b[38;5;124mf\u001b[39m\u001b[38;5;124m'\u001b[39m\u001b[38;5;124mwith future block \u001b[39m\u001b[38;5;132;01m{\u001b[39;00mblock_number\u001b[38;5;132;01m}\u001b[39;00m\u001b[38;5;124m'\u001b[39m)\n\u001b[0;32m--> 384\u001b[0m res_tuple \u001b[38;5;241m=\u001b[39m \u001b[38;5;28;43mself\u001b[39;49m\u001b[38;5;241;43m.\u001b[39;49m\u001b[43m_run_model\u001b[49m\u001b[43m(\u001b[49m\u001b[43mslug\u001b[49m\u001b[43m,\u001b[49m\u001b[43m \u001b[49m\u001b[38;5;28;43minput\u001b[39;49m\u001b[43m,\u001b[49m\u001b[43m \u001b[49m\u001b[43mblock_number\u001b[49m\u001b[43m,\u001b[49m\u001b[43m \u001b[49m\u001b[43mversion\u001b[49m\u001b[43m)\u001b[49m\n\u001b[1;32m    386\u001b[0m \u001b[38;5;66;03m# The last item of the tuple is the output.\u001b[39;00m\n\u001b[1;32m    387\u001b[0m output \u001b[38;5;241m=\u001b[39m res_tuple[\u001b[38;5;241m-\u001b[39m\u001b[38;5;241m1\u001b[39m]\n",
      "File \u001b[0;32m~/mambaforge/envs/cmk310/lib/python3.10/site-packages/credmark_model_framework-0.8.22-py3.10.egg/credmark/cmf/engine/context.py:426\u001b[0m, in \u001b[0;36mEngineModelContext._run_model\u001b[0;34m(self, slug, input, block_number, version)\u001b[0m\n\u001b[1;32m    423\u001b[0m     \u001b[38;5;28;01mif\u001b[39;00m \u001b[38;5;28mself\u001b[39m\u001b[38;5;241m.\u001b[39m__depth \u001b[38;5;241m>\u001b[39m\u001b[38;5;241m=\u001b[39m \u001b[38;5;28mself\u001b[39m\u001b[38;5;241m.\u001b[39mmax_run_depth:\n\u001b[1;32m    424\u001b[0m         \u001b[38;5;28;01mraise\u001b[39;00m MaxModelRunDepthError(\u001b[38;5;124mf\u001b[39m\u001b[38;5;124m'\u001b[39m\u001b[38;5;124mMax model run depth hit \u001b[39m\u001b[38;5;132;01m{\u001b[39;00m\u001b[38;5;28mself\u001b[39m\u001b[38;5;241m.\u001b[39m__depth\u001b[38;5;132;01m}\u001b[39;00m\u001b[38;5;124m'\u001b[39m)\n\u001b[0;32m--> 426\u001b[0m     \u001b[38;5;28;01mreturn\u001b[39;00m \u001b[38;5;28;43mself\u001b[39;49m\u001b[38;5;241;43m.\u001b[39;49m\u001b[43m_run_model_with_class\u001b[49m\u001b[43m(\u001b[49m\n\u001b[1;32m    427\u001b[0m \u001b[43m        \u001b[49m\u001b[43mslug\u001b[49m\u001b[43m,\u001b[49m\n\u001b[1;32m    428\u001b[0m \u001b[43m        \u001b[49m\u001b[38;5;28;43minput\u001b[39;49m\u001b[43m,\u001b[49m\n\u001b[1;32m    429\u001b[0m \u001b[43m        \u001b[49m\u001b[43mblock_number\u001b[49m\u001b[43m,\u001b[49m\n\u001b[1;32m    430\u001b[0m \u001b[43m        \u001b[49m\u001b[43mversion\u001b[49m\u001b[43m,\u001b[49m\n\u001b[1;32m    431\u001b[0m \u001b[43m        \u001b[49m\u001b[43mmodel_class\u001b[49m\u001b[43m,\u001b[49m\n\u001b[1;32m    432\u001b[0m \u001b[43m        \u001b[49m\u001b[43muse_local\u001b[49m\u001b[43m,\u001b[49m\n\u001b[1;32m    433\u001b[0m \u001b[43m        \u001b[49m\u001b[43mtry_remote\u001b[49m\u001b[43m)\u001b[49m\n\u001b[1;32m    434\u001b[0m \u001b[38;5;28;01mfinally\u001b[39;00m:\n\u001b[1;32m    435\u001b[0m     \u001b[38;5;28mself\u001b[39m\u001b[38;5;241m.\u001b[39m__depth \u001b[38;5;241m-\u001b[39m\u001b[38;5;241m=\u001b[39m \u001b[38;5;241m1\u001b[39m\n",
      "File \u001b[0;32m~/mambaforge/envs/cmk310/lib/python3.10/site-packages/credmark_model_framework-0.8.22-py3.10.egg/credmark/cmf/engine/context.py:480\u001b[0m, in \u001b[0;36mEngineModelContext._run_model_with_class\u001b[0;34m(self, slug, input, block_number, version, model_class, use_local, try_remote)\u001b[0m\n\u001b[1;32m    476\u001b[0m api \u001b[38;5;241m=\u001b[39m \u001b[38;5;28mself\u001b[39m\u001b[38;5;241m.\u001b[39m__api\n\u001b[1;32m    478\u001b[0m \u001b[38;5;28;01mif\u001b[39;00m use_local \u001b[38;5;129;01mand\u001b[39;00m model_class \u001b[38;5;129;01mis\u001b[39;00m \u001b[38;5;129;01mnot\u001b[39;00m \u001b[38;5;28;01mNone\u001b[39;00m:\n\u001b[0;32m--> 480\u001b[0m     slug, version, output \u001b[38;5;241m=\u001b[39m \u001b[38;5;28;43mself\u001b[39;49m\u001b[38;5;241;43m.\u001b[39;49m\u001b[43m_run_local_model_with_class\u001b[49m\u001b[43m(\u001b[49m\n\u001b[1;32m    481\u001b[0m \u001b[43m        \u001b[49m\u001b[43mslug\u001b[49m\u001b[43m,\u001b[49m\n\u001b[1;32m    482\u001b[0m \u001b[43m        \u001b[49m\u001b[38;5;28;43minput\u001b[39;49m\u001b[43m,\u001b[49m\n\u001b[1;32m    483\u001b[0m \u001b[43m        \u001b[49m\u001b[43mblock_number\u001b[49m\u001b[43m,\u001b[49m\n\u001b[1;32m    484\u001b[0m \u001b[43m        \u001b[49m\u001b[43mversion\u001b[49m\u001b[43m,\u001b[49m\n\u001b[1;32m    485\u001b[0m \u001b[43m        \u001b[49m\u001b[43mmodel_class\u001b[49m\u001b[43m)\u001b[49m\n\u001b[1;32m    487\u001b[0m \u001b[38;5;28;01melif\u001b[39;00m try_remote \u001b[38;5;129;01mand\u001b[39;00m api \u001b[38;5;129;01mis\u001b[39;00m \u001b[38;5;129;01mnot\u001b[39;00m \u001b[38;5;28;01mNone\u001b[39;00m:\n\u001b[1;32m    488\u001b[0m     run_block_number \u001b[38;5;241m=\u001b[39m block_number \u001b[38;5;28;01mif\u001b[39;00m block_number \u001b[38;5;129;01mis\u001b[39;00m \u001b[38;5;129;01mnot\u001b[39;00m \u001b[38;5;28;01mNone\u001b[39;00m \u001b[38;5;28;01melse\u001b[39;00m \u001b[38;5;28mself\u001b[39m\u001b[38;5;241m.\u001b[39mblock_number\n",
      "File \u001b[0;32m~/mambaforge/envs/cmk310/lib/python3.10/site-packages/credmark_model_framework-0.8.22-py3.10.egg/credmark/cmf/engine/context.py:660\u001b[0m, in \u001b[0;36mEngineModelContext._run_local_model_with_class\u001b[0;34m(self, slug, input, block_number, version, model_class)\u001b[0m\n\u001b[1;32m    650\u001b[0m     err\u001b[38;5;241m.\u001b[39mdata\u001b[38;5;241m.\u001b[39mstack\u001b[38;5;241m.\u001b[39minsert(\u001b[38;5;241m0\u001b[39m,\n\u001b[1;32m    651\u001b[0m                           ModelCallStackEntry(\n\u001b[1;32m    652\u001b[0m                               slug\u001b[38;5;241m=\u001b[39mslug,\n\u001b[0;32m   (...)\u001b[0m\n\u001b[1;32m    655\u001b[0m                               blockNumber\u001b[38;5;241m=\u001b[39mcontext\u001b[38;5;241m.\u001b[39mblock_number,\n\u001b[1;32m    656\u001b[0m                               trace\u001b[38;5;241m=\u001b[39mtrace \u001b[38;5;28;01mif\u001b[39;00m trace \u001b[38;5;129;01mis\u001b[39;00m \u001b[38;5;129;01mnot\u001b[39;00m \u001b[38;5;28;01mNone\u001b[39;00m \u001b[38;5;28;01melse\u001b[39;00m \u001b[38;5;28;01mNone\u001b[39;00m))\n\u001b[1;32m    658\u001b[0m     EngineModelContext\u001b[38;5;241m.\u001b[39mnotify_model_run(slug, model_class\u001b[38;5;241m.\u001b[39mversion, context\u001b[38;5;241m.\u001b[39mchain_id,\n\u001b[1;32m    659\u001b[0m                                         context\u001b[38;5;241m.\u001b[39mblock_number, \u001b[38;5;28minput\u001b[39m, \u001b[38;5;28;01mNone\u001b[39;00m, err)\n\u001b[0;32m--> 660\u001b[0m     \u001b[38;5;28;01mraise\u001b[39;00m err\n\u001b[1;32m    662\u001b[0m \u001b[38;5;28;01mfinally\u001b[39;00m:\n\u001b[1;32m    663\u001b[0m     context\u001b[38;5;241m.\u001b[39mis_active \u001b[38;5;241m=\u001b[39m \u001b[38;5;28;01mFalse\u001b[39;00m\n",
      "File \u001b[0;32m~/mambaforge/envs/cmk310/lib/python3.10/site-packages/credmark_model_framework-0.8.22-py3.10.egg/credmark/cmf/engine/context.py:581\u001b[0m, in \u001b[0;36mEngineModelContext._run_local_model_with_class\u001b[0;34m(self, slug, input, block_number, version, model_class)\u001b[0m\n\u001b[1;32m    577\u001b[0m     \u001b[38;5;28minput\u001b[39m \u001b[38;5;241m=\u001b[39m transform_data_for_dto(\u001b[38;5;28minput\u001b[39m, model_class\u001b[38;5;241m.\u001b[39minputDTO, slug, \u001b[38;5;124m'\u001b[39m\u001b[38;5;124minput\u001b[39m\u001b[38;5;124m'\u001b[39m)\n\u001b[1;32m    578\u001b[0m \u001b[38;5;28;01mexcept\u001b[39;00m DataTransformError \u001b[38;5;28;01mas\u001b[39;00m err:\n\u001b[1;32m    579\u001b[0m     \u001b[38;5;66;03m# We convert to an input error here to distinguish\u001b[39;00m\n\u001b[1;32m    580\u001b[0m     \u001b[38;5;66;03m# from output transform errors below\u001b[39;00m\n\u001b[0;32m--> 581\u001b[0m     \u001b[38;5;28;01mraise\u001b[39;00m ModelInputError(\u001b[38;5;28mstr\u001b[39m(err))\n\u001b[1;32m    583\u001b[0m ModelContext\u001b[38;5;241m.\u001b[39m_current_context \u001b[38;5;241m=\u001b[39m context\n\u001b[1;32m    584\u001b[0m context\u001b[38;5;241m.\u001b[39mis_active \u001b[38;5;241m=\u001b[39m \u001b[38;5;28;01mTrue\u001b[39;00m\n",
      "\u001b[0;31mModelInputError\u001b[0m: Error validating model price.oracle-chainlink input: 1 validation error for PriceInput\nbase\n  Address instance must be created with a string or int (type=type_error)"
     ]
    }
   ],
   "source": [
    "test_cases = [\n",
    "    {'base': 'ETH', 'quote': 'ETH'},\n",
    "    {'base': 'ETH', 'quote': 'USD'},\n",
    "    {'base': 'ETH', 'quote': 'GBP'},    \n",
    "    {'base': 'ETH', 'quote': 'CNY'},\n",
    "    {'base': 'CNY', 'quote': 'USD'},    \n",
    "    {'base': 'USD', 'quote': 'ETH'},\n",
    "    {'base': 'GBP', 'quote': 'ETH'},\n",
    "    {'base': 'BTC', 'quote': 'CNY'},\n",
    "    {'base': {'address': '0x767FE9EDC9E0dF98E07454847909b5E959D7ca0E'}, 'quote': 'USD'}, # ILV\n",
    "    {'base': 'JPY', 'quote': {'address': '0x767FE9EDC9E0dF98E07454847909b5E959D7ca0E'}},\n",
    "    {'quote': 'JPY', 'base': {'address': '0x767FE9EDC9E0dF98E07454847909b5E959D7ca0E'}},\n",
    "    {'base': 'JPY', 'quote': {'address':'0x85f138bfEE4ef8e540890CFb48F620571d67Eda3'}}, # WAVAX\n",
    "    {'base': 'USD', 'quote': {'address': '0x85f138bfEE4ef8e540890CFb48F620571d67Eda3'}},\n",
    "    {'quote': 'USD', 'base': {'address': '0x85f138bfEE4ef8e540890CFb48F620571d67Eda3'}},\n",
    "    {'quote': 'JPY', 'base': {'address': '0x85f138bfEE4ef8e540890CFb48F620571d67Eda3'}},\n",
    "    {'base': 'JPY', 'quote': {'address': '0x85f138bfEE4ef8e540890CFb48F620571d67Eda3'}},\n",
    "    {'base': 'CNY', 'quote': {'symbol':'USDC'}},\n",
    "    {'quote': 'CNY', 'base': {'symbol':'DAI'}},\n",
    "    {'base': 'ETH', 'quote': {'address':'0xc00e94Cb662C3520282E6f5717214004A7f26888'}}, # COMP\n",
    "    {'base': 'CNY', 'quote': {'address':'0xc00e94Cb662C3520282E6f5717214004A7f26888'}},\n",
    "    {'quote': 'CNY', 'base': {'address':'0xc00e94Cb662C3520282E6f5717214004A7f26888'}},\n",
    "    {'base': 'CNY', 'quote': {'address':'0x767FE9EDC9E0dF98E07454847909b5E959D7ca0E'}}, # ILV\n",
    "    {'quote': 'CNY', 'base': {'address':'0x767FE9EDC9E0dF98E07454847909b5E959D7ca0E'}},\n",
    "]\n",
    "\n",
    "for case in test_cases:\n",
    "    price = context.models.price.oracle_chainlink(case)\n",
    "    print(f\"{case['base']}/{case['quote']}: {price['price']}\")"
   ]
  },
  {
   "cell_type": "markdown",
   "id": "f2da8cde-443f-4be9-8a53-d18ca617ca89",
   "metadata": {},
   "source": [
    "# Documentation"
   ]
  },
  {
   "cell_type": "markdown",
   "id": "7acafd53-549f-4718-9b75-bdb221a603ec",
   "metadata": {},
   "source": [
    "The input to model `price.oracle-chainlink` is defined below\n",
    "\n",
    "```\n",
    "class PriceInput(DTO):\n",
    "    \"\"\"\n",
    "    In FX, the pair is quoted as base/quote for 1 base = x quote\n",
    "    e.g. 1883.07 ETH / USD means 1883.07 USD for 1 ETH.\n",
    "\n",
    "    *Base* token to get the value in the quote token\n",
    "    *Quote* token to determine the value of the base token.\n",
    "\n",
    "    If quote is not provided, default to the native token of the chain, i.e. ETH for Ethereum.\n",
    "\n",
    "    Fiat is expressed in the currency code in ISO 4217.\n",
    "\n",
    "    Base and quote can be either Token (symbol or address)\n",
    "    or code (BTC, ETH, and all fiat, like USD, EUR, CNY, etc.)\n",
    "\n",
    "    For fiat, with USD being the most active traded currency.\n",
    "    It's direct quoting with (x USD/DOM) for x DOM = 1 USD, e.g. USD/JPY;\n",
    "    and indirect quoting with (x DOM/USD) for x USD = 1 DOM, e.g. GBP/USD.\n",
    "\n",
    "    For DeFi, we call it a direct quoting when the native token is the base.\n",
    "    e.g. ETH / USD\n",
    "    \"\"\"\n",
    "    base: TokenOrCode = DTOField(description='Base token to get the value for')\n",
    "    quote: Union[None, TokenOrCode] = DTOField(None, description='Quote token to count the value')\n",
    "```\n",
    "\n",
    "Code are sources from Chainlink's documentation https://docs.chain.link/docs/ethereum-addresses/\n",
    "\n",
    "```\n",
    "class TokenOrCode(Token):\n",
    "    TRIPLET_CONVERSION: ClassVar[Dict[str, Address]] = {\n",
    "        # 0x0000000000000000000000000000000000000348\n",
    "        'USD': to_hex_address(840),\n",
    "        # 0x000000000000000000000000000000000000033a\n",
    "        'GBP': to_hex_address(826),\n",
    "        # 0x00000000000000000000000000000000000003d2\n",
    "        'EUR': to_hex_address(978),\n",
    "        'JPY': to_hex_address(392),\n",
    "        'CNY': to_hex_address(156),\n",
    "        'AUD': to_hex_address(36),\n",
    "        'KRW': to_hex_address(410),\n",
    "        'BRL': to_hex_address(986),\n",
    "        'CAD': to_hex_address(124),\n",
    "        'CHF': to_hex_address(756),\n",
    "        'IDR': to_hex_address(360),\n",
    "        'INR': to_hex_address(356),\n",
    "        'NGN': to_hex_address(566),\n",
    "        'NZD': to_hex_address(554),\n",
    "        'PHP': to_hex_address(608),\n",
    "        'SGD': to_hex_address(702),\n",
    "        'TRY': to_hex_address(949),\n",
    "        'ZAR': to_hex_address(710),\n",
    "        'ETH': Address('0xEeeeeEeeeEeEeeEeEeEeeEEEeeeeEeeeeeeeEEeE'),\n",
    "        'BTC': Address('0xbBbBBBBbbBBBbbbBbbBbbbbBBbBbbbbBbBbbBBbB'),\n",
    "    }\n",
    "\n",
    "    @classmethod\n",
    "    def __get_validators__(cls):\n",
    "        yield cls.validate\n",
    "\n",
    "    @classmethod\n",
    "    def validate(cls, val):\n",
    "        if isinstance(val, str):\n",
    "            tok = Token(address=cls.TRIPLET_CONVERSION.get(val.upper(), None))\n",
    "            if tok is None:\n",
    "                raise ModelDataError(f'Unsupported currency code {val}')\n",
    "            return tok\n",
    "        else:\n",
    "            return Token.validate(val)\n",
    "\n",
    "```"
   ]
  },
  {
   "cell_type": "code",
   "execution_count": null,
   "id": "690eca99-2993-4987-a3fb-d260a0d8bf38",
   "metadata": {},
   "outputs": [],
   "source": []
  }
 ],
 "metadata": {
  "kernelspec": {
   "display_name": "Python [conda env:cmk310] *",
   "language": "python",
   "name": "conda-env-cmk310-py"
  },
  "language_info": {
   "codemirror_mode": {
    "name": "ipython",
    "version": 3
   },
   "file_extension": ".py",
   "mimetype": "text/x-python",
   "name": "python",
   "nbconvert_exporter": "python",
   "pygments_lexer": "ipython3",
   "version": "3.10.4"
  }
 },
 "nbformat": 4,
 "nbformat_minor": 5
}

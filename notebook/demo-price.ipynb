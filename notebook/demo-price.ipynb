{
 "cells": [
  {
   "cell_type": "code",
   "execution_count": 1,
   "id": "b77380ae-0c7d-4db5-84f9-3670ec85d744",
   "metadata": {},
   "outputs": [],
   "source": [
    "from credmark.cmf.engine.model_loader import ModelLoader\n",
    "from credmark.cmf.engine.context import EngineModelContext\n",
    "\n",
    "from credmark.dto import EmptyInput\n",
    "\n",
    "from credmark.cmf.types import Contract, Token\n",
    "\n",
    "from credmark.cmf.types.ledger import (\n",
    "    BlockTable, ContractTable,\n",
    "    LogTable, ReceiptTable, TokenTable, TokenTransferTable,\n",
    "    TraceTable, TransactionTable, LedgerTable,\n",
    "    LedgerAggregate, LedgerModelOutput\n",
    ")\n",
    "import sys\n",
    "sys.tracebacklimit=0"
   ]
  },
  {
   "cell_type": "code",
   "execution_count": 2,
   "id": "84d69de1-3bbc-4677-9936-10e4085508c2",
   "metadata": {},
   "outputs": [],
   "source": [
    "model_loader = ModelLoader(['../models'], None, True)\n",
    "\n",
    "params = {'chain_id': 1,\n",
    "          'block_number': None,\n",
    "          'model_loader': model_loader,\n",
    "          'chain_to_provider_url': {'1': 'https://eth-mainnet.alchemyapi.io/v2/4HREehwJhXq-fkm1llCDGol-swXEXj0L'},\n",
    "          'api_url': 'http://h2.runchee.com:18700',\n",
    "          'run_id': None,\n",
    "          'console': True,\n",
    "          'use_local_models': '*',\n",
    "         }\n",
    "context = EngineModelContext.create_context(**params)"
   ]
  },
  {
   "cell_type": "code",
   "execution_count": 9,
   "id": "f428ab9a-4a43-4c1d-b673-aa2fd713f1dc",
   "metadata": {},
   "outputs": [
    {
     "data": {
      "text/plain": [
       "14873190"
      ]
     },
     "execution_count": 9,
     "metadata": {},
     "output_type": "execute_result"
    }
   ],
   "source": [
    "context.block_number"
   ]
  },
  {
   "cell_type": "code",
   "execution_count": 3,
   "id": "5e37f678-bd93-4403-acce-b11bd8148e96",
   "metadata": {},
   "outputs": [
    {
     "name": "stdout",
     "output_type": "stream",
     "text": [
      "ETH/ETH: 1.0\n",
      "ETH/USD: 1898.52718503\n",
      "ETH/GBP: 1503.386181422103\n",
      "ETH/CNY: 12638.495120152857\n",
      "CNY/USD: 0.15021782\n",
      "USD/ETH: 0.000526724087958845\n",
      "GBP/ETH: 0.00066516508689342\n",
      "BTC/CNY: 203696.52769224925\n",
      "{'address': '0x767FE9EDC9E0dF98E07454847909b5E959D7ca0E'}/USD: 290.62310550813925\n",
      "JPY/{'address': '0x767FE9EDC9E0dF98E07454847909b5E959D7ca0E'}: 2.6948992876207005e-05\n",
      "{'address': '0x767FE9EDC9E0dF98E07454847909b5E959D7ca0E'}/JPY: 37107.13808837324\n",
      "JPY/{'address': '0x85f138bfEE4ef8e540890CFb48F620571d67Eda3'}: 0.0002917701631011343\n",
      "USD/{'address': '0x85f138bfEE4ef8e540890CFb48F620571d67Eda3'}: 0.03725359590157486\n",
      "{'address': '0x85f138bfEE4ef8e540890CFb48F620571d67Eda3'}/USD: 26.84304631\n",
      "{'address': '0x85f138bfEE4ef8e540890CFb48F620571d67Eda3'}/JPY: 3427.355248978549\n",
      "JPY/{'address': '0x85f138bfEE4ef8e540890CFb48F620571d67Eda3'}: 0.0002917701631011343\n",
      "CNY/{'symbol': 'USDC'}: 0.15087194724776856\n",
      "{'symbol': 'DAI'}/CNY: 6.6216685732477\n",
      "ETH/{'address': '0xc00e94Cb662C3520282E6f5717214004A7f26888'}: 31.261660589908058\n",
      "CNY/{'address': '0xc00e94Cb662C3520282E6f5717214004A7f26888'}: 0.002473527132202585\n",
      "{'address': '0xc00e94Cb662C3520282E6f5717214004A7f26888'}/CNY: 404.2809908899349\n",
      "CNY/{'address': '0x767FE9EDC9E0dF98E07454847909b5E959D7ca0E'}: 0.0005168818898186091\n",
      "{'address': '0x767FE9EDC9E0dF98E07454847909b5E959D7ca0E'}/CNY: 1934.6779596997164\n"
     ]
    }
   ],
   "source": [
    "test_cases = [\n",
    "    {'base': 'ETH', 'quote': 'ETH'},\n",
    "    {'base': 'ETH', 'quote': 'USD'},\n",
    "    {'base': 'ETH', 'quote': 'GBP'},    \n",
    "    {'base': 'ETH', 'quote': 'CNY'},\n",
    "    {'base': 'CNY', 'quote': 'USD'},    \n",
    "    {'base': 'USD', 'quote': 'ETH'},\n",
    "    {'base': 'GBP', 'quote': 'ETH'},\n",
    "    {'base': 'BTC', 'quote': 'CNY'},\n",
    "    {'base': {'address': '0x767FE9EDC9E0dF98E07454847909b5E959D7ca0E'}, 'quote': 'USD'}, # ILV\n",
    "    {'base': 'JPY', 'quote': {'address': '0x767FE9EDC9E0dF98E07454847909b5E959D7ca0E'}},\n",
    "    {'quote': 'JPY', 'base': {'address': '0x767FE9EDC9E0dF98E07454847909b5E959D7ca0E'}},\n",
    "    {'base': 'JPY', 'quote': {'address':'0x85f138bfEE4ef8e540890CFb48F620571d67Eda3'}}, # WAVAX\n",
    "    {'base': 'USD', 'quote': {'address': '0x85f138bfEE4ef8e540890CFb48F620571d67Eda3'}},\n",
    "    {'quote': 'USD', 'base': {'address': '0x85f138bfEE4ef8e540890CFb48F620571d67Eda3'}},\n",
    "    {'quote': 'JPY', 'base': {'address': '0x85f138bfEE4ef8e540890CFb48F620571d67Eda3'}},\n",
    "    {'base': 'JPY', 'quote': {'address': '0x85f138bfEE4ef8e540890CFb48F620571d67Eda3'}},\n",
    "    {'base': 'CNY', 'quote': {'symbol':'USDC'}},\n",
    "    {'quote': 'CNY', 'base': {'symbol':'DAI'}},\n",
    "    {'base': 'ETH', 'quote': {'address':'0xc00e94Cb662C3520282E6f5717214004A7f26888'}}, # COMP\n",
    "    {'base': 'CNY', 'quote': {'address':'0xc00e94Cb662C3520282E6f5717214004A7f26888'}},\n",
    "    {'quote': 'CNY', 'base': {'address':'0xc00e94Cb662C3520282E6f5717214004A7f26888'}},\n",
    "    {'base': 'CNY', 'quote': {'address':'0x767FE9EDC9E0dF98E07454847909b5E959D7ca0E'}}, # ILV\n",
    "    {'quote': 'CNY', 'base': {'address':'0x767FE9EDC9E0dF98E07454847909b5E959D7ca0E'}},\n",
    "]\n",
    "\n",
    "for case in test_cases:\n",
    "    price = context.models.price.oracle_chainlink(case)\n",
    "    print(f\"{case['base']}/{case['quote']}: {price['price']}\")"
   ]
  },
  {
   "cell_type": "markdown",
   "id": "f2da8cde-443f-4be9-8a53-d18ca617ca89",
   "metadata": {},
   "source": [
    "# Documentation"
   ]
  },
  {
   "cell_type": "markdown",
   "id": "7acafd53-549f-4718-9b75-bdb221a603ec",
   "metadata": {},
   "source": [
    "The input to model `price.oracle-chainlink` is defined below\n",
    "\n",
    "```\n",
    "class PriceInput(DTO):\n",
    "    \"\"\"\n",
    "    In FX, the pair is quoted as base/quote for 1 base = x quote\n",
    "    e.g. 1883.07 ETH / USD means 1883.07 USD for 1 ETH.\n",
    "\n",
    "    *Base* token to get the value in the quote token\n",
    "    *Quote* token to determine the value of the base token.\n",
    "\n",
    "    If quote is not provided, default to the native token of the chain, i.e. ETH for Ethereum.\n",
    "\n",
    "    Fiat is expressed in the currency code in ISO 4217.\n",
    "\n",
    "    Base and quote can be either Token (symbol or address)\n",
    "    or code (BTC, ETH, and all fiat, like USD, EUR, CNY, etc.)\n",
    "\n",
    "    For fiat, with USD being the most active traded currency.\n",
    "    It's direct quoting with (x USD/DOM) for x DOM = 1 USD, e.g. USD/JPY;\n",
    "    and indirect quoting with (x DOM/USD) for x USD = 1 DOM, e.g. GBP/USD.\n",
    "\n",
    "    For DeFi, we call it a direct quoting when the native token is the base.\n",
    "    e.g. ETH / USD\n",
    "    \"\"\"\n",
    "    base: TokenOrCode = DTOField(description='Base token to get the value for')\n",
    "    quote: Union[None, TokenOrCode] = DTOField(None, description='Quote token to count the value')\n",
    "```\n",
    "\n",
    "Code are sources from Chainlink's documentation https://docs.chain.link/docs/ethereum-addresses/\n",
    "\n",
    "```\n",
    "class TokenOrCode(Token):\n",
    "    TRIPLET_CONVERSION: ClassVar[Dict[str, Address]] = {\n",
    "        # 0x0000000000000000000000000000000000000348\n",
    "        'USD': to_hex_address(840),\n",
    "        # 0x000000000000000000000000000000000000033a\n",
    "        'GBP': to_hex_address(826),\n",
    "        # 0x00000000000000000000000000000000000003d2\n",
    "        'EUR': to_hex_address(978),\n",
    "        'JPY': to_hex_address(392),\n",
    "        'CNY': to_hex_address(156),\n",
    "        'AUD': to_hex_address(36),\n",
    "        'KRW': to_hex_address(410),\n",
    "        'BRL': to_hex_address(986),\n",
    "        'CAD': to_hex_address(124),\n",
    "        'CHF': to_hex_address(756),\n",
    "        'IDR': to_hex_address(360),\n",
    "        'INR': to_hex_address(356),\n",
    "        'NGN': to_hex_address(566),\n",
    "        'NZD': to_hex_address(554),\n",
    "        'PHP': to_hex_address(608),\n",
    "        'SGD': to_hex_address(702),\n",
    "        'TRY': to_hex_address(949),\n",
    "        'ZAR': to_hex_address(710),\n",
    "        'ETH': Address('0xEeeeeEeeeEeEeeEeEeEeeEEEeeeeEeeeeeeeEEeE'),\n",
    "        'BTC': Address('0xbBbBBBBbbBBBbbbBbbBbbbbBBbBbbbbBbBbbBBbB'),\n",
    "    }\n",
    "\n",
    "    @classmethod\n",
    "    def __get_validators__(cls):\n",
    "        yield cls.validate\n",
    "\n",
    "    @classmethod\n",
    "    def validate(cls, val):\n",
    "        if isinstance(val, str):\n",
    "            tok = Token(address=cls.TRIPLET_CONVERSION.get(val.upper(), None))\n",
    "            if tok is None:\n",
    "                raise ModelDataError(f'Unsupported currency code {val}')\n",
    "            return tok\n",
    "        else:\n",
    "            return Token.validate(val)\n",
    "\n",
    "```"
   ]
  },
  {
   "cell_type": "code",
   "execution_count": null,
   "id": "690eca99-2993-4987-a3fb-d260a0d8bf38",
   "metadata": {},
   "outputs": [],
   "source": []
  }
 ],
 "metadata": {
  "kernelspec": {
   "display_name": "Python [conda env:cmk310] *",
   "language": "python",
   "name": "conda-env-cmk310-py"
  },
  "language_info": {
   "codemirror_mode": {
    "name": "ipython",
    "version": 3
   },
   "file_extension": ".py",
   "mimetype": "text/x-python",
   "name": "python",
   "nbconvert_exporter": "python",
   "pygments_lexer": "ipython3",
   "version": "3.10.4"
  }
 },
 "nbformat": 4,
 "nbformat_minor": 5
}

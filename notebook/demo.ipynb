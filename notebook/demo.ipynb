{
 "cells": [
  {
   "cell_type": "code",
   "execution_count": 33,
   "id": "b77380ae-0c7d-4db5-84f9-3670ec85d744",
   "metadata": {},
   "outputs": [],
   "source": [
    "from credmark.cmf.engine.model_loader import ModelLoader\n",
    "from credmark.cmf.engine.context import EngineModelContext\n",
    "\n",
    "from credmark.dto import EmptyInput\n",
    "\n",
    "from credmark.cmf.types import Contract, Token, Price, Address, Account, Contracts, Tokens, Accounts\n",
    "\n",
    "from credmark.cmf.types.ledger import (\n",
    "    BlockTable, ContractTable,\n",
    "    LogTable, ReceiptTable, TokenTable, TokenTransferTable,\n",
    "    TraceTable, TransactionTable, LedgerTable,\n",
    "    LedgerAggregate, LedgerModelOutput\n",
    ")\n",
    "\n",
    "from credmark.cmf.engine.dev_models.console import get_dt, get_block"
   ]
  },
  {
   "cell_type": "code",
   "execution_count": 34,
   "id": "e5f60c99-8102-463e-b282-6e39591cc83b",
   "metadata": {},
   "outputs": [],
   "source": [
    "import logging\n",
    "\n",
    "logging.basicConfig(\n",
    "        format='%(asctime)s - %(name)s - %(levelname)s - %(message)s',\n",
    "        level=logging.DEBUG)"
   ]
  },
  {
   "cell_type": "markdown",
   "id": "e24ac2e5-dc6f-42eb-9137-0252d7fc296a",
   "metadata": {},
   "source": [
    "# Initialize"
   ]
  },
  {
   "cell_type": "code",
   "execution_count": 35,
   "id": "84d69de1-3bbc-4677-9936-10e4085508c2",
   "metadata": {},
   "outputs": [],
   "source": [
    "model_loader = ModelLoader(['../models'], None, True)\n",
    "\n",
    "params = {'chain_id': 1,\n",
    "          'block_number': None,\n",
    "          'model_loader': model_loader,\n",
    "          'chain_to_provider_url': {'1': 'http://localhost:10444'},\n",
    "          'api_url': None,\n",
    "          'run_id': None,\n",
    "          'console': True,\n",
    "          'use_local_models': '*'\n",
    "         }\n",
    "context = EngineModelContext.create_context(**params)\n",
    "\n",
    "# model_loader.loaded_model_version_lists()\n",
    "# model_loader.reload()\n",
    "\n",
    "ledger = context.ledger\n",
    "run_model = context.run_model\n",
    "models = context.models\n",
    "block_number = context.block_number\n",
    "chain_id = context.chain_id\n",
    "web3 = context.web3\n",
    "run_model_historical = context.historical.run_model_historical\n",
    "run_model_historical_blocks = context.historical.run_model_historical_blocks"
   ]
  },
  {
   "cell_type": "markdown",
   "id": "87a47f0b-fb44-46e7-9a90-6cc2f910f854",
   "metadata": {},
   "source": [
    "## Use Cmf"
   ]
  },
  {
   "cell_type": "markdown",
   "id": "330ec118-a5e6-408b-90c2-e008706c0e77",
   "metadata": {},
   "source": [
    "### 1. Basic"
   ]
  },
  {
   "cell_type": "code",
   "execution_count": 20,
   "id": "909e266f-a115-4851-8391-dcd637a6cc2d",
   "metadata": {},
   "outputs": [
    {
     "data": {
      "text/plain": [
       "datetime.datetime(2022, 5, 3, 0, 0, tzinfo=datetime.timezone.utc)"
      ]
     },
     "execution_count": 20,
     "metadata": {},
     "output_type": "execute_result"
    }
   ],
   "source": [
    "get_dt(2022, 5, 3)"
   ]
  },
  {
   "cell_type": "code",
   "execution_count": 21,
   "id": "e1cea06e-6df8-4036-848d-68ff2d55d722",
   "metadata": {},
   "outputs": [
    {
     "data": {
      "text/plain": [
       "14701368"
      ]
     },
     "execution_count": 21,
     "metadata": {},
     "output_type": "execute_result"
    }
   ],
   "source": [
    "get_block(get_dt(2022, 5, 3))"
   ]
  },
  {
   "cell_type": "code",
   "execution_count": 22,
   "id": "510abfe5-9ad6-4ef7-82cf-d5deef3fa50c",
   "metadata": {},
   "outputs": [
    {
     "data": {
      "text/plain": [
       "14891502"
      ]
     },
     "execution_count": 22,
     "metadata": {},
     "output_type": "execute_result"
    }
   ],
   "source": [
    "context.block_number"
   ]
  },
  {
   "cell_type": "code",
   "execution_count": 23,
   "id": "b447b5f9-09ca-4213-acc9-6038bb58eda2",
   "metadata": {},
   "outputs": [
    {
     "data": {
      "text/plain": [
       "1"
      ]
     },
     "execution_count": 23,
     "metadata": {},
     "output_type": "execute_result"
    }
   ],
   "source": [
    "context.chain_id"
   ]
  },
  {
   "cell_type": "code",
   "execution_count": 24,
   "id": "f1ac9d76-3613-4baf-864a-74a6626dacc2",
   "metadata": {},
   "outputs": [
    {
     "data": {
      "text/plain": [
       "<web3.main.Web3 at 0x7f5d2c0c39a0>"
      ]
     },
     "execution_count": 24,
     "metadata": {},
     "output_type": "execute_result"
    }
   ],
   "source": [
    "context.web3"
   ]
  },
  {
   "cell_type": "code",
   "execution_count": 25,
   "id": "6f2fed1f-67e5-4d5e-888a-5e09ad637ff3",
   "metadata": {},
   "outputs": [
    {
     "data": {
      "text/plain": [
       "1790191567590102228"
      ]
     },
     "execution_count": 25,
     "metadata": {},
     "output_type": "execute_result"
    }
   ],
   "source": [
    "context.web3.eth.get_balance('0xd3CdA913deB6f67967B99D67aCDFa1712C293601')"
   ]
  },
  {
   "cell_type": "code",
   "execution_count": 26,
   "id": "02813570-ef2a-4b69-8e78-0f3df0ef0fa3",
   "metadata": {},
   "outputs": [
    {
     "data": {
      "text/plain": [
       "16041303"
      ]
     },
     "execution_count": 26,
     "metadata": {},
     "output_type": "execute_result"
    }
   ],
   "source": [
    "context.web3.eth.get_block(context.block_number)['gasUsed']"
   ]
  },
  {
   "cell_type": "markdown",
   "id": "2b937e10-c4eb-4194-ae7f-337ff4b1c333",
   "metadata": {},
   "source": [
    "### 2. Use models\n",
    "\n",
    "1. Type `models.` and hit `TAB` key, a list of models will be pop up.\n",
    "2. Select a model and type ? will show the help, `models.token.info?`\n",
    "3. Show the list of models wiht `model_loader.loaded_model_versions()`\n",
    "4. If you have updated any model in the folder, `model_loader.reload()`."
   ]
  },
  {
   "cell_type": "code",
   "execution_count": 27,
   "id": "8fb4423c-a210-4d6d-986d-8ba457b3e452",
   "metadata": {},
   "outputs": [
    {
     "data": {
      "text/plain": [
       "\u001b[0;31mCall signature:\u001b[0m\n",
       "\u001b[0mmodels\u001b[0m\u001b[0;34m.\u001b[0m\u001b[0mtoken\u001b[0m\u001b[0;34m.\u001b[0m\u001b[0minfo\u001b[0m\u001b[0;34m(\u001b[0m\u001b[0;34m\u001b[0m\n",
       "\u001b[0;34m\u001b[0m    \u001b[0minput\u001b[0m\u001b[0;34m:\u001b[0m \u001b[0mUnion\u001b[0m\u001b[0;34m[\u001b[0m\u001b[0mpydantic\u001b[0m\u001b[0;34m.\u001b[0m\u001b[0mmain\u001b[0m\u001b[0;34m.\u001b[0m\u001b[0mBaseModel\u001b[0m\u001b[0;34m,\u001b[0m \u001b[0mdict\u001b[0m\u001b[0;34m,\u001b[0m \u001b[0mNoneType\u001b[0m\u001b[0;34m]\u001b[0m \u001b[0;34m=\u001b[0m \u001b[0;32mNone\u001b[0m\u001b[0;34m,\u001b[0m\u001b[0;34m\u001b[0m\n",
       "\u001b[0;34m\u001b[0m    \u001b[0mreturn_type\u001b[0m\u001b[0;34m:\u001b[0m \u001b[0mUnion\u001b[0m\u001b[0;34m[\u001b[0m\u001b[0mdict\u001b[0m\u001b[0;34m,\u001b[0m \u001b[0mType\u001b[0m\u001b[0;34m[\u001b[0m\u001b[0mpydantic\u001b[0m\u001b[0;34m.\u001b[0m\u001b[0mmain\u001b[0m\u001b[0;34m.\u001b[0m\u001b[0mBaseModel\u001b[0m\u001b[0;34m]\u001b[0m\u001b[0;34m,\u001b[0m \u001b[0mNoneType\u001b[0m\u001b[0;34m]\u001b[0m \u001b[0;34m=\u001b[0m \u001b[0;32mNone\u001b[0m\u001b[0;34m,\u001b[0m\u001b[0;34m\u001b[0m\n",
       "\u001b[0;34m\u001b[0m    \u001b[0;34m**\u001b[0m\u001b[0mkwargs\u001b[0m\u001b[0;34m,\u001b[0m\u001b[0;34m\u001b[0m\n",
       "\u001b[0;34m\u001b[0m\u001b[0;34m)\u001b[0m \u001b[0;34m->\u001b[0m \u001b[0mUnion\u001b[0m\u001b[0;34m[\u001b[0m\u001b[0mdict\u001b[0m\u001b[0;34m,\u001b[0m \u001b[0mpydantic\u001b[0m\u001b[0;34m.\u001b[0m\u001b[0mmain\u001b[0m\u001b[0;34m.\u001b[0m\u001b[0mBaseModel\u001b[0m\u001b[0;34m]\u001b[0m\u001b[0;34m\u001b[0m\u001b[0;34m\u001b[0m\u001b[0m\n",
       "\u001b[0;31mType:\u001b[0m           RunModelMethod\n",
       "\u001b[0;31mString form:\u001b[0m    <credmark.cmf.model.context.RunModelMethod object at 0x7f5d2c6bf820>\n",
       "\u001b[0;31mFile:\u001b[0m           ~/mambaforge/envs/cmk310/lib/python3.10/site-packages/credmark_model_framework-0.8.22-py3.10.egg/credmark/cmf/model/context.py\n",
       "\u001b[0;31mDocstring:\u001b[0m     \n",
       "token.info\n",
       "- slug: token.info\n",
       "- displayName: Token Information\n",
       "- description: Return token's information\n",
       "- latestVersion: 1.1\n",
       "- developer: Credmark\n",
       "- input schema (* for required field):\n",
       "  Token(Token(*))\n",
       "    └─address(string)\n",
       "- input example:\n",
       "  #01: {\"address\": \"0x7Fc66500c84A76Ad7e9c93437bFc5Ac33E2DDaE9\"}\n",
       "  #02: {\"symbol\": \"AAVE\"}\n",
       "  #03: {\"address\": \"0x1F98431c8aD98523631AE4a59f267346ea31F984\"}\n",
       "  #04: {\"address\": \"0x1F98431c8aD98523631AE4a59f267346ea31F984\", \"abi\": \"(Optional) contract abi JSON string\"}\n",
       "- output schema (* for required field):\n",
       "  Token(Token(*))\n",
       "    └─address(string)\n",
       "- output example:\n",
       "  #01: {\"address\": \"0x7Fc66500c84A76Ad7e9c93437bFc5Ac33E2DDaE9\"}\n",
       "- errors:\n",
       "  No defined errors\n"
      ]
     },
     "metadata": {},
     "output_type": "display_data"
    }
   ],
   "source": [
    "models.token.info?"
   ]
  },
  {
   "cell_type": "markdown",
   "id": "1556a38d-521d-4a1d-970f-de4cf555eade",
   "metadata": {},
   "source": [
    "### 3. Create types"
   ]
  },
  {
   "cell_type": "code",
   "execution_count": 28,
   "id": "de5b809b-da27-4dd2-801d-358e8d06423c",
   "metadata": {},
   "outputs": [
    {
     "name": "stdout",
     "output_type": "stream",
     "text": [
      "6\n"
     ]
    },
    {
     "data": {
      "text/plain": [
       "{'price': 0.9995,\n",
       " 'src': 'chainlink.price-by-registry|USDT / USD|0xa964273552C1dBa201f5f000215F5BD5576e8f93|v4|True|t:9533s|r:0'}"
      ]
     },
     "execution_count": 28,
     "metadata": {},
     "output_type": "execute_result"
    }
   ],
   "source": [
    "usdt = Token(address='0xdAC17F958D2ee523a2206206994597C13D831ec7')\n",
    "print(usdt.decimals)\n",
    "context.run_model('chainlink.price-usd', input=usdt)"
   ]
  },
  {
   "cell_type": "code",
   "execution_count": 29,
   "id": "720790e0-c67b-4841-b4aa-a5a77c3d759a",
   "metadata": {},
   "outputs": [
    {
     "data": {
      "text/plain": [
       "{'price': 0.9995,\n",
       " 'src': 'chainlink.price-by-registry|USDT / USD|0xa964273552C1dBa201f5f000215F5BD5576e8f93|v4|True|t:9533s|r:0'}"
      ]
     },
     "execution_count": 29,
     "metadata": {},
     "output_type": "execute_result"
    }
   ],
   "source": [
    "context.run_model('chainlink.price-usd', input=usdt, block_number=get_block(get_dt(2022, 5, 3)))"
   ]
  },
  {
   "cell_type": "markdown",
   "id": "2d72790e-4221-4f93-9ed2-51ec8cf980ed",
   "metadata": {},
   "source": [
    "#### 3.1 Run a model as of current block or in the past - BUG - same result"
   ]
  },
  {
   "cell_type": "code",
   "execution_count": 30,
   "id": "7871dcbe-9891-475c-a7a3-21c90d771719",
   "metadata": {},
   "outputs": [
    {
     "data": {
      "text/plain": [
       "14701368"
      ]
     },
     "execution_count": 30,
     "metadata": {},
     "output_type": "execute_result"
    }
   ],
   "source": [
    "get_block(get_dt(2022, 5, 3))"
   ]
  },
  {
   "cell_type": "code",
   "execution_count": 31,
   "id": "17c172ff-e4aa-4f70-9813-be0587c42e5c",
   "metadata": {},
   "outputs": [
    {
     "name": "stdout",
     "output_type": "stream",
     "text": [
      "2022-06-02 14:26:55+00:00 105.59356164 105.59356164\n",
      "2022-05-02 23:59:50+00:00 105.59356164 105.59356164\n",
      "2022-05-29 23:59:55+00:00 105.59356164 105.59356164\n",
      "2021-12-31 23:59:49+00:00 105.59356164 105.59356164\n"
     ]
    }
   ],
   "source": [
    "aave = Token(symbol='AAVE')\n",
    "\n",
    "print(block_number.timestamp_datetime,\n",
    "      context.models.chainlink.price_usd(input=aave, return_type=Price).price,\n",
    "      context.run_model('chainlink.price-usd', input=aave, return_type=Price).price)\n",
    "\n",
    "for dt in [get_dt(2022, 5, 3), get_dt(2022, 5, 30), get_dt(2022, 1, 1)]:\n",
    "    block = get_block(dt)\n",
    "    print(block.timestamp_datetime,\n",
    "      context.models(block).chainlink.price_usd(input=aave, return_type=Price).price,\n",
    "      context.run_model('chainlink.price-usd', input=aave, return_type=Price, block_number=block).price)"
   ]
  },
  {
   "cell_type": "markdown",
   "id": "5707b680-dfac-403e-b2c5-0415c74fd816",
   "metadata": {},
   "source": [
    "#### 3.2 Travel between different blocks\n",
    "\n",
    "One-way only - can only travel to smaller block numbers, and not back."
   ]
  },
  {
   "cell_type": "code",
   "execution_count": 16,
   "id": "2771ed93-a2f7-41a6-9024-72dc4a16f349",
   "metadata": {},
   "outputs": [
    {
     "data": {
      "text/plain": [
       "144.94887195"
      ]
     },
     "execution_count": 16,
     "metadata": {},
     "output_type": "execute_result"
    }
   ],
   "source": [
    "context.block_number = get_block(get_dt(2022, 5, 3))\n",
    "models.chainlink.price_usd(input=aave, return_type=Price).price"
   ]
  },
  {
   "cell_type": "code",
   "execution_count": 17,
   "id": "bd9b3ac0-7ba1-4ad6-a5ac-e52febcf8141",
   "metadata": {},
   "outputs": [],
   "source": [
    "# Below will gave any error as we wants to travel back\n",
    "# context.block_number = get_block(get_dt(2022, 5, 30))\n",
    "# models.chainlink.price_usd(input=aave, return_type=Price).price"
   ]
  },
  {
   "cell_type": "markdown",
   "id": "decdfa13-5c6e-4c34-af8e-8e126e8e381f",
   "metadata": {},
   "source": [
    "### 4. Ledger"
   ]
  },
  {
   "cell_type": "code",
   "execution_count": 36,
   "id": "2d37ca30-ef03-4cf6-a8d0-dbcd03918fe4",
   "metadata": {},
   "outputs": [
    {
     "data": {
      "text/html": [
       "<div>\n",
       "<style scoped>\n",
       "    .dataframe tbody tr th:only-of-type {\n",
       "        vertical-align: middle;\n",
       "    }\n",
       "\n",
       "    .dataframe tbody tr th {\n",
       "        vertical-align: top;\n",
       "    }\n",
       "\n",
       "    .dataframe thead th {\n",
       "        text-align: right;\n",
       "    }\n",
       "</style>\n",
       "<table border=\"1\" class=\"dataframe\">\n",
       "  <thead>\n",
       "    <tr style=\"text-align: right;\">\n",
       "      <th></th>\n",
       "      <th>block_hash</th>\n",
       "      <th>from_address</th>\n",
       "      <th>to_address</th>\n",
       "      <th>value</th>\n",
       "    </tr>\n",
       "  </thead>\n",
       "  <tbody>\n",
       "    <tr>\n",
       "      <th>0</th>\n",
       "      <td>0xb7bf14ba8e4101a59a2116dd225e780593f823edf2ab...</td>\n",
       "      <td>0x4aa042f28ae6e3ee714d8e4435dc7110f7e3c3c7</td>\n",
       "      <td>0x3dd98c8a089dbcff7e8fc8d4f532bd493501ab7f</td>\n",
       "      <td>0</td>\n",
       "    </tr>\n",
       "    <tr>\n",
       "      <th>1</th>\n",
       "      <td>0xb7bf14ba8e4101a59a2116dd225e780593f823edf2ab...</td>\n",
       "      <td>0x30cb2c51fc4f031fa5f326d334e1f5da00e19ab5</td>\n",
       "      <td>0x1111111254fb6c44bac0bed2854e76f90643097d</td>\n",
       "      <td>0</td>\n",
       "    </tr>\n",
       "    <tr>\n",
       "      <th>2</th>\n",
       "      <td>0xb7bf14ba8e4101a59a2116dd225e780593f823edf2ab...</td>\n",
       "      <td>0xeb55a78c79b91719f6817855c5ad43a7aa0bf08c</td>\n",
       "      <td>0xdac17f958d2ee523a2206206994597c13d831ec7</td>\n",
       "      <td>0</td>\n",
       "    </tr>\n",
       "    <tr>\n",
       "      <th>3</th>\n",
       "      <td>0xb7bf14ba8e4101a59a2116dd225e780593f823edf2ab...</td>\n",
       "      <td>0x1840fa4d4e24fae28fcdf24157ea9af119fe999e</td>\n",
       "      <td>0x0039a4124f3917f4a93747d0ce43434a10fc70bb</td>\n",
       "      <td>213155603590621150</td>\n",
       "    </tr>\n",
       "    <tr>\n",
       "      <th>4</th>\n",
       "      <td>0xb7bf14ba8e4101a59a2116dd225e780593f823edf2ab...</td>\n",
       "      <td>0xa7efae728d2936e78bda97dc267687568dd593f3</td>\n",
       "      <td>0x268eaa7fdc3e879d11380176c4c1f16f5b25d999</td>\n",
       "      <td>198930000000000000</td>\n",
       "    </tr>\n",
       "  </tbody>\n",
       "</table>\n",
       "</div>"
      ],
      "text/plain": [
       "                                          block_hash  \\\n",
       "0  0xb7bf14ba8e4101a59a2116dd225e780593f823edf2ab...   \n",
       "1  0xb7bf14ba8e4101a59a2116dd225e780593f823edf2ab...   \n",
       "2  0xb7bf14ba8e4101a59a2116dd225e780593f823edf2ab...   \n",
       "3  0xb7bf14ba8e4101a59a2116dd225e780593f823edf2ab...   \n",
       "4  0xb7bf14ba8e4101a59a2116dd225e780593f823edf2ab...   \n",
       "\n",
       "                                 from_address  \\\n",
       "0  0x4aa042f28ae6e3ee714d8e4435dc7110f7e3c3c7   \n",
       "1  0x30cb2c51fc4f031fa5f326d334e1f5da00e19ab5   \n",
       "2  0xeb55a78c79b91719f6817855c5ad43a7aa0bf08c   \n",
       "3  0x1840fa4d4e24fae28fcdf24157ea9af119fe999e   \n",
       "4  0xa7efae728d2936e78bda97dc267687568dd593f3   \n",
       "\n",
       "                                   to_address               value  \n",
       "0  0x3dd98c8a089dbcff7e8fc8d4f532bd493501ab7f                   0  \n",
       "1  0x1111111254fb6c44bac0bed2854e76f90643097d                   0  \n",
       "2  0xdac17f958d2ee523a2206206994597c13d831ec7                   0  \n",
       "3  0x0039a4124f3917f4a93747d0ce43434a10fc70bb  213155603590621150  \n",
       "4  0x268eaa7fdc3e879d11380176c4c1f16f5b25d999  198930000000000000  "
      ]
     },
     "execution_count": 36,
     "metadata": {},
     "output_type": "execute_result"
    }
   ],
   "source": [
    "(context.ledger.get_transactions(columns=[TransactionTable.Columns.BLOCK_HASH,\n",
    "                                          TransactionTable.Columns.FROM_ADDRESS,\n",
    "                                          TransactionTable.Columns.TO_ADDRESS,\n",
    "                                          TransactionTable.Columns.VALUE],\n",
    "                                 where=f'{TransactionTable.Columns.BLOCK_NUMBER} = 14861063',\n",
    "                                 order_by=TransactionTable.Columns.BLOCK_TIMESTAMP,\n",
    "                                 limit='5')\n",
    " .to_dataframe())"
   ]
  },
  {
   "cell_type": "code",
   "execution_count": null,
   "id": "606a30b4-7add-4c38-a2b8-e177f4bebc11",
   "metadata": {},
   "outputs": [],
   "source": []
  }
 ],
 "metadata": {
  "kernelspec": {
   "display_name": "Python [conda env:cmk310] *",
   "language": "python",
   "name": "conda-env-cmk310-py"
  },
  "language_info": {
   "codemirror_mode": {
    "name": "ipython",
    "version": 3
   },
   "file_extension": ".py",
   "mimetype": "text/x-python",
   "name": "python",
   "nbconvert_exporter": "python",
   "pygments_lexer": "ipython3",
   "version": "3.10.4"
  }
 },
 "nbformat": 4,
 "nbformat_minor": 5
}

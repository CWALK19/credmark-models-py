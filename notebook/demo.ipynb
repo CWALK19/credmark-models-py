{
 "cells": [
  {
   "cell_type": "markdown",
   "id": "9cbc2502-2aad-42ec-8728-25a0acae36e3",
   "metadata": {},
   "source": [
    "# Credmark Modeling Framework Example for Jupyter notebook\n",
    "## Introduction\n",
    "\n",
    "version: 2022.6.3"
   ]
  },
  {
   "cell_type": "code",
   "execution_count": 1,
   "id": "b77380ae-0c7d-4db5-84f9-3670ec85d744",
   "metadata": {},
   "outputs": [],
   "source": [
    "from credmark.cmf.engine.model_loader import ModelLoader\n",
    "from credmark.cmf.engine.context import EngineModelContext\n",
    "from credmark.cmf.model.context import ModelContext\n",
    "\n",
    "from credmark.dto import *\n",
    "from credmark.cmf.types import *\n",
    "\n",
    "from credmark.cmf.types.ledger import (\n",
    "    BlockTable, ContractTable,\n",
    "    LogTable, ReceiptTable, TokenTable, TokenTransferTable,\n",
    "    TraceTable, TransactionTable, LedgerTable,\n",
    "    LedgerAggregate, LedgerModelOutput\n",
    ")\n",
    "\n",
    "from credmark.cmf.engine.dev_models.console import get_dt, get_block, log_output"
   ]
  },
  {
   "cell_type": "markdown",
   "id": "e24ac2e5-dc6f-42eb-9137-0252d7fc296a",
   "metadata": {},
   "source": [
    "## Initialize"
   ]
  },
  {
   "cell_type": "markdown",
   "id": "3178ec4a-a787-4d7f-8072-c9b8d1ce4fe8",
   "metadata": {},
   "source": [
    "1. You could change the level of logging with `log_output()`."
   ]
  },
  {
   "cell_type": "code",
   "execution_count": 2,
   "id": "dfbec2e8-f797-4cc7-ab15-d4f0a765731d",
   "metadata": {},
   "outputs": [
    {
     "name": "stderr",
     "output_type": "stream",
     "text": [
      "2022-06-07 12:01:10,280 - credmark.cmf.engine.context - INFO - Enabled log with level=INFO\n"
     ]
    }
   ],
   "source": [
    "import logging\n",
    "# Change level of logging from the default of WARNING, output unchanged to stream\n",
    "log_output(log_level=logging.INFO)\n",
    "\n",
    "# Change output of logging to a file, and change level to DEBUG\n",
    "# logging_output('../tmp/debug.log')"
   ]
  },
  {
   "cell_type": "markdown",
   "id": "17120fd4-11b1-448f-8d78-ef0d5fd608d3",
   "metadata": {},
   "source": [
    "2. Create context and some shortcuts for frequently used utilitis.\n",
    "\n",
    "Update below parameters\n",
    "- chain_id: 1 for ETH\n",
    "- block_number: None or a specific number.\n",
    "- chain_to_provider_url: web3 node (archive is preferred)\n",
    "- api_url: None or a specific gateway server address\n",
    "- console: True\n",
    "- use_local_models: None, '*', or a comma-separated list."
   ]
  },
  {
   "cell_type": "code",
   "execution_count": 3,
   "id": "84d69de1-3bbc-4677-9936-10e4085508c2",
   "metadata": {},
   "outputs": [
    {
     "name": "stderr",
     "output_type": "stream",
     "text": [
      "2022-06-07 12:01:12,105 - credmark.cmf.engine.context - INFO - Using latest block number 14921846\n"
     ]
    }
   ],
   "source": [
    "model_loader = ModelLoader(['../models'], None, True)\n",
    "\n",
    "params = {'chain_id': 1,\n",
    "          'block_number': None,\n",
    "          'model_loader': model_loader,\n",
    "          'chain_to_provider_url': {'1': 'http://localhost:10444'},\n",
    "          'api_url': None,\n",
    "          'run_id': None,\n",
    "          'console': True,\n",
    "          'use_local_models': None # '*' # 'token.price'\n",
    "         }\n",
    "context = EngineModelContext.create_context(**params)\n",
    "\n",
    "ledger = context.ledger\n",
    "run_model = context.run_model\n",
    "models = context.models\n",
    "block_number = context.block_number\n",
    "chain_id = context.chain_id\n",
    "web3 = context.web3\n",
    "run_model_historical = context.historical.run_model_historical\n",
    "run_model_historical_blocks = context.historical.run_model_historical_blocks"
   ]
  },
  {
   "cell_type": "markdown",
   "id": "87a47f0b-fb44-46e7-9a90-6cc2f910f854",
   "metadata": {},
   "source": [
    "## Use Cmf"
   ]
  },
  {
   "cell_type": "markdown",
   "id": "330ec118-a5e6-408b-90c2-e008706c0e77",
   "metadata": {},
   "source": [
    "### 1. Basic utilities"
   ]
  },
  {
   "cell_type": "code",
   "execution_count": 4,
   "id": "909e266f-a115-4851-8391-dcd637a6cc2d",
   "metadata": {},
   "outputs": [
    {
     "data": {
      "text/plain": [
       "datetime.datetime(2022, 5, 3, 0, 0, tzinfo=datetime.timezone.utc)"
      ]
     },
     "execution_count": 4,
     "metadata": {},
     "output_type": "execute_result"
    }
   ],
   "source": [
    "get_dt(2022, 5, 3)"
   ]
  },
  {
   "cell_type": "code",
   "execution_count": 5,
   "id": "e1cea06e-6df8-4036-848d-68ff2d55d722",
   "metadata": {},
   "outputs": [
    {
     "data": {
      "text/plain": [
       "14701368"
      ]
     },
     "execution_count": 5,
     "metadata": {},
     "output_type": "execute_result"
    }
   ],
   "source": [
    "get_block(get_dt(2022, 5, 3))"
   ]
  },
  {
   "cell_type": "code",
   "execution_count": 6,
   "id": "510abfe5-9ad6-4ef7-82cf-d5deef3fa50c",
   "metadata": {},
   "outputs": [
    {
     "data": {
      "text/plain": [
       "14921846"
      ]
     },
     "execution_count": 6,
     "metadata": {},
     "output_type": "execute_result"
    }
   ],
   "source": [
    "context.block_number"
   ]
  },
  {
   "cell_type": "code",
   "execution_count": 7,
   "id": "b447b5f9-09ca-4213-acc9-6038bb58eda2",
   "metadata": {},
   "outputs": [
    {
     "data": {
      "text/plain": [
       "1"
      ]
     },
     "execution_count": 7,
     "metadata": {},
     "output_type": "execute_result"
    }
   ],
   "source": [
    "context.chain_id"
   ]
  },
  {
   "cell_type": "code",
   "execution_count": 8,
   "id": "f1ac9d76-3613-4baf-864a-74a6626dacc2",
   "metadata": {},
   "outputs": [
    {
     "data": {
      "text/plain": [
       "<web3.main.Web3 at 0x7fd339449a50>"
      ]
     },
     "execution_count": 8,
     "metadata": {},
     "output_type": "execute_result"
    }
   ],
   "source": [
    "context.web3"
   ]
  },
  {
   "cell_type": "code",
   "execution_count": 9,
   "id": "6f2fed1f-67e5-4d5e-888a-5e09ad637ff3",
   "metadata": {},
   "outputs": [
    {
     "data": {
      "text/plain": [
       "1790191567590102228"
      ]
     },
     "execution_count": 9,
     "metadata": {},
     "output_type": "execute_result"
    }
   ],
   "source": [
    "context.web3.eth.get_balance('0xd3CdA913deB6f67967B99D67aCDFa1712C293601')"
   ]
  },
  {
   "cell_type": "code",
   "execution_count": 10,
   "id": "02813570-ef2a-4b69-8e78-0f3df0ef0fa3",
   "metadata": {},
   "outputs": [
    {
     "data": {
      "text/plain": [
       "8121251"
      ]
     },
     "execution_count": 10,
     "metadata": {},
     "output_type": "execute_result"
    }
   ],
   "source": [
    "context.web3.eth.get_block(context.block_number)['gasUsed']"
   ]
  },
  {
   "cell_type": "markdown",
   "id": "2b937e10-c4eb-4194-ae7f-337ff4b1c333",
   "metadata": {},
   "source": [
    "### 2. Use models\n",
    "\n",
    "1. Type `models.` and hit `TAB` key, a list of models will be pop up.\n",
    "2. Select a model and type ? will show description and help, `models.token.info?`\n",
    "3. Show the list of models wiht `dir(models)`, or `model_loader.loaded_model_versions()` with version information.\n",
    "4. If you have updated any model in the folder on disk, run `model_loader.reload()` to refresh."
   ]
  },
  {
   "cell_type": "code",
   "execution_count": 11,
   "id": "426d0aef-c177-41f1-a9d5-b395812e31bc",
   "metadata": {},
   "outputs": [
    {
     "data": {
      "text/plain": [
       "['aave_v2.get_lending_pool',\n",
       " 'aave_v2.get_lending_pool_provider',\n",
       " 'aave_v2.get_lending_pool_providers_from_registry',\n",
       " 'aave_v2.get_oracle_price',\n",
       " 'aave_v2.get_price_oracle',\n",
       " 'aave_v2.lending_pool_assets',\n",
       " 'aave_v2.overall_liabilities_portfolio',\n",
       " 'aave_v2.token_asset',\n",
       " 'aave_v2.token_liability',\n",
       " 'account.portfolio',\n",
       " 'account.portfolio_aggregate',\n",
       " 'chainlink.get_feed_registry',\n",
       " 'chainlink.price_by_ens',\n",
       " 'chainlink.price_by_feed',\n",
       " 'chainlink.price_by_registry',\n",
       " 'chainlink.price_usd',\n",
       " 'cmk.circulating_supply',\n",
       " 'cmk.get_all_vesting_balances',\n",
       " 'cmk.get_vesting_accounts',\n",
       " 'cmk.get_vesting_info_by_account',\n",
       " 'cmk.total_supply',\n",
       " 'cmk.vesting_contracts',\n",
       " 'cmk.vesting_events',\n",
       " 'compound_v2.all_pools_info',\n",
       " 'compound_v2.all_pools_values',\n",
       " 'compound_v2.get_comptroller',\n",
       " 'compound_v2.get_pool_info',\n",
       " 'compound_v2.get_pools',\n",
       " 'compound_v2.pool_value',\n",
       " 'compound_v2.pool_value_historical',\n",
       " 'console',\n",
       " 'contract.event_data',\n",
       " 'contract.function_data',\n",
       " 'contract.metadata',\n",
       " 'contrib.abracadabra_overall_assets',\n",
       " 'contrib.abracadabra_overall_liabilities',\n",
       " 'contrib.abracadabra_overall_portolio',\n",
       " 'contrib.abracadabra_tvl',\n",
       " 'contrib.abracadabra_tvl_historical',\n",
       " 'contrib.abracadabra_vault_portolio',\n",
       " 'contrib.curve_fi_pool_historical_reserve',\n",
       " 'contrib.curve_get_depegging_amount',\n",
       " 'contrib.curve_get_pegging_ratio',\n",
       " 'contrib.curve_get_pegging_ratio_change',\n",
       " 'contrib.curve_get_pegging_ratio_historical',\n",
       " 'contrib.curve_get_tvl_and_volume',\n",
       " 'contrib.curve_get_tvl_and_volume_historical',\n",
       " 'contrib.debt_dao_generalized_cashflow',\n",
       " 'contrib.neilz',\n",
       " 'contrib.neilz_redacted_convex_cashflow',\n",
       " 'contrib.neilz_redacted_votium_cashflow',\n",
       " 'contrib.sushiswap_get_tvl_and_volume',\n",
       " 'contrib.sushiswap_get_tvl_and_volume_historical',\n",
       " 'contrib.uni_sushi_get_tvl_and_volume',\n",
       " 'contrib.uniswap_get_tvl_and_volume',\n",
       " 'contrib.uniswap_get_tvl_and_volume_historical',\n",
       " 'curve_fi.all_gauge_claim_addresses',\n",
       " 'curve_fi.all_gauges',\n",
       " 'curve_fi.all_pools',\n",
       " 'curve_fi.all_pools_info',\n",
       " 'curve_fi.all_yield',\n",
       " 'curve_fi.gauge_yield',\n",
       " 'curve_fi.get_gauge_controller',\n",
       " 'curve_fi.get_gauge_stake_and_claimable_rewards',\n",
       " 'curve_fi.get_provider',\n",
       " 'curve_fi.get_registry',\n",
       " 'curve_fi.pool_info',\n",
       " 'curve_fi.pool_tvl',\n",
       " 'curve_fi.price',\n",
       " 'dex.pool_volume',\n",
       " 'example.account',\n",
       " 'example.address',\n",
       " 'example.all',\n",
       " 'example.block_number',\n",
       " 'example.block_time',\n",
       " 'example.contract',\n",
       " 'example.data_error_1',\n",
       " 'example.data_error_2',\n",
       " 'example.dto',\n",
       " 'example.dto_type_test_1',\n",
       " 'example.dto_type_test_2',\n",
       " 'example.historical',\n",
       " 'example.historical_block',\n",
       " 'example.iteration',\n",
       " 'example.ledger_aggregates',\n",
       " 'example.ledger_blocks',\n",
       " 'example.ledger_contracts',\n",
       " 'example.ledger_logs',\n",
       " 'example.ledger_receipts',\n",
       " 'example.ledger_token_transfers',\n",
       " 'example.ledger_tokens',\n",
       " 'example.ledger_traces',\n",
       " 'example.ledger_transactions',\n",
       " 'example.libraries',\n",
       " 'example.model',\n",
       " 'example.model_run',\n",
       " 'example.token',\n",
       " 'finance.example_historical_price',\n",
       " 'finance.example_var_contract',\n",
       " 'finance.lcr',\n",
       " 'finance.min_risk_rate',\n",
       " 'finance.sharpe_ratio_token',\n",
       " 'finance.var_aave',\n",
       " 'finance.var_compound',\n",
       " 'finance.var_dex_lp',\n",
       " 'finance.var_engine_historical',\n",
       " 'finance.var_portfolio_historical',\n",
       " 'historical.run_model',\n",
       " 'ledger.block_data',\n",
       " 'ledger.contract_data',\n",
       " 'ledger.erc20_token_data',\n",
       " 'ledger.erc20_token_transfer_data',\n",
       " 'ledger.log_data',\n",
       " 'ledger.receipt_data',\n",
       " 'ledger.token_holders',\n",
       " 'ledger.trace_data',\n",
       " 'ledger.transaction_data',\n",
       " 'price',\n",
       " 'price.pool_aggregator',\n",
       " 'rpc.get_block_range_block_start_end_interval',\n",
       " 'rpc.get_block_range_block_window_interval',\n",
       " 'rpc.get_block_range_time_start_end_interval',\n",
       " 'rpc.get_block_range_time_window_interval',\n",
       " 'rpc.get_block_timestamp',\n",
       " 'rpc.get_blocknumber',\n",
       " 'rpc.get_blockrange',\n",
       " 'rpc.get_latest_blocknumber',\n",
       " 'series.block_start_end_interval',\n",
       " 'series.block_window_interval',\n",
       " 'series.time_start_end_interval',\n",
       " 'series.time_window_interval',\n",
       " 'sushiswap.all_pools',\n",
       " 'sushiswap.get_pool',\n",
       " 'sushiswap.get_pool_price_info',\n",
       " 'sushiswap.get_pools',\n",
       " 'sushiswap.get_v2_factory',\n",
       " 'sushiswap.get_weighted_price',\n",
       " 'token.categorized_supply',\n",
       " 'token.holders',\n",
       " 'token.info',\n",
       " 'token.overall_volume',\n",
       " 'token.pool_price_info',\n",
       " 'token.price',\n",
       " 'token.stablecoins',\n",
       " 'token.swap_pool_volume',\n",
       " 'token.swap_pools',\n",
       " 'uniswap.exchange',\n",
       " 'uniswap.quoter_price_usd',\n",
       " 'uniswap.router_price_usd',\n",
       " 'uniswap.tokens',\n",
       " 'uniswap_v2.get_pool_info',\n",
       " 'uniswap_v2.get_pool_price_info',\n",
       " 'uniswap_v2.get_pools',\n",
       " 'uniswap_v2.get_weighted_price',\n",
       " 'uniswap_v2.pool_tvl',\n",
       " 'uniswap_v3.get_pool_info',\n",
       " 'uniswap_v3.get_pool_price_info',\n",
       " 'uniswap_v3.get_pools',\n",
       " 'uniswap_v3.get_weighted_price',\n",
       " 'xcmk.cmk_staked',\n",
       " 'xcmk.deployment_time',\n",
       " 'xcmk.total_supply']"
      ]
     },
     "execution_count": 11,
     "metadata": {},
     "output_type": "execute_result"
    }
   ],
   "source": [
    "dir(models)"
   ]
  },
  {
   "cell_type": "code",
   "execution_count": 12,
   "id": "8fb4423c-a210-4d6d-986d-8ba457b3e452",
   "metadata": {},
   "outputs": [
    {
     "data": {
      "text/plain": [
       "\u001b[0;31mCall signature:\u001b[0m\n",
       "\u001b[0mmodels\u001b[0m\u001b[0;34m.\u001b[0m\u001b[0mtoken\u001b[0m\u001b[0;34m.\u001b[0m\u001b[0minfo\u001b[0m\u001b[0;34m(\u001b[0m\u001b[0;34m\u001b[0m\n",
       "\u001b[0;34m\u001b[0m    \u001b[0minput\u001b[0m\u001b[0;34m:\u001b[0m \u001b[0mUnion\u001b[0m\u001b[0;34m[\u001b[0m\u001b[0mpydantic\u001b[0m\u001b[0;34m.\u001b[0m\u001b[0mmain\u001b[0m\u001b[0;34m.\u001b[0m\u001b[0mBaseModel\u001b[0m\u001b[0;34m,\u001b[0m \u001b[0mdict\u001b[0m\u001b[0;34m,\u001b[0m \u001b[0mNoneType\u001b[0m\u001b[0;34m]\u001b[0m \u001b[0;34m=\u001b[0m \u001b[0;32mNone\u001b[0m\u001b[0;34m,\u001b[0m\u001b[0;34m\u001b[0m\n",
       "\u001b[0;34m\u001b[0m    \u001b[0mreturn_type\u001b[0m\u001b[0;34m:\u001b[0m \u001b[0mUnion\u001b[0m\u001b[0;34m[\u001b[0m\u001b[0mdict\u001b[0m\u001b[0;34m,\u001b[0m \u001b[0mType\u001b[0m\u001b[0;34m[\u001b[0m\u001b[0mpydantic\u001b[0m\u001b[0;34m.\u001b[0m\u001b[0mmain\u001b[0m\u001b[0;34m.\u001b[0m\u001b[0mBaseModel\u001b[0m\u001b[0;34m]\u001b[0m\u001b[0;34m,\u001b[0m \u001b[0mNoneType\u001b[0m\u001b[0;34m]\u001b[0m \u001b[0;34m=\u001b[0m \u001b[0;32mNone\u001b[0m\u001b[0;34m,\u001b[0m\u001b[0;34m\u001b[0m\n",
       "\u001b[0;34m\u001b[0m    \u001b[0;34m**\u001b[0m\u001b[0mkwargs\u001b[0m\u001b[0;34m,\u001b[0m\u001b[0;34m\u001b[0m\n",
       "\u001b[0;34m\u001b[0m\u001b[0;34m)\u001b[0m \u001b[0;34m->\u001b[0m \u001b[0mUnion\u001b[0m\u001b[0;34m[\u001b[0m\u001b[0mdict\u001b[0m\u001b[0;34m,\u001b[0m \u001b[0mpydantic\u001b[0m\u001b[0;34m.\u001b[0m\u001b[0mmain\u001b[0m\u001b[0;34m.\u001b[0m\u001b[0mBaseModel\u001b[0m\u001b[0;34m]\u001b[0m\u001b[0;34m\u001b[0m\u001b[0;34m\u001b[0m\u001b[0m\n",
       "\u001b[0;31mType:\u001b[0m           RunModelMethod\n",
       "\u001b[0;31mString form:\u001b[0m    <credmark.cmf.model.context.RunModelMethod object at 0x7fd33944beb0>\n",
       "\u001b[0;31mFile:\u001b[0m           ~/mambaforge/envs/cm310-2/lib/python3.10/site-packages/credmark/cmf/model/context.py\n",
       "\u001b[0;31mDocstring:\u001b[0m     \n",
       "token.info\n",
       "- slug: token.info\n",
       "- displayName: Token Information\n",
       "- description: Return token's information\n",
       "- latestVersion: 1.1\n",
       "- developer: Credmark\n",
       "- input schema (* for required field):\n",
       "  Token(Token(*))\n",
       "    └─address(string)\n",
       "- input example:\n",
       "  #01: {\"address\": \"0x7Fc66500c84A76Ad7e9c93437bFc5Ac33E2DDaE9\"}\n",
       "  #02: {\"symbol\": \"AAVE\"}\n",
       "  #03: {\"address\": \"0x1F98431c8aD98523631AE4a59f267346ea31F984\"}\n",
       "  #04: {\"address\": \"0x1F98431c8aD98523631AE4a59f267346ea31F984\", \"abi\": \"(Optional) contract abi JSON string\"}\n",
       "- output schema (* for required field):\n",
       "  Token(Token(*))\n",
       "    └─address(string)\n",
       "- output example:\n",
       "  #01: {\"address\": \"0x7Fc66500c84A76Ad7e9c93437bFc5Ac33E2DDaE9\"}\n",
       "- errors:\n",
       "  No defined errors\n"
      ]
     },
     "metadata": {},
     "output_type": "display_data"
    }
   ],
   "source": [
    "models.token.info?"
   ]
  },
  {
   "cell_type": "code",
   "execution_count": 13,
   "id": "98d3cce4-33de-4508-b98f-8e1f89df9620",
   "metadata": {},
   "outputs": [],
   "source": [
    "model_loader.reload()"
   ]
  },
  {
   "cell_type": "markdown",
   "id": "1556a38d-521d-4a1d-970f-de4cf555eade",
   "metadata": {},
   "source": [
    "## 3. Create and use types"
   ]
  },
  {
   "cell_type": "markdown",
   "id": "d0155480-f17e-4d72-bbe6-757dfa898e32",
   "metadata": {},
   "source": [
    "### 3.1 Example - get price for USDC"
   ]
  },
  {
   "cell_type": "code",
   "execution_count": 14,
   "id": "de5b809b-da27-4dd2-801d-358e8d06423c",
   "metadata": {},
   "outputs": [
    {
     "name": "stdout",
     "output_type": "stream",
     "text": [
      "USDT decimals: 6\n"
     ]
    },
    {
     "data": {
      "text/plain": [
       "{'price': 0.99950262,\n",
       " 'src': 'chainlink.price-by-feed|USDT / USD|0xa964273552C1dBa201f5f000215F5BD5576e8f93|v4|None|t:16462s|r:0'}"
      ]
     },
     "execution_count": 14,
     "metadata": {},
     "output_type": "execute_result"
    }
   ],
   "source": [
    "usdt = Token(address='0xdAC17F958D2ee523a2206206994597C13D831ec7')\n",
    "print('USDT decimals:', usdt.decimals)\n",
    "models.chainlink.price_by_ens({'domain': 'usdt-usd.data.eth'})"
   ]
  },
  {
   "cell_type": "code",
   "execution_count": 15,
   "id": "720790e0-c67b-4841-b4aa-a5a77c3d759a",
   "metadata": {},
   "outputs": [
    {
     "data": {
      "text/plain": [
       "{'src': 'chainlink.price-by-feed|USDT / USD|0xa964273552C1dBa201f5f000215F5BD5576e8f93|v4|None|t:17407s|r:0',\n",
       " 'price': 1.00010233}"
      ]
     },
     "execution_count": 15,
     "metadata": {},
     "output_type": "execute_result"
    }
   ],
   "source": [
    "models(get_block(get_dt(2022, 5, 3))).chainlink.price_by_ens({'domain': 'usdt-usd.data.eth'})"
   ]
  },
  {
   "cell_type": "code",
   "execution_count": 16,
   "id": "07a82f61-1336-41ec-80bb-a96504e7040a",
   "metadata": {},
   "outputs": [
    {
     "data": {
      "text/plain": [
       "{'src': 'chainlink.price-by-registry|USDT / USD|0xa964273552C1dBa201f5f000215F5BD5576e8f93|v4|True|t:17407s|r:0',\n",
       " 'price': 1.00010233}"
      ]
     },
     "execution_count": 16,
     "metadata": {},
     "output_type": "execute_result"
    }
   ],
   "source": [
    "models(get_block(get_dt(2022, 5, 3))).chainlink.price_usd(usdt)"
   ]
  },
  {
   "cell_type": "markdown",
   "id": "2d72790e-4221-4f93-9ed2-51ec8cf980ed",
   "metadata": {},
   "source": [
    "### 3.1 Run a model"
   ]
  },
  {
   "cell_type": "markdown",
   "id": "f012e4fc-699c-4dd2-a6a3-223501cc878a",
   "metadata": {},
   "source": [
    "#### Run as of current block"
   ]
  },
  {
   "cell_type": "code",
   "execution_count": 17,
   "id": "7871dcbe-9891-475c-a7a3-21c90d771719",
   "metadata": {},
   "outputs": [
    {
     "name": "stdout",
     "output_type": "stream",
     "text": [
      "14921846 2022-06-07 16:27:03+00:00 models: 98.85740049 run_model: 98.85740049\n"
     ]
    }
   ],
   "source": [
    "aave = Token(symbol='AAVE')\n",
    "\n",
    "print(block_number,\n",
    "      block_number.timestamp_datetime,\n",
    "      'models:', context.models().chainlink.price_usd(input=aave, return_type=Price).price,\n",
    "      'run_model:', context.run_model('chainlink.price-usd', input=aave, return_type=Price).price)"
   ]
  },
  {
   "cell_type": "markdown",
   "id": "f1799e9f-49e1-463d-8021-39ef6c0d5acd",
   "metadata": {},
   "source": [
    "#### Run as of past blocks"
   ]
  },
  {
   "cell_type": "code",
   "execution_count": 18,
   "id": "194dc669-76f3-4182-86ee-37faef331818",
   "metadata": {},
   "outputs": [
    {
     "data": {
      "text/plain": [
       "datetime.datetime(2022, 6, 7, 16, 27, 3, tzinfo=datetime.timezone.utc)"
      ]
     },
     "execution_count": 18,
     "metadata": {},
     "output_type": "execute_result"
    }
   ],
   "source": [
    "context.block_number.timestamp_datetime"
   ]
  },
  {
   "cell_type": "code",
   "execution_count": 19,
   "id": "17c172ff-e4aa-4f70-9813-be0587c42e5c",
   "metadata": {},
   "outputs": [
    {
     "name": "stdout",
     "output_type": "stream",
     "text": [
      "14701368 2022-05-02 23:59:50+00:00 models: 144.94887195 run_model: 144.94887195\n",
      "14739154 2022-05-08 23:59:54+00:00 models: 125.63830024 run_model: 125.63830024\n",
      "13916165 2021-12-31 23:59:49+00:00 models: 255.01691343 run_model: 255.01691343\n"
     ]
    }
   ],
   "source": [
    "for dt in [get_dt(2022, 5, 3), get_dt(2022, 5, 9), get_dt(2022, 1, 1)]:\n",
    "    block = get_block(dt)\n",
    "    print(block,\n",
    "          block.timestamp_datetime,\n",
    "          'models:', context.models(block).chainlink.price_usd(input=aave, return_type=Price).price,\n",
    "          'run_model:', context.run_model('chainlink.price-usd', input=aave, return_type=Price, block_number=block).price)"
   ]
  },
  {
   "cell_type": "markdown",
   "id": "5707b680-dfac-403e-b2c5-0415c74fd816",
   "metadata": {},
   "source": [
    "### 3.2 Travel between different blocks\n",
    "\n",
    "Tavel is one-way only - can only travel to earlier/smaller block numbers, and not to the future/later blocks."
   ]
  },
  {
   "cell_type": "code",
   "execution_count": 20,
   "id": "2771ed93-a2f7-41a6-9024-72dc4a16f349",
   "metadata": {},
   "outputs": [
    {
     "data": {
      "text/plain": [
       "144.94887195"
      ]
     },
     "execution_count": 20,
     "metadata": {},
     "output_type": "execute_result"
    }
   ],
   "source": [
    "context.block_number = get_block(get_dt(2022, 5, 3))\n",
    "models.chainlink.price_usd(input=aave, return_type=Price).price"
   ]
  },
  {
   "cell_type": "code",
   "execution_count": 21,
   "id": "bd9b3ac0-7ba1-4ad6-a5ac-e52febcf8141",
   "metadata": {},
   "outputs": [],
   "source": [
    "# Below will gave any error as we wants to travel back\n",
    "# context.block_number = get_block(get_dt(2022, 5, 30))\n",
    "# models.chainlink.price_usd(input=aave, return_type=Price).price"
   ]
  },
  {
   "cell_type": "markdown",
   "id": "f987fba5-518c-431c-9dbd-4e35ffabc753",
   "metadata": {},
   "source": [
    "Instead, create a new context. It will automatically become the current context."
   ]
  },
  {
   "cell_type": "code",
   "execution_count": 22,
   "id": "b29ba3c9-916f-4f64-9f6e-32944f67df25",
   "metadata": {},
   "outputs": [
    {
     "data": {
      "text/plain": [
       "(datetime.datetime(2022, 4, 2, 23, 59, 59, tzinfo=datetime.timezone.utc),\n",
       " datetime.datetime(2022, 5, 2, 23, 59, 50, tzinfo=datetime.timezone.utc))"
      ]
     },
     "execution_count": 22,
     "metadata": {},
     "output_type": "execute_result"
    }
   ],
   "source": [
    "context_old = context.create_context(**params | {'block_number': get_block(get_dt(2022, 4, 3))})\n",
    "context_old.block_number.timestamp_datetime, context.block_number.timestamp_datetime"
   ]
  },
  {
   "cell_type": "markdown",
   "id": "3c32c8d3-8b4f-4f59-a6be-8cdb76311d05",
   "metadata": {},
   "source": [
    "If we would like to use previously defined context, run `context.set_current()` to set it back to the current context.\n",
    "\n",
    "Otherwise, we may encounter error with running model for a block number later than the context."
   ]
  },
  {
   "cell_type": "code",
   "execution_count": 23,
   "id": "7f265f9f-deb0-4566-a530-6b6977c37641",
   "metadata": {},
   "outputs": [],
   "source": [
    "context.set_current()"
   ]
  },
  {
   "cell_type": "markdown",
   "id": "decdfa13-5c6e-4c34-af8e-8e126e8e381f",
   "metadata": {},
   "source": [
    "### 4. Ledger"
   ]
  },
  {
   "cell_type": "code",
   "execution_count": 24,
   "id": "2d37ca30-ef03-4cf6-a8d0-dbcd03918fe4",
   "metadata": {},
   "outputs": [
    {
     "data": {
      "text/html": [
       "<div>\n",
       "<style scoped>\n",
       "    .dataframe tbody tr th:only-of-type {\n",
       "        vertical-align: middle;\n",
       "    }\n",
       "\n",
       "    .dataframe tbody tr th {\n",
       "        vertical-align: top;\n",
       "    }\n",
       "\n",
       "    .dataframe thead th {\n",
       "        text-align: right;\n",
       "    }\n",
       "</style>\n",
       "<table border=\"1\" class=\"dataframe\">\n",
       "  <thead>\n",
       "    <tr style=\"text-align: right;\">\n",
       "      <th></th>\n",
       "      <th>block_hash</th>\n",
       "      <th>from_address</th>\n",
       "      <th>to_address</th>\n",
       "      <th>value</th>\n",
       "    </tr>\n",
       "  </thead>\n",
       "  <tbody>\n",
       "    <tr>\n",
       "      <th>0</th>\n",
       "      <td>0x8ccec7255f1c2519f87936a725a957d246f21047e676...</td>\n",
       "      <td>0xf16e9b0d03470827a95cdfd0cb8a8a3b46969b91</td>\n",
       "      <td>0x5218e472cfcfe0b64a064f055b43b4cdc9efd3a6</td>\n",
       "      <td>0</td>\n",
       "    </tr>\n",
       "    <tr>\n",
       "      <th>1</th>\n",
       "      <td>0x8ccec7255f1c2519f87936a725a957d246f21047e676...</td>\n",
       "      <td>0x8c6f71f96419325c2f637332650029e2a53787a4</td>\n",
       "      <td>0xd19053361e356e79166b22beaacd248b1b63135f</td>\n",
       "      <td>5294873127907440</td>\n",
       "    </tr>\n",
       "    <tr>\n",
       "      <th>2</th>\n",
       "      <td>0x8ccec7255f1c2519f87936a725a957d246f21047e676...</td>\n",
       "      <td>0x8fa7b1d8dffe8c2a94ad15806110c24591e1153f</td>\n",
       "      <td>0xf598b81ef8c7b52a7f2a89253436e72ec6dc871f</td>\n",
       "      <td>97898558144736000</td>\n",
       "    </tr>\n",
       "    <tr>\n",
       "      <th>3</th>\n",
       "      <td>0x8ccec7255f1c2519f87936a725a957d246f21047e676...</td>\n",
       "      <td>0xec30d02f10353f8efc9601371f56e808751f396f</td>\n",
       "      <td>0xdac17f958d2ee523a2206206994597c13d831ec7</td>\n",
       "      <td>0</td>\n",
       "    </tr>\n",
       "    <tr>\n",
       "      <th>4</th>\n",
       "      <td>0x8ccec7255f1c2519f87936a725a957d246f21047e676...</td>\n",
       "      <td>0xcad621da75a66c7a8f4ff86d30a2bf981bfc8fdd</td>\n",
       "      <td>0xebd478795b54ae755b3eb1932885453ab43fee84</td>\n",
       "      <td>3679563370000000000</td>\n",
       "    </tr>\n",
       "  </tbody>\n",
       "</table>\n",
       "</div>"
      ],
      "text/plain": [
       "                                          block_hash  \\\n",
       "0  0x8ccec7255f1c2519f87936a725a957d246f21047e676...   \n",
       "1  0x8ccec7255f1c2519f87936a725a957d246f21047e676...   \n",
       "2  0x8ccec7255f1c2519f87936a725a957d246f21047e676...   \n",
       "3  0x8ccec7255f1c2519f87936a725a957d246f21047e676...   \n",
       "4  0x8ccec7255f1c2519f87936a725a957d246f21047e676...   \n",
       "\n",
       "                                 from_address  \\\n",
       "0  0xf16e9b0d03470827a95cdfd0cb8a8a3b46969b91   \n",
       "1  0x8c6f71f96419325c2f637332650029e2a53787a4   \n",
       "2  0x8fa7b1d8dffe8c2a94ad15806110c24591e1153f   \n",
       "3  0xec30d02f10353f8efc9601371f56e808751f396f   \n",
       "4  0xcad621da75a66c7a8f4ff86d30a2bf981bfc8fdd   \n",
       "\n",
       "                                   to_address                value  \n",
       "0  0x5218e472cfcfe0b64a064f055b43b4cdc9efd3a6                    0  \n",
       "1  0xd19053361e356e79166b22beaacd248b1b63135f     5294873127907440  \n",
       "2  0xf598b81ef8c7b52a7f2a89253436e72ec6dc871f    97898558144736000  \n",
       "3  0xdac17f958d2ee523a2206206994597c13d831ec7                    0  \n",
       "4  0xebd478795b54ae755b3eb1932885453ab43fee84  3679563370000000000  "
      ]
     },
     "execution_count": 24,
     "metadata": {},
     "output_type": "execute_result"
    }
   ],
   "source": [
    "df_ledger = (context.ledger.get_transactions(columns=[TransactionTable.Columns.BLOCK_HASH,\n",
    "                                          TransactionTable.Columns.FROM_ADDRESS,\n",
    "                                          TransactionTable.Columns.TO_ADDRESS,\n",
    "                                          TransactionTable.Columns.VALUE],\n",
    "                                 where=f'{TransactionTable.Columns.BLOCK_NUMBER} = {context.block_number-1000}',\n",
    "                                 order_by=TransactionTable.Columns.BLOCK_TIMESTAMP,\n",
    "                                 limit='5')\n",
    "             .to_dataframe())\n",
    "df_ledger"
   ]
  }
 ],
 "metadata": {
  "kernelspec": {
   "display_name": "Python [conda env:cm310-2] *",
   "language": "python",
   "name": "conda-env-cm310-2-py"
  },
  "language_info": {
   "codemirror_mode": {
    "name": "ipython",
    "version": 3
   },
   "file_extension": ".py",
   "mimetype": "text/x-python",
   "name": "python",
   "nbconvert_exporter": "python",
   "pygments_lexer": "ipython3",
   "version": "3.10.4"
  }
 },
 "nbformat": 4,
 "nbformat_minor": 5
}

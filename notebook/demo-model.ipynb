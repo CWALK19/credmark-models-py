{
 "cells": [
  {
   "cell_type": "code",
   "execution_count": 1,
   "id": "b77380ae-0c7d-4db5-84f9-3670ec85d744",
   "metadata": {},
   "outputs": [],
   "source": [
    "from credmark.cmf.engine.model_loader import ModelLoader\n",
    "from credmark.cmf.engine.context import EngineModelContext\n",
    "from credmark.cmf.model.context import ModelContext\n",
    "\n",
    "from credmark.dto import *\n",
    "from credmark.cmf.types import *\n",
    "\n",
    "from credmark.cmf.types.ledger import (\n",
    "    BlockTable, ContractTable,\n",
    "    LogTable, ReceiptTable, TokenTable, TokenTransferTable,\n",
    "    TraceTable, TransactionTable, LedgerTable,\n",
    "    LedgerAggregate, LedgerModelOutput\n",
    ")\n",
    "\n",
    "from credmark.cmf.engine.dev_models.console import get_dt, get_block, log_output"
   ]
  },
  {
   "cell_type": "code",
   "execution_count": 2,
   "id": "84d69de1-3bbc-4677-9936-10e4085508c2",
   "metadata": {},
   "outputs": [],
   "source": [
    "model_loader = ModelLoader(['../models'], None, True)\n",
    "\n",
    "params = {'chain_id': 1,\n",
    "          'block_number': 14911537,\n",
    "          'model_loader': model_loader,\n",
    "          'chain_to_provider_url': {'1': 'http://localhost:10444'},\n",
    "          'api_url': 'http://localhost:8700',\n",
    "          'run_id': None,\n",
    "          'console': True,\n",
    "          'use_local_models': '*',\n",
    "         }\n",
    "context = EngineModelContext.create_context(**params)"
   ]
  },
  {
   "cell_type": "markdown",
   "id": "37ddb448-0246-41b5-b241-769d237aa42e",
   "metadata": {},
   "source": [
    "### Add model"
   ]
  },
  {
   "cell_type": "markdown",
   "id": "cb5b12f3-ce10-4e84-8a6f-0c0a12bb89e8",
   "metadata": {},
   "source": [
    "1. Define the model with a class"
   ]
  },
  {
   "cell_type": "code",
   "execution_count": 18,
   "id": "6c4a9f77-14e7-49c8-b5c0-153598da1ebb",
   "metadata": {},
   "outputs": [],
   "source": [
    "from credmark.cmf.model import Model\n",
    "from credmark.cmf.model.errors import ModelDataError, ModelRunError"
   ]
  },
  {
   "cell_type": "code",
   "execution_count": 19,
   "id": "6c2ff623-335d-4ee5-b1c2-f7a4e8dd8e86",
   "metadata": {},
   "outputs": [],
   "source": [
    "@Model.describe(\n",
    "    slug='jit.feed',\n",
    "    version='1.0',\n",
    "    input=EmptyInput,\n",
    "    output=dict)\n",
    "class JitFeed(Model):\n",
    "    def run(self, input):\n",
    "        feedreg = self.context.models.chainlink.get_feed_registry(return_type=Contract)\n",
    "        feed = feedreg.functions.getFeed('0xbBbBBBBbbBBBbbbBbbBbbbbBBbBbbbbBbBbbBBbB','0x0000000000000000000000000000000000000348').call()\n",
    "        return {'feed': feed}"
   ]
  },
  {
   "cell_type": "markdown",
   "id": "6e8654ac-e0c1-4021-8be3-0491df050f32",
   "metadata": {},
   "source": [
    "2. Add/Run/Remove the model\n",
    "\n",
    "- add model, `context.add_model(mclass)`\n",
    "- remove model, `context.remove_model_by_slug(model_slug)`"
   ]
  },
  {
   "cell_type": "code",
   "execution_count": 35,
   "id": "2bfcbcb3-efdb-4f66-b1c8-369ea56452b3",
   "metadata": {},
   "outputs": [
    {
     "data": {
      "text/plain": [
       "True"
      ]
     },
     "execution_count": 35,
     "metadata": {},
     "output_type": "execute_result"
    }
   ],
   "source": [
    "context.add_model(JitFeed)\n",
    "\n",
    "# Check whether the model has been loaded\n",
    "'jit.feed' in model_loader.loaded_model_version_lists()"
   ]
  },
  {
   "cell_type": "code",
   "execution_count": 31,
   "id": "f032d84f-0742-4146-a340-5edb4db90937",
   "metadata": {},
   "outputs": [
    {
     "data": {
      "text/plain": [
       "\u001b[0;31mCall signature:\u001b[0m\n",
       "\u001b[0mcontext\u001b[0m\u001b[0;34m.\u001b[0m\u001b[0mmodels\u001b[0m\u001b[0;34m.\u001b[0m\u001b[0mjit\u001b[0m\u001b[0;34m.\u001b[0m\u001b[0mfeed\u001b[0m\u001b[0;34m(\u001b[0m\u001b[0;34m\u001b[0m\n",
       "\u001b[0;34m\u001b[0m    \u001b[0minput\u001b[0m\u001b[0;34m:\u001b[0m \u001b[0mUnion\u001b[0m\u001b[0;34m[\u001b[0m\u001b[0mpydantic\u001b[0m\u001b[0;34m.\u001b[0m\u001b[0mmain\u001b[0m\u001b[0;34m.\u001b[0m\u001b[0mBaseModel\u001b[0m\u001b[0;34m,\u001b[0m \u001b[0mdict\u001b[0m\u001b[0;34m,\u001b[0m \u001b[0mNoneType\u001b[0m\u001b[0;34m]\u001b[0m \u001b[0;34m=\u001b[0m \u001b[0;32mNone\u001b[0m\u001b[0;34m,\u001b[0m\u001b[0;34m\u001b[0m\n",
       "\u001b[0;34m\u001b[0m    \u001b[0mreturn_type\u001b[0m\u001b[0;34m:\u001b[0m \u001b[0mUnion\u001b[0m\u001b[0;34m[\u001b[0m\u001b[0mdict\u001b[0m\u001b[0;34m,\u001b[0m \u001b[0mType\u001b[0m\u001b[0;34m[\u001b[0m\u001b[0mpydantic\u001b[0m\u001b[0;34m.\u001b[0m\u001b[0mmain\u001b[0m\u001b[0;34m.\u001b[0m\u001b[0mBaseModel\u001b[0m\u001b[0;34m]\u001b[0m\u001b[0;34m,\u001b[0m \u001b[0mNoneType\u001b[0m\u001b[0;34m]\u001b[0m \u001b[0;34m=\u001b[0m \u001b[0;32mNone\u001b[0m\u001b[0;34m,\u001b[0m\u001b[0;34m\u001b[0m\n",
       "\u001b[0;34m\u001b[0m    \u001b[0;34m**\u001b[0m\u001b[0mkwargs\u001b[0m\u001b[0;34m,\u001b[0m\u001b[0;34m\u001b[0m\n",
       "\u001b[0;34m\u001b[0m\u001b[0;34m)\u001b[0m \u001b[0;34m->\u001b[0m \u001b[0mUnion\u001b[0m\u001b[0;34m[\u001b[0m\u001b[0mdict\u001b[0m\u001b[0;34m,\u001b[0m \u001b[0mpydantic\u001b[0m\u001b[0;34m.\u001b[0m\u001b[0mmain\u001b[0m\u001b[0;34m.\u001b[0m\u001b[0mBaseModel\u001b[0m\u001b[0;34m]\u001b[0m\u001b[0;34m\u001b[0m\u001b[0;34m\u001b[0m\u001b[0m\n",
       "\u001b[0;31mType:\u001b[0m           RunModelMethod\n",
       "\u001b[0;31mString form:\u001b[0m    <credmark.cmf.model.context.RunModelMethod object at 0x7effc06f34f0>\n",
       "\u001b[0;31mFile:\u001b[0m           ~/mambaforge/envs/cm310-2/lib/python3.10/site-packages/credmark_model_framework-0.8.22-py3.10.egg/credmark/cmf/model/context.py\n",
       "\u001b[0;31mDocstring:\u001b[0m     \n",
       "jit.feed\n",
       "- slug: jit.feed\n",
       "- version: 1.0\n",
       "- displayName: None\n",
       "- description: None\n",
       "- developer: \n",
       "- tags: None\n",
       "- input schema (* for required field):\n",
       "  EmptyInput(object)\n",
       "- input example:\n",
       "  #01: {}\n",
       "- output schema (* for required field):\n",
       "  Object(object)\n",
       "- output example:\n",
       "  #01: {}\n",
       "- errors:\n",
       "  No defined errors\n",
       "- class: __main__.JitFeed\n"
      ]
     },
     "metadata": {},
     "output_type": "display_data"
    }
   ],
   "source": [
    "context.models.jit.feed?"
   ]
  },
  {
   "cell_type": "code",
   "execution_count": 36,
   "id": "d07f5086-be60-46d9-b60d-db04e4fc6858",
   "metadata": {},
   "outputs": [
    {
     "data": {
      "text/plain": [
       "{'feed': '0xAe74faA92cB67A95ebCAB07358bC222e33A34dA7'}"
      ]
     },
     "execution_count": 36,
     "metadata": {},
     "output_type": "execute_result"
    }
   ],
   "source": [
    "context.models.jit.feed()"
   ]
  },
  {
   "cell_type": "code",
   "execution_count": 37,
   "id": "be4a9098-3187-42b3-811a-d5656d548b49",
   "metadata": {},
   "outputs": [],
   "source": [
    "context.remove_model_by_slug('jit.feed')"
   ]
  },
  {
   "cell_type": "code",
   "execution_count": 38,
   "id": "9027a34b-4b57-455c-9b5d-e53f6e79312a",
   "metadata": {},
   "outputs": [
    {
     "data": {
      "text/plain": [
       "False"
      ]
     },
     "execution_count": 38,
     "metadata": {},
     "output_type": "execute_result"
    }
   ],
   "source": [
    "'jit.feed' in model_loader.loaded_model_version_lists()"
   ]
  },
  {
   "cell_type": "markdown",
   "id": "074bd734-0d6a-4920-a8f9-6b9850113fca",
   "metadata": {},
   "source": [
    "3. Update the model"
   ]
  },
  {
   "cell_type": "code",
   "execution_count": 42,
   "id": "adfdbc8b-fc4b-4ae7-83ad-42fee4477b68",
   "metadata": {},
   "outputs": [],
   "source": [
    "@Model.describe(\n",
    "    slug='jit.feed',\n",
    "    version='1.0',\n",
    "    input=EmptyInput,\n",
    "    output=dict)\n",
    "class JitFeed(Model):\n",
    "    def run(self, input):\n",
    "        feedreg = self.context.models.chainlink.get_feed_registry(return_type=Contract)\n",
    "        feed = feedreg.functions.getFeed(Address('0xeeeeeeeeeeeeeeeeeeeeeeeeeeeeeeeeeeeeeeee'),'0x0000000000000000000000000000000000000348').call()\n",
    "        return {'feed': feed}"
   ]
  },
  {
   "cell_type": "code",
   "execution_count": 43,
   "id": "b001758b-17d5-4205-ae31-32dc33775e62",
   "metadata": {},
   "outputs": [],
   "source": [
    "context.add_model(JitFeed)"
   ]
  },
  {
   "cell_type": "code",
   "execution_count": 65,
   "id": "a4288081-978b-4641-aea4-44ecbf6ba5ff",
   "metadata": {},
   "outputs": [
    {
     "data": {
      "text/plain": [
       "[{'anonymous': False,\n",
       "  'inputs': [{'indexed': False,\n",
       "    'internalType': 'address',\n",
       "    'name': 'user',\n",
       "    'type': 'address'}],\n",
       "  'name': 'AddedAccess',\n",
       "  'type': 'event'},\n",
       " {'anonymous': False,\n",
       "  'inputs': [{'indexed': True,\n",
       "    'internalType': 'int256',\n",
       "    'name': 'current',\n",
       "    'type': 'int256'},\n",
       "   {'indexed': True,\n",
       "    'internalType': 'uint256',\n",
       "    'name': 'roundId',\n",
       "    'type': 'uint256'},\n",
       "   {'indexed': False,\n",
       "    'internalType': 'uint256',\n",
       "    'name': 'updatedAt',\n",
       "    'type': 'uint256'}],\n",
       "  'name': 'AnswerUpdated',\n",
       "  'type': 'event'},\n",
       " {'anonymous': False,\n",
       "  'inputs': [{'indexed': False,\n",
       "    'internalType': 'contract AccessControllerInterface',\n",
       "    'name': 'old',\n",
       "    'type': 'address'},\n",
       "   {'indexed': False,\n",
       "    'internalType': 'contract AccessControllerInterface',\n",
       "    'name': 'current',\n",
       "    'type': 'address'}],\n",
       "  'name': 'BillingAccessControllerSet',\n",
       "  'type': 'event'},\n",
       " {'anonymous': False,\n",
       "  'inputs': [{'indexed': False,\n",
       "    'internalType': 'uint32',\n",
       "    'name': 'maximumGasPrice',\n",
       "    'type': 'uint32'},\n",
       "   {'indexed': False,\n",
       "    'internalType': 'uint32',\n",
       "    'name': 'reasonableGasPrice',\n",
       "    'type': 'uint32'},\n",
       "   {'indexed': False,\n",
       "    'internalType': 'uint32',\n",
       "    'name': 'microLinkPerEth',\n",
       "    'type': 'uint32'},\n",
       "   {'indexed': False,\n",
       "    'internalType': 'uint32',\n",
       "    'name': 'linkGweiPerObservation',\n",
       "    'type': 'uint32'},\n",
       "   {'indexed': False,\n",
       "    'internalType': 'uint32',\n",
       "    'name': 'linkGweiPerTransmission',\n",
       "    'type': 'uint32'}],\n",
       "  'name': 'BillingSet',\n",
       "  'type': 'event'},\n",
       " {'anonymous': False,\n",
       "  'inputs': [],\n",
       "  'name': 'CheckAccessDisabled',\n",
       "  'type': 'event'},\n",
       " {'anonymous': False,\n",
       "  'inputs': [],\n",
       "  'name': 'CheckAccessEnabled',\n",
       "  'type': 'event'},\n",
       " {'anonymous': False,\n",
       "  'inputs': [{'indexed': False,\n",
       "    'internalType': 'uint32',\n",
       "    'name': 'previousConfigBlockNumber',\n",
       "    'type': 'uint32'},\n",
       "   {'indexed': False,\n",
       "    'internalType': 'uint64',\n",
       "    'name': 'configCount',\n",
       "    'type': 'uint64'},\n",
       "   {'indexed': False,\n",
       "    'internalType': 'address[]',\n",
       "    'name': 'signers',\n",
       "    'type': 'address[]'},\n",
       "   {'indexed': False,\n",
       "    'internalType': 'address[]',\n",
       "    'name': 'transmitters',\n",
       "    'type': 'address[]'},\n",
       "   {'indexed': False,\n",
       "    'internalType': 'uint8',\n",
       "    'name': 'threshold',\n",
       "    'type': 'uint8'},\n",
       "   {'indexed': False,\n",
       "    'internalType': 'uint64',\n",
       "    'name': 'encodedConfigVersion',\n",
       "    'type': 'uint64'},\n",
       "   {'indexed': False,\n",
       "    'internalType': 'bytes',\n",
       "    'name': 'encoded',\n",
       "    'type': 'bytes'}],\n",
       "  'name': 'ConfigSet',\n",
       "  'type': 'event'},\n",
       " {'anonymous': False,\n",
       "  'inputs': [{'indexed': True,\n",
       "    'internalType': 'uint256',\n",
       "    'name': 'roundId',\n",
       "    'type': 'uint256'},\n",
       "   {'indexed': True,\n",
       "    'internalType': 'address',\n",
       "    'name': 'startedBy',\n",
       "    'type': 'address'},\n",
       "   {'indexed': False,\n",
       "    'internalType': 'uint256',\n",
       "    'name': 'startedAt',\n",
       "    'type': 'uint256'}],\n",
       "  'name': 'NewRound',\n",
       "  'type': 'event'},\n",
       " {'anonymous': False,\n",
       "  'inputs': [{'indexed': True,\n",
       "    'internalType': 'uint32',\n",
       "    'name': 'aggregatorRoundId',\n",
       "    'type': 'uint32'},\n",
       "   {'indexed': False,\n",
       "    'internalType': 'int192',\n",
       "    'name': 'answer',\n",
       "    'type': 'int192'},\n",
       "   {'indexed': False,\n",
       "    'internalType': 'address',\n",
       "    'name': 'transmitter',\n",
       "    'type': 'address'},\n",
       "   {'indexed': False,\n",
       "    'internalType': 'int192[]',\n",
       "    'name': 'observations',\n",
       "    'type': 'int192[]'},\n",
       "   {'indexed': False,\n",
       "    'internalType': 'bytes',\n",
       "    'name': 'observers',\n",
       "    'type': 'bytes'},\n",
       "   {'indexed': False,\n",
       "    'internalType': 'bytes32',\n",
       "    'name': 'rawReportContext',\n",
       "    'type': 'bytes32'}],\n",
       "  'name': 'NewTransmission',\n",
       "  'type': 'event'},\n",
       " {'anonymous': False,\n",
       "  'inputs': [{'indexed': False,\n",
       "    'internalType': 'address',\n",
       "    'name': 'transmitter',\n",
       "    'type': 'address'},\n",
       "   {'indexed': False,\n",
       "    'internalType': 'address',\n",
       "    'name': 'payee',\n",
       "    'type': 'address'},\n",
       "   {'indexed': False,\n",
       "    'internalType': 'uint256',\n",
       "    'name': 'amount',\n",
       "    'type': 'uint256'}],\n",
       "  'name': 'OraclePaid',\n",
       "  'type': 'event'},\n",
       " {'anonymous': False,\n",
       "  'inputs': [{'indexed': True,\n",
       "    'internalType': 'address',\n",
       "    'name': 'from',\n",
       "    'type': 'address'},\n",
       "   {'indexed': True,\n",
       "    'internalType': 'address',\n",
       "    'name': 'to',\n",
       "    'type': 'address'}],\n",
       "  'name': 'OwnershipTransferRequested',\n",
       "  'type': 'event'},\n",
       " {'anonymous': False,\n",
       "  'inputs': [{'indexed': True,\n",
       "    'internalType': 'address',\n",
       "    'name': 'from',\n",
       "    'type': 'address'},\n",
       "   {'indexed': True,\n",
       "    'internalType': 'address',\n",
       "    'name': 'to',\n",
       "    'type': 'address'}],\n",
       "  'name': 'OwnershipTransferred',\n",
       "  'type': 'event'},\n",
       " {'anonymous': False,\n",
       "  'inputs': [{'indexed': True,\n",
       "    'internalType': 'address',\n",
       "    'name': 'transmitter',\n",
       "    'type': 'address'},\n",
       "   {'indexed': True,\n",
       "    'internalType': 'address',\n",
       "    'name': 'current',\n",
       "    'type': 'address'},\n",
       "   {'indexed': True,\n",
       "    'internalType': 'address',\n",
       "    'name': 'proposed',\n",
       "    'type': 'address'}],\n",
       "  'name': 'PayeeshipTransferRequested',\n",
       "  'type': 'event'},\n",
       " {'anonymous': False,\n",
       "  'inputs': [{'indexed': True,\n",
       "    'internalType': 'address',\n",
       "    'name': 'transmitter',\n",
       "    'type': 'address'},\n",
       "   {'indexed': True,\n",
       "    'internalType': 'address',\n",
       "    'name': 'previous',\n",
       "    'type': 'address'},\n",
       "   {'indexed': True,\n",
       "    'internalType': 'address',\n",
       "    'name': 'current',\n",
       "    'type': 'address'}],\n",
       "  'name': 'PayeeshipTransferred',\n",
       "  'type': 'event'},\n",
       " {'anonymous': False,\n",
       "  'inputs': [{'indexed': False,\n",
       "    'internalType': 'address',\n",
       "    'name': 'user',\n",
       "    'type': 'address'}],\n",
       "  'name': 'RemovedAccess',\n",
       "  'type': 'event'},\n",
       " {'anonymous': False,\n",
       "  'inputs': [{'indexed': False,\n",
       "    'internalType': 'contract AccessControllerInterface',\n",
       "    'name': 'old',\n",
       "    'type': 'address'},\n",
       "   {'indexed': False,\n",
       "    'internalType': 'contract AccessControllerInterface',\n",
       "    'name': 'current',\n",
       "    'type': 'address'}],\n",
       "  'name': 'RequesterAccessControllerSet',\n",
       "  'type': 'event'},\n",
       " {'anonymous': False,\n",
       "  'inputs': [{'indexed': True,\n",
       "    'internalType': 'address',\n",
       "    'name': 'requester',\n",
       "    'type': 'address'},\n",
       "   {'indexed': False,\n",
       "    'internalType': 'bytes16',\n",
       "    'name': 'configDigest',\n",
       "    'type': 'bytes16'},\n",
       "   {'indexed': False,\n",
       "    'internalType': 'uint32',\n",
       "    'name': 'epoch',\n",
       "    'type': 'uint32'},\n",
       "   {'indexed': False,\n",
       "    'internalType': 'uint8',\n",
       "    'name': 'round',\n",
       "    'type': 'uint8'}],\n",
       "  'name': 'RoundRequested',\n",
       "  'type': 'event'},\n",
       " {'anonymous': False,\n",
       "  'inputs': [{'indexed': True,\n",
       "    'internalType': 'contract AggregatorValidatorInterface',\n",
       "    'name': 'previousValidator',\n",
       "    'type': 'address'},\n",
       "   {'indexed': False,\n",
       "    'internalType': 'uint32',\n",
       "    'name': 'previousGasLimit',\n",
       "    'type': 'uint32'},\n",
       "   {'indexed': True,\n",
       "    'internalType': 'contract AggregatorValidatorInterface',\n",
       "    'name': 'currentValidator',\n",
       "    'type': 'address'},\n",
       "   {'indexed': False,\n",
       "    'internalType': 'uint32',\n",
       "    'name': 'currentGasLimit',\n",
       "    'type': 'uint32'}],\n",
       "  'name': 'ValidatorConfigSet',\n",
       "  'type': 'event'}]"
      ]
     },
     "execution_count": 65,
     "metadata": {},
     "output_type": "execute_result"
    }
   ],
   "source": [
    "[v for v in cc.abi if v['type'] == 'event' and v['name'] != 'aggregator' ]"
   ]
  },
  {
   "cell_type": "code",
   "execution_count": 59,
   "id": "9e0f6ece-0741-4a8e-a923-449e1507f5d8",
   "metadata": {},
   "outputs": [
    {
     "data": {
      "text/plain": [
       "[]"
      ]
     },
     "execution_count": 59,
     "metadata": {},
     "output_type": "execute_result"
    }
   ],
   "source": [
    "cc = Contract(address=Address('0x37bC7498f4FF12C19678ee8fE19d713b87F6a9e6'))"
   ]
  },
  {
   "cell_type": "code",
   "execution_count": 44,
   "id": "9d003086-7391-4f53-8731-4c5992ad6860",
   "metadata": {},
   "outputs": [
    {
     "data": {
      "text/plain": [
       "{'feed': '0x37bC7498f4FF12C19678ee8fE19d713b87F6a9e6'}"
      ]
     },
     "execution_count": 44,
     "metadata": {},
     "output_type": "execute_result"
    }
   ],
   "source": [
    "context.models.jit.feed()"
   ]
  },
  {
   "cell_type": "code",
   "execution_count": 49,
   "id": "5a9b8282-7972-4cc7-9940-4af43df38057",
   "metadata": {},
   "outputs": [],
   "source": [
    "@Model.describe(\n",
    "    slug='jit.feed',\n",
    "    version='1.0',\n",
    "    input=EmptyInput,\n",
    "    output=dict)\n",
    "class JitFeed(Model):\n",
    "    def run(self, input):\n",
    "        # feedreg = self.context.models.chainlink.get_feed_registry(return_type=Contract)\n",
    "        # feed = feedreg.functions.getFeed(Address('0xeeeeeeeeeeeeeeeeeeeeeeeeeeeeeeeeeeeeeeee'),'0x0000000000000000000000000000000000000348').call()\n",
    "        # cc = Contract(address=Address(feed))\n",
    "        # print(feed)\n",
    "        cc = Contract(address=Address('0x37bC7498f4FF12C19678ee8fE19d713b87F6a9e6'))\n",
    "        price = self.context.models.chainlink.price_by_feed(cc, return_type=Price).price\n",
    "        return {'price': price}"
   ]
  },
  {
   "cell_type": "code",
   "execution_count": 52,
   "id": "8ae4ba97-5a64-48ed-aea0-12e7d37b3ab6",
   "metadata": {},
   "outputs": [
    {
     "data": {
      "text/plain": [
       "datetime.datetime(2021, 5, 6, 18, 43, 55, tzinfo=datetime.timezone.utc)"
      ]
     },
     "execution_count": 52,
     "metadata": {},
     "output_type": "execute_result"
    }
   ],
   "source": [
    "BlockNumber(12382429).timestamp_datetime"
   ]
  },
  {
   "cell_type": "code",
   "execution_count": 50,
   "id": "3e70877a-06be-4a69-b400-b8e6b1870c3b",
   "metadata": {},
   "outputs": [],
   "source": [
    "context.add_model(JitFeed)"
   ]
  },
  {
   "cell_type": "code",
   "execution_count": 56,
   "id": "ebfaf714-eb1b-48be-9ed8-d5ebd8c9cb8c",
   "metadata": {},
   "outputs": [
    {
     "name": "stderr",
     "output_type": "stream",
     "text": [
      "Exception running model chainlink.price-by-feed(address='0x37bc7498f4ff12c19678ee8fe19d713b87f6a9e6') on chain 1 block 12981067 (2021-08-08 00:00:00) with (\"The function 'aggregator' was not found in this contract's abi. \", 'Are you sure you provided the correct contract abi?')\n",
      "Traceback (most recent call last):\n",
      "  File \"/home/yangye/mambaforge/envs/cm310-2/lib/python3.10/site-packages/credmark_model_framework-0.8.22-py3.10.egg/credmark/cmf/engine/context.py\", line 625, in _run_local_model_with_class\n",
      "    output = model.run(input)\n",
      "  File \"/home/yangye/dev/credmark/credmark-models-py/notebook/../models/credmark/protocols/oracle/chainlink.py\", line 61, in run\n",
      "    feed = feed_contract.functions.aggregator().call()\n",
      "  File \"/home/yangye/mambaforge/envs/cm310-2/lib/python3.10/site-packages/web3/contract.py\", line 194, in __getattr__\n",
      "    raise ABIFunctionNotFound(\n",
      "web3.exceptions.ABIFunctionNotFound: (\"The function 'aggregator' was not found in this contract's abi. \", 'Are you sure you provided the correct contract abi?')\n"
     ]
    },
    {
     "ename": "ModelRunError",
     "evalue": "Exception running model chainlink.price-by-feed(address='0x37bc7498f4ff12c19678ee8fe19d713b87f6a9e6') on chain 1 block 12981067 (2021-08-08 00:00:00) with (\"The function 'aggregator' was not found in this contract's abi. \", 'Are you sure you provided the correct contract abi?')",
     "output_type": "error",
     "traceback": [
      "\u001b[0;31m---------------------------------------------------------------------------\u001b[0m",
      "\u001b[0;31mABIFunctionNotFound\u001b[0m                       Traceback (most recent call last)",
      "File \u001b[0;32m~/mambaforge/envs/cm310-2/lib/python3.10/site-packages/credmark_model_framework-0.8.22-py3.10.egg/credmark/cmf/engine/context.py:625\u001b[0m, in \u001b[0;36mEngineModelContext._run_local_model_with_class\u001b[0;34m(self, slug, input, block_number, version, model_class)\u001b[0m\n\u001b[1;32m    622\u001b[0m     \u001b[38;5;28mself\u001b[39m\u001b[38;5;241m.\u001b[39mdebug_logger\u001b[38;5;241m.\u001b[39mdebug(\n\u001b[1;32m    623\u001b[0m         \u001b[38;5;124mf\u001b[39m\u001b[38;5;124m\"\u001b[39m\u001b[38;5;124m> Run model \u001b[39m\u001b[38;5;124m'\u001b[39m\u001b[38;5;132;01m{\u001b[39;00mslug\u001b[38;5;132;01m}\u001b[39;00m\u001b[38;5;124m'\u001b[39m\u001b[38;5;124m input: \u001b[39m\u001b[38;5;132;01m{\u001b[39;00m\u001b[38;5;28minput\u001b[39m\u001b[38;5;132;01m}\u001b[39;00m\u001b[38;5;124m block_number: \u001b[39m\u001b[38;5;132;01m{\u001b[39;00mblock_number\u001b[38;5;132;01m}\u001b[39;00m\u001b[38;5;124m\"\u001b[39m)\n\u001b[0;32m--> 625\u001b[0m output \u001b[38;5;241m=\u001b[39m \u001b[43mmodel\u001b[49m\u001b[38;5;241;43m.\u001b[39;49m\u001b[43mrun\u001b[49m\u001b[43m(\u001b[49m\u001b[38;5;28;43minput\u001b[39;49m\u001b[43m)\u001b[49m\n\u001b[1;32m    627\u001b[0m \u001b[38;5;28;01mtry\u001b[39;00m:\n\u001b[1;32m    628\u001b[0m     \u001b[38;5;66;03m# transform to the defined outputDTO for validation of output\u001b[39;00m\n",
      "File \u001b[0;32m~/dev/credmark/credmark-models-py/notebook/../models/credmark/protocols/oracle/chainlink.py:61\u001b[0m, in \u001b[0;36mChainLinkPriceByFeed.run\u001b[0;34m(self, input)\u001b[0m\n\u001b[1;32m     60\u001b[0m version \u001b[38;5;241m=\u001b[39m feed_contract\u001b[38;5;241m.\u001b[39mfunctions\u001b[38;5;241m.\u001b[39mversion()\u001b[38;5;241m.\u001b[39mcall()\n\u001b[0;32m---> 61\u001b[0m feed \u001b[38;5;241m=\u001b[39m \u001b[43mfeed_contract\u001b[49m\u001b[38;5;241;43m.\u001b[39;49m\u001b[43mfunctions\u001b[49m\u001b[38;5;241;43m.\u001b[39;49m\u001b[43maggregator\u001b[49m()\u001b[38;5;241m.\u001b[39mcall()\n\u001b[1;32m     62\u001b[0m isFeedEnabled \u001b[38;5;241m=\u001b[39m \u001b[38;5;28;01mNone\u001b[39;00m\n",
      "File \u001b[0;32m~/mambaforge/envs/cm310-2/lib/python3.10/site-packages/web3/contract.py:194\u001b[0m, in \u001b[0;36mContractFunctions.__getattr__\u001b[0;34m(self, function_name)\u001b[0m\n\u001b[1;32m    193\u001b[0m \u001b[38;5;28;01melif\u001b[39;00m function_name \u001b[38;5;129;01mnot\u001b[39;00m \u001b[38;5;129;01min\u001b[39;00m \u001b[38;5;28mself\u001b[39m\u001b[38;5;241m.\u001b[39m\u001b[38;5;18m__dict__\u001b[39m[\u001b[38;5;124m'\u001b[39m\u001b[38;5;124m_functions\u001b[39m\u001b[38;5;124m'\u001b[39m]:\n\u001b[0;32m--> 194\u001b[0m     \u001b[38;5;28;01mraise\u001b[39;00m ABIFunctionNotFound(\n\u001b[1;32m    195\u001b[0m         \u001b[38;5;124m\"\u001b[39m\u001b[38;5;124mThe function \u001b[39m\u001b[38;5;124m'\u001b[39m\u001b[38;5;132;01m{}\u001b[39;00m\u001b[38;5;124m'\u001b[39m\u001b[38;5;124m was not found in this contract\u001b[39m\u001b[38;5;124m'\u001b[39m\u001b[38;5;124ms abi. \u001b[39m\u001b[38;5;124m\"\u001b[39m\u001b[38;5;241m.\u001b[39mformat(function_name),\n\u001b[1;32m    196\u001b[0m         \u001b[38;5;124m\"\u001b[39m\u001b[38;5;124mAre you sure you provided the correct contract abi?\u001b[39m\u001b[38;5;124m\"\u001b[39m\n\u001b[1;32m    197\u001b[0m     )\n\u001b[1;32m    198\u001b[0m \u001b[38;5;28;01melse\u001b[39;00m:\n",
      "\u001b[0;31mABIFunctionNotFound\u001b[0m: (\"The function 'aggregator' was not found in this contract's abi. \", 'Are you sure you provided the correct contract abi?')",
      "\nDuring handling of the above exception, another exception occurred:\n",
      "\u001b[0;31mModelRunError\u001b[0m                             Traceback (most recent call last)",
      "Input \u001b[0;32mIn [56]\u001b[0m, in \u001b[0;36m<cell line: 1>\u001b[0;34m()\u001b[0m\n\u001b[0;32m----> 1\u001b[0m \u001b[43mcontext\u001b[49m\u001b[38;5;241;43m.\u001b[39;49m\u001b[43mmodels\u001b[49m\u001b[43m(\u001b[49m\u001b[43mget_block\u001b[49m\u001b[43m(\u001b[49m\u001b[43mget_dt\u001b[49m\u001b[43m(\u001b[49m\u001b[38;5;241;43m2021\u001b[39;49m\u001b[43m,\u001b[49m\u001b[43m \u001b[49m\u001b[38;5;241;43m8\u001b[39;49m\u001b[43m,\u001b[49m\u001b[43m \u001b[49m\u001b[38;5;241;43m8\u001b[39;49m\u001b[43m)\u001b[49m\u001b[43m)\u001b[49m\u001b[43m)\u001b[49m\u001b[38;5;241;43m.\u001b[39;49m\u001b[43mjit\u001b[49m\u001b[38;5;241;43m.\u001b[39;49m\u001b[43mfeed\u001b[49m\u001b[43m(\u001b[49m\u001b[43m)\u001b[49m\n",
      "File \u001b[0;32m~/mambaforge/envs/cm310-2/lib/python3.10/site-packages/credmark_model_framework-0.8.22-py3.10.egg/credmark/cmf/model/context.py:71\u001b[0m, in \u001b[0;36mRunModelMethod.__call__\u001b[0;34m(self, input, return_type, **kwargs)\u001b[0m\n\u001b[1;32m     68\u001b[0m \u001b[38;5;28;01melif\u001b[39;00m \u001b[38;5;28minput\u001b[39m \u001b[38;5;129;01mis\u001b[39;00m \u001b[38;5;28;01mNone\u001b[39;00m:\n\u001b[1;32m     69\u001b[0m     \u001b[38;5;28minput\u001b[39m \u001b[38;5;241m=\u001b[39m kwargs\n\u001b[0;32m---> 71\u001b[0m \u001b[38;5;28;01mreturn\u001b[39;00m \u001b[38;5;28;43mself\u001b[39;49m\u001b[38;5;241;43m.\u001b[39;49m\u001b[43m__context\u001b[49m\u001b[38;5;241;43m.\u001b[39;49m\u001b[43mrun_model\u001b[49m\u001b[43m(\u001b[49m\n\u001b[1;32m     72\u001b[0m \u001b[43m    \u001b[49m\u001b[38;5;124;43mf\u001b[39;49m\u001b[38;5;124;43m\"\u001b[39;49m\u001b[38;5;132;43;01m{\u001b[39;49;00m\u001b[38;5;28;43mself\u001b[39;49m\u001b[38;5;241;43m.\u001b[39;49m\u001b[43m__prefix\u001b[49m\u001b[38;5;241;43m.\u001b[39;49m\u001b[43mreplace\u001b[49m\u001b[43m(\u001b[49m\u001b[38;5;124;43m'\u001b[39;49m\u001b[38;5;124;43m_\u001b[39;49m\u001b[38;5;124;43m'\u001b[39;49m\u001b[43m,\u001b[49m\u001b[43m \u001b[49m\u001b[38;5;124;43m'\u001b[39;49m\u001b[38;5;124;43m-\u001b[39;49m\u001b[38;5;124;43m'\u001b[39;49m\u001b[43m)\u001b[49m\u001b[38;5;132;43;01m}\u001b[39;49;00m\u001b[38;5;124;43m\"\u001b[39;49m\u001b[43m,\u001b[49m\n\u001b[1;32m     73\u001b[0m \u001b[43m    \u001b[49m\u001b[38;5;28;43minput\u001b[39;49m\u001b[43m,\u001b[49m\u001b[43m \u001b[49m\u001b[43mblock_number\u001b[49m\u001b[38;5;241;43m=\u001b[39;49m\u001b[38;5;28;43mself\u001b[39;49m\u001b[38;5;241;43m.\u001b[39;49m\u001b[43m__block_number\u001b[49m\u001b[43m,\u001b[49m\n\u001b[1;32m     74\u001b[0m \u001b[43m    \u001b[49m\u001b[43mreturn_type\u001b[49m\u001b[38;5;241;43m=\u001b[39;49m\u001b[43mreturn_type\u001b[49m\u001b[43m)\u001b[49m\n",
      "File \u001b[0;32m~/mambaforge/envs/cm310-2/lib/python3.10/site-packages/credmark_model_framework-0.8.22-py3.10.egg/credmark/cmf/engine/context.py:379\u001b[0m, in \u001b[0;36mEngineModelContext.run_model\u001b[0;34m(self, slug, input, return_type, block_number, version)\u001b[0m\n\u001b[1;32m    374\u001b[0m \u001b[38;5;28;01mif\u001b[39;00m block_number \u001b[38;5;129;01mis\u001b[39;00m \u001b[38;5;129;01mnot\u001b[39;00m \u001b[38;5;28;01mNone\u001b[39;00m \u001b[38;5;129;01mand\u001b[39;00m block_number \u001b[38;5;241m>\u001b[39m \u001b[38;5;28mself\u001b[39m\u001b[38;5;241m.\u001b[39mblock_number:\n\u001b[1;32m    375\u001b[0m     \u001b[38;5;28;01mraise\u001b[39;00m ModelInvalidStateError(\n\u001b[1;32m    376\u001b[0m         \u001b[38;5;124mf\u001b[39m\u001b[38;5;124m'\u001b[39m\u001b[38;5;124mAttempt to run model \u001b[39m\u001b[38;5;132;01m{\u001b[39;00mslug\u001b[38;5;132;01m}\u001b[39;00m\u001b[38;5;124m at context block \u001b[39m\u001b[38;5;132;01m{\u001b[39;00m\u001b[38;5;28mself\u001b[39m\u001b[38;5;241m.\u001b[39mblock_number\u001b[38;5;132;01m}\u001b[39;00m\u001b[38;5;124m \u001b[39m\u001b[38;5;124m'\u001b[39m\n\u001b[1;32m    377\u001b[0m         \u001b[38;5;124mf\u001b[39m\u001b[38;5;124m'\u001b[39m\u001b[38;5;124mwith future block \u001b[39m\u001b[38;5;132;01m{\u001b[39;00mblock_number\u001b[38;5;132;01m}\u001b[39;00m\u001b[38;5;124m'\u001b[39m)\n\u001b[0;32m--> 379\u001b[0m res_tuple \u001b[38;5;241m=\u001b[39m \u001b[38;5;28;43mself\u001b[39;49m\u001b[38;5;241;43m.\u001b[39;49m\u001b[43m_run_model\u001b[49m\u001b[43m(\u001b[49m\u001b[43mslug\u001b[49m\u001b[43m,\u001b[49m\u001b[43m \u001b[49m\u001b[38;5;28;43minput\u001b[39;49m\u001b[43m,\u001b[49m\u001b[43m \u001b[49m\u001b[43mblock_number\u001b[49m\u001b[43m,\u001b[49m\u001b[43m \u001b[49m\u001b[43mversion\u001b[49m\u001b[43m)\u001b[49m\n\u001b[1;32m    381\u001b[0m \u001b[38;5;66;03m# The last item of the tuple is the output.\u001b[39;00m\n\u001b[1;32m    382\u001b[0m output \u001b[38;5;241m=\u001b[39m res_tuple[\u001b[38;5;241m-\u001b[39m\u001b[38;5;241m1\u001b[39m]\n",
      "File \u001b[0;32m~/mambaforge/envs/cm310-2/lib/python3.10/site-packages/credmark_model_framework-0.8.22-py3.10.egg/credmark/cmf/engine/context.py:450\u001b[0m, in \u001b[0;36mEngineModelContext._run_model\u001b[0;34m(self, slug, input, block_number, version)\u001b[0m\n\u001b[1;32m    447\u001b[0m     \u001b[38;5;28;01mif\u001b[39;00m \u001b[38;5;28mself\u001b[39m\u001b[38;5;241m.\u001b[39m__depth \u001b[38;5;241m>\u001b[39m\u001b[38;5;241m=\u001b[39m \u001b[38;5;28mself\u001b[39m\u001b[38;5;241m.\u001b[39mmax_run_depth:\n\u001b[1;32m    448\u001b[0m         \u001b[38;5;28;01mraise\u001b[39;00m MaxModelRunDepthError(\u001b[38;5;124mf\u001b[39m\u001b[38;5;124m'\u001b[39m\u001b[38;5;124mMax model run depth hit \u001b[39m\u001b[38;5;132;01m{\u001b[39;00m\u001b[38;5;28mself\u001b[39m\u001b[38;5;241m.\u001b[39m__depth\u001b[38;5;132;01m}\u001b[39;00m\u001b[38;5;124m'\u001b[39m)\n\u001b[0;32m--> 450\u001b[0m     \u001b[38;5;28;01mreturn\u001b[39;00m \u001b[38;5;28;43mself\u001b[39;49m\u001b[38;5;241;43m.\u001b[39;49m\u001b[43m_run_model_with_class\u001b[49m\u001b[43m(\u001b[49m\n\u001b[1;32m    451\u001b[0m \u001b[43m        \u001b[49m\u001b[43mslug\u001b[49m\u001b[43m,\u001b[49m\n\u001b[1;32m    452\u001b[0m \u001b[43m        \u001b[49m\u001b[38;5;28;43minput\u001b[39;49m\u001b[43m,\u001b[49m\n\u001b[1;32m    453\u001b[0m \u001b[43m        \u001b[49m\u001b[43mblock_number\u001b[49m\u001b[43m,\u001b[49m\n\u001b[1;32m    454\u001b[0m \u001b[43m        \u001b[49m\u001b[43mversion\u001b[49m\u001b[43m,\u001b[49m\n\u001b[1;32m    455\u001b[0m \u001b[43m        \u001b[49m\u001b[43mmodel_class\u001b[49m\u001b[43m,\u001b[49m\n\u001b[1;32m    456\u001b[0m \u001b[43m        \u001b[49m\u001b[43muse_local\u001b[49m\u001b[43m,\u001b[49m\n\u001b[1;32m    457\u001b[0m \u001b[43m        \u001b[49m\u001b[43mtry_remote\u001b[49m\u001b[43m)\u001b[49m\n\u001b[1;32m    458\u001b[0m \u001b[38;5;28;01mfinally\u001b[39;00m:\n\u001b[1;32m    459\u001b[0m     \u001b[38;5;28mself\u001b[39m\u001b[38;5;241m.\u001b[39m__depth \u001b[38;5;241m-\u001b[39m\u001b[38;5;241m=\u001b[39m \u001b[38;5;241m1\u001b[39m\n",
      "File \u001b[0;32m~/mambaforge/envs/cm310-2/lib/python3.10/site-packages/credmark_model_framework-0.8.22-py3.10.egg/credmark/cmf/engine/context.py:506\u001b[0m, in \u001b[0;36mEngineModelContext._run_model_with_class\u001b[0;34m(self, slug, input, block_number, version, model_class, use_local, try_remote)\u001b[0m\n\u001b[1;32m    502\u001b[0m debug_log \u001b[38;5;241m=\u001b[39m \u001b[38;5;28mself\u001b[39m\u001b[38;5;241m.\u001b[39mdebug_logger\u001b[38;5;241m.\u001b[39misEnabledFor(logging\u001b[38;5;241m.\u001b[39mDEBUG)\n\u001b[1;32m    504\u001b[0m \u001b[38;5;28;01mif\u001b[39;00m use_local \u001b[38;5;129;01mand\u001b[39;00m model_class \u001b[38;5;129;01mis\u001b[39;00m \u001b[38;5;129;01mnot\u001b[39;00m \u001b[38;5;28;01mNone\u001b[39;00m:\n\u001b[0;32m--> 506\u001b[0m     slug, version, output \u001b[38;5;241m=\u001b[39m \u001b[38;5;28;43mself\u001b[39;49m\u001b[38;5;241;43m.\u001b[39;49m\u001b[43m_run_local_model_with_class\u001b[49m\u001b[43m(\u001b[49m\n\u001b[1;32m    507\u001b[0m \u001b[43m        \u001b[49m\u001b[43mslug\u001b[49m\u001b[43m,\u001b[49m\n\u001b[1;32m    508\u001b[0m \u001b[43m        \u001b[49m\u001b[38;5;28;43minput\u001b[39;49m\u001b[43m,\u001b[49m\n\u001b[1;32m    509\u001b[0m \u001b[43m        \u001b[49m\u001b[43mblock_number\u001b[49m\u001b[43m,\u001b[49m\n\u001b[1;32m    510\u001b[0m \u001b[43m        \u001b[49m\u001b[43mversion\u001b[49m\u001b[43m,\u001b[49m\n\u001b[1;32m    511\u001b[0m \u001b[43m        \u001b[49m\u001b[43mmodel_class\u001b[49m\u001b[43m)\u001b[49m\n\u001b[1;32m    513\u001b[0m \u001b[38;5;28;01melif\u001b[39;00m try_remote \u001b[38;5;129;01mand\u001b[39;00m api \u001b[38;5;129;01mis\u001b[39;00m \u001b[38;5;129;01mnot\u001b[39;00m \u001b[38;5;28;01mNone\u001b[39;00m:\n\u001b[1;32m    514\u001b[0m     run_block_number \u001b[38;5;241m=\u001b[39m block_number \u001b[38;5;28;01mif\u001b[39;00m block_number \u001b[38;5;129;01mis\u001b[39;00m \u001b[38;5;129;01mnot\u001b[39;00m \u001b[38;5;28;01mNone\u001b[39;00m \u001b[38;5;28;01melse\u001b[39;00m \u001b[38;5;28mself\u001b[39m\u001b[38;5;241m.\u001b[39mblock_number\n",
      "File \u001b[0;32m~/mambaforge/envs/cm310-2/lib/python3.10/site-packages/credmark_model_framework-0.8.22-py3.10.egg/credmark/cmf/engine/context.py:694\u001b[0m, in \u001b[0;36mEngineModelContext._run_local_model_with_class\u001b[0;34m(self, slug, input, block_number, version, model_class)\u001b[0m\n\u001b[1;32m    684\u001b[0m     err\u001b[38;5;241m.\u001b[39mdata\u001b[38;5;241m.\u001b[39mstack\u001b[38;5;241m.\u001b[39minsert(\u001b[38;5;241m0\u001b[39m,\n\u001b[1;32m    685\u001b[0m                           ModelCallStackEntry(\n\u001b[1;32m    686\u001b[0m                               slug\u001b[38;5;241m=\u001b[39mslug,\n\u001b[0;32m   (...)\u001b[0m\n\u001b[1;32m    689\u001b[0m                               blockNumber\u001b[38;5;241m=\u001b[39mcontext\u001b[38;5;241m.\u001b[39mblock_number,\n\u001b[1;32m    690\u001b[0m                               trace\u001b[38;5;241m=\u001b[39mtrace \u001b[38;5;28;01mif\u001b[39;00m trace \u001b[38;5;129;01mis\u001b[39;00m \u001b[38;5;129;01mnot\u001b[39;00m \u001b[38;5;28;01mNone\u001b[39;00m \u001b[38;5;28;01melse\u001b[39;00m \u001b[38;5;28;01mNone\u001b[39;00m))\n\u001b[1;32m    692\u001b[0m     EngineModelContext\u001b[38;5;241m.\u001b[39mnotify_model_run(slug, model_class\u001b[38;5;241m.\u001b[39mversion, context\u001b[38;5;241m.\u001b[39mchain_id,\n\u001b[1;32m    693\u001b[0m                                         context\u001b[38;5;241m.\u001b[39mblock_number, \u001b[38;5;28minput\u001b[39m, \u001b[38;5;28;01mNone\u001b[39;00m, err)\n\u001b[0;32m--> 694\u001b[0m     \u001b[38;5;28;01mraise\u001b[39;00m err\n\u001b[1;32m    696\u001b[0m \u001b[38;5;28;01mfinally\u001b[39;00m:\n\u001b[1;32m    697\u001b[0m     context\u001b[38;5;241m.\u001b[39mis_active \u001b[38;5;241m=\u001b[39m \u001b[38;5;28;01mFalse\u001b[39;00m\n",
      "File \u001b[0;32m~/mambaforge/envs/cm310-2/lib/python3.10/site-packages/credmark_model_framework-0.8.22-py3.10.egg/credmark/cmf/engine/context.py:625\u001b[0m, in \u001b[0;36mEngineModelContext._run_local_model_with_class\u001b[0;34m(self, slug, input, block_number, version, model_class)\u001b[0m\n\u001b[1;32m    621\u001b[0m \u001b[38;5;28;01mif\u001b[39;00m debug_log:\n\u001b[1;32m    622\u001b[0m     \u001b[38;5;28mself\u001b[39m\u001b[38;5;241m.\u001b[39mdebug_logger\u001b[38;5;241m.\u001b[39mdebug(\n\u001b[1;32m    623\u001b[0m         \u001b[38;5;124mf\u001b[39m\u001b[38;5;124m\"\u001b[39m\u001b[38;5;124m> Run model \u001b[39m\u001b[38;5;124m'\u001b[39m\u001b[38;5;132;01m{\u001b[39;00mslug\u001b[38;5;132;01m}\u001b[39;00m\u001b[38;5;124m'\u001b[39m\u001b[38;5;124m input: \u001b[39m\u001b[38;5;132;01m{\u001b[39;00m\u001b[38;5;28minput\u001b[39m\u001b[38;5;132;01m}\u001b[39;00m\u001b[38;5;124m block_number: \u001b[39m\u001b[38;5;132;01m{\u001b[39;00mblock_number\u001b[38;5;132;01m}\u001b[39;00m\u001b[38;5;124m\"\u001b[39m)\n\u001b[0;32m--> 625\u001b[0m output \u001b[38;5;241m=\u001b[39m \u001b[43mmodel\u001b[49m\u001b[38;5;241;43m.\u001b[39;49m\u001b[43mrun\u001b[49m\u001b[43m(\u001b[49m\u001b[38;5;28;43minput\u001b[39;49m\u001b[43m)\u001b[49m\n\u001b[1;32m    627\u001b[0m \u001b[38;5;28;01mtry\u001b[39;00m:\n\u001b[1;32m    628\u001b[0m     \u001b[38;5;66;03m# transform to the defined outputDTO for validation of output\u001b[39;00m\n\u001b[1;32m    629\u001b[0m     output \u001b[38;5;241m=\u001b[39m transform_data_for_dto(output, model_class\u001b[38;5;241m.\u001b[39moutputDTO, slug, \u001b[38;5;124m'\u001b[39m\u001b[38;5;124moutput\u001b[39m\u001b[38;5;124m'\u001b[39m)\n",
      "Input \u001b[0;32mIn [49]\u001b[0m, in \u001b[0;36mJitFeed.run\u001b[0;34m(self, input)\u001b[0m\n\u001b[1;32m      7\u001b[0m \u001b[38;5;28;01mdef\u001b[39;00m \u001b[38;5;21mrun\u001b[39m(\u001b[38;5;28mself\u001b[39m, \u001b[38;5;28minput\u001b[39m):\n\u001b[1;32m      8\u001b[0m     \u001b[38;5;66;03m# feedreg = self.context.models.chainlink.get_feed_registry(return_type=Contract)\u001b[39;00m\n\u001b[1;32m      9\u001b[0m     \u001b[38;5;66;03m# feed = feedreg.functions.getFeed(Address('0xeeeeeeeeeeeeeeeeeeeeeeeeeeeeeeeeeeeeeeee'),'0x0000000000000000000000000000000000000348').call()\u001b[39;00m\n\u001b[1;32m     10\u001b[0m     \u001b[38;5;66;03m# cc = Contract(address=Address(feed))\u001b[39;00m\n\u001b[1;32m     11\u001b[0m     \u001b[38;5;66;03m# print(feed)\u001b[39;00m\n\u001b[1;32m     12\u001b[0m     cc \u001b[38;5;241m=\u001b[39m Contract(address\u001b[38;5;241m=\u001b[39mAddress(\u001b[38;5;124m'\u001b[39m\u001b[38;5;124m0x37bC7498f4FF12C19678ee8fE19d713b87F6a9e6\u001b[39m\u001b[38;5;124m'\u001b[39m))\n\u001b[0;32m---> 13\u001b[0m     price \u001b[38;5;241m=\u001b[39m \u001b[38;5;28;43mself\u001b[39;49m\u001b[38;5;241;43m.\u001b[39;49m\u001b[43mcontext\u001b[49m\u001b[38;5;241;43m.\u001b[39;49m\u001b[43mmodels\u001b[49m\u001b[38;5;241;43m.\u001b[39;49m\u001b[43mchainlink\u001b[49m\u001b[38;5;241;43m.\u001b[39;49m\u001b[43mprice_by_feed\u001b[49m\u001b[43m(\u001b[49m\u001b[43mcc\u001b[49m\u001b[43m,\u001b[49m\u001b[43m \u001b[49m\u001b[43mreturn_type\u001b[49m\u001b[38;5;241;43m=\u001b[39;49m\u001b[43mPrice\u001b[49m\u001b[43m)\u001b[49m\u001b[38;5;241m.\u001b[39mprice\n\u001b[1;32m     14\u001b[0m     \u001b[38;5;28;01mreturn\u001b[39;00m {\u001b[38;5;124m'\u001b[39m\u001b[38;5;124mprice\u001b[39m\u001b[38;5;124m'\u001b[39m: price}\n",
      "File \u001b[0;32m~/mambaforge/envs/cm310-2/lib/python3.10/site-packages/credmark_model_framework-0.8.22-py3.10.egg/credmark/cmf/model/context.py:71\u001b[0m, in \u001b[0;36mRunModelMethod.__call__\u001b[0;34m(self, input, return_type, **kwargs)\u001b[0m\n\u001b[1;32m     68\u001b[0m \u001b[38;5;28;01melif\u001b[39;00m \u001b[38;5;28minput\u001b[39m \u001b[38;5;129;01mis\u001b[39;00m \u001b[38;5;28;01mNone\u001b[39;00m:\n\u001b[1;32m     69\u001b[0m     \u001b[38;5;28minput\u001b[39m \u001b[38;5;241m=\u001b[39m kwargs\n\u001b[0;32m---> 71\u001b[0m \u001b[38;5;28;01mreturn\u001b[39;00m \u001b[38;5;28;43mself\u001b[39;49m\u001b[38;5;241;43m.\u001b[39;49m\u001b[43m__context\u001b[49m\u001b[38;5;241;43m.\u001b[39;49m\u001b[43mrun_model\u001b[49m\u001b[43m(\u001b[49m\n\u001b[1;32m     72\u001b[0m \u001b[43m    \u001b[49m\u001b[38;5;124;43mf\u001b[39;49m\u001b[38;5;124;43m\"\u001b[39;49m\u001b[38;5;132;43;01m{\u001b[39;49;00m\u001b[38;5;28;43mself\u001b[39;49m\u001b[38;5;241;43m.\u001b[39;49m\u001b[43m__prefix\u001b[49m\u001b[38;5;241;43m.\u001b[39;49m\u001b[43mreplace\u001b[49m\u001b[43m(\u001b[49m\u001b[38;5;124;43m'\u001b[39;49m\u001b[38;5;124;43m_\u001b[39;49m\u001b[38;5;124;43m'\u001b[39;49m\u001b[43m,\u001b[49m\u001b[43m \u001b[49m\u001b[38;5;124;43m'\u001b[39;49m\u001b[38;5;124;43m-\u001b[39;49m\u001b[38;5;124;43m'\u001b[39;49m\u001b[43m)\u001b[49m\u001b[38;5;132;43;01m}\u001b[39;49;00m\u001b[38;5;124;43m\"\u001b[39;49m\u001b[43m,\u001b[49m\n\u001b[1;32m     73\u001b[0m \u001b[43m    \u001b[49m\u001b[38;5;28;43minput\u001b[39;49m\u001b[43m,\u001b[49m\u001b[43m \u001b[49m\u001b[43mblock_number\u001b[49m\u001b[38;5;241;43m=\u001b[39;49m\u001b[38;5;28;43mself\u001b[39;49m\u001b[38;5;241;43m.\u001b[39;49m\u001b[43m__block_number\u001b[49m\u001b[43m,\u001b[49m\n\u001b[1;32m     74\u001b[0m \u001b[43m    \u001b[49m\u001b[43mreturn_type\u001b[49m\u001b[38;5;241;43m=\u001b[39;49m\u001b[43mreturn_type\u001b[49m\u001b[43m)\u001b[49m\n",
      "File \u001b[0;32m~/mambaforge/envs/cm310-2/lib/python3.10/site-packages/credmark_model_framework-0.8.22-py3.10.egg/credmark/cmf/engine/context.py:379\u001b[0m, in \u001b[0;36mEngineModelContext.run_model\u001b[0;34m(self, slug, input, return_type, block_number, version)\u001b[0m\n\u001b[1;32m    374\u001b[0m \u001b[38;5;28;01mif\u001b[39;00m block_number \u001b[38;5;129;01mis\u001b[39;00m \u001b[38;5;129;01mnot\u001b[39;00m \u001b[38;5;28;01mNone\u001b[39;00m \u001b[38;5;129;01mand\u001b[39;00m block_number \u001b[38;5;241m>\u001b[39m \u001b[38;5;28mself\u001b[39m\u001b[38;5;241m.\u001b[39mblock_number:\n\u001b[1;32m    375\u001b[0m     \u001b[38;5;28;01mraise\u001b[39;00m ModelInvalidStateError(\n\u001b[1;32m    376\u001b[0m         \u001b[38;5;124mf\u001b[39m\u001b[38;5;124m'\u001b[39m\u001b[38;5;124mAttempt to run model \u001b[39m\u001b[38;5;132;01m{\u001b[39;00mslug\u001b[38;5;132;01m}\u001b[39;00m\u001b[38;5;124m at context block \u001b[39m\u001b[38;5;132;01m{\u001b[39;00m\u001b[38;5;28mself\u001b[39m\u001b[38;5;241m.\u001b[39mblock_number\u001b[38;5;132;01m}\u001b[39;00m\u001b[38;5;124m \u001b[39m\u001b[38;5;124m'\u001b[39m\n\u001b[1;32m    377\u001b[0m         \u001b[38;5;124mf\u001b[39m\u001b[38;5;124m'\u001b[39m\u001b[38;5;124mwith future block \u001b[39m\u001b[38;5;132;01m{\u001b[39;00mblock_number\u001b[38;5;132;01m}\u001b[39;00m\u001b[38;5;124m'\u001b[39m)\n\u001b[0;32m--> 379\u001b[0m res_tuple \u001b[38;5;241m=\u001b[39m \u001b[38;5;28;43mself\u001b[39;49m\u001b[38;5;241;43m.\u001b[39;49m\u001b[43m_run_model\u001b[49m\u001b[43m(\u001b[49m\u001b[43mslug\u001b[49m\u001b[43m,\u001b[49m\u001b[43m \u001b[49m\u001b[38;5;28;43minput\u001b[39;49m\u001b[43m,\u001b[49m\u001b[43m \u001b[49m\u001b[43mblock_number\u001b[49m\u001b[43m,\u001b[49m\u001b[43m \u001b[49m\u001b[43mversion\u001b[49m\u001b[43m)\u001b[49m\n\u001b[1;32m    381\u001b[0m \u001b[38;5;66;03m# The last item of the tuple is the output.\u001b[39;00m\n\u001b[1;32m    382\u001b[0m output \u001b[38;5;241m=\u001b[39m res_tuple[\u001b[38;5;241m-\u001b[39m\u001b[38;5;241m1\u001b[39m]\n",
      "File \u001b[0;32m~/mambaforge/envs/cm310-2/lib/python3.10/site-packages/credmark_model_framework-0.8.22-py3.10.egg/credmark/cmf/engine/context.py:450\u001b[0m, in \u001b[0;36mEngineModelContext._run_model\u001b[0;34m(self, slug, input, block_number, version)\u001b[0m\n\u001b[1;32m    447\u001b[0m     \u001b[38;5;28;01mif\u001b[39;00m \u001b[38;5;28mself\u001b[39m\u001b[38;5;241m.\u001b[39m__depth \u001b[38;5;241m>\u001b[39m\u001b[38;5;241m=\u001b[39m \u001b[38;5;28mself\u001b[39m\u001b[38;5;241m.\u001b[39mmax_run_depth:\n\u001b[1;32m    448\u001b[0m         \u001b[38;5;28;01mraise\u001b[39;00m MaxModelRunDepthError(\u001b[38;5;124mf\u001b[39m\u001b[38;5;124m'\u001b[39m\u001b[38;5;124mMax model run depth hit \u001b[39m\u001b[38;5;132;01m{\u001b[39;00m\u001b[38;5;28mself\u001b[39m\u001b[38;5;241m.\u001b[39m__depth\u001b[38;5;132;01m}\u001b[39;00m\u001b[38;5;124m'\u001b[39m)\n\u001b[0;32m--> 450\u001b[0m     \u001b[38;5;28;01mreturn\u001b[39;00m \u001b[38;5;28;43mself\u001b[39;49m\u001b[38;5;241;43m.\u001b[39;49m\u001b[43m_run_model_with_class\u001b[49m\u001b[43m(\u001b[49m\n\u001b[1;32m    451\u001b[0m \u001b[43m        \u001b[49m\u001b[43mslug\u001b[49m\u001b[43m,\u001b[49m\n\u001b[1;32m    452\u001b[0m \u001b[43m        \u001b[49m\u001b[38;5;28;43minput\u001b[39;49m\u001b[43m,\u001b[49m\n\u001b[1;32m    453\u001b[0m \u001b[43m        \u001b[49m\u001b[43mblock_number\u001b[49m\u001b[43m,\u001b[49m\n\u001b[1;32m    454\u001b[0m \u001b[43m        \u001b[49m\u001b[43mversion\u001b[49m\u001b[43m,\u001b[49m\n\u001b[1;32m    455\u001b[0m \u001b[43m        \u001b[49m\u001b[43mmodel_class\u001b[49m\u001b[43m,\u001b[49m\n\u001b[1;32m    456\u001b[0m \u001b[43m        \u001b[49m\u001b[43muse_local\u001b[49m\u001b[43m,\u001b[49m\n\u001b[1;32m    457\u001b[0m \u001b[43m        \u001b[49m\u001b[43mtry_remote\u001b[49m\u001b[43m)\u001b[49m\n\u001b[1;32m    458\u001b[0m \u001b[38;5;28;01mfinally\u001b[39;00m:\n\u001b[1;32m    459\u001b[0m     \u001b[38;5;28mself\u001b[39m\u001b[38;5;241m.\u001b[39m__depth \u001b[38;5;241m-\u001b[39m\u001b[38;5;241m=\u001b[39m \u001b[38;5;241m1\u001b[39m\n",
      "File \u001b[0;32m~/mambaforge/envs/cm310-2/lib/python3.10/site-packages/credmark_model_framework-0.8.22-py3.10.egg/credmark/cmf/engine/context.py:506\u001b[0m, in \u001b[0;36mEngineModelContext._run_model_with_class\u001b[0;34m(self, slug, input, block_number, version, model_class, use_local, try_remote)\u001b[0m\n\u001b[1;32m    502\u001b[0m debug_log \u001b[38;5;241m=\u001b[39m \u001b[38;5;28mself\u001b[39m\u001b[38;5;241m.\u001b[39mdebug_logger\u001b[38;5;241m.\u001b[39misEnabledFor(logging\u001b[38;5;241m.\u001b[39mDEBUG)\n\u001b[1;32m    504\u001b[0m \u001b[38;5;28;01mif\u001b[39;00m use_local \u001b[38;5;129;01mand\u001b[39;00m model_class \u001b[38;5;129;01mis\u001b[39;00m \u001b[38;5;129;01mnot\u001b[39;00m \u001b[38;5;28;01mNone\u001b[39;00m:\n\u001b[0;32m--> 506\u001b[0m     slug, version, output \u001b[38;5;241m=\u001b[39m \u001b[38;5;28;43mself\u001b[39;49m\u001b[38;5;241;43m.\u001b[39;49m\u001b[43m_run_local_model_with_class\u001b[49m\u001b[43m(\u001b[49m\n\u001b[1;32m    507\u001b[0m \u001b[43m        \u001b[49m\u001b[43mslug\u001b[49m\u001b[43m,\u001b[49m\n\u001b[1;32m    508\u001b[0m \u001b[43m        \u001b[49m\u001b[38;5;28;43minput\u001b[39;49m\u001b[43m,\u001b[49m\n\u001b[1;32m    509\u001b[0m \u001b[43m        \u001b[49m\u001b[43mblock_number\u001b[49m\u001b[43m,\u001b[49m\n\u001b[1;32m    510\u001b[0m \u001b[43m        \u001b[49m\u001b[43mversion\u001b[49m\u001b[43m,\u001b[49m\n\u001b[1;32m    511\u001b[0m \u001b[43m        \u001b[49m\u001b[43mmodel_class\u001b[49m\u001b[43m)\u001b[49m\n\u001b[1;32m    513\u001b[0m \u001b[38;5;28;01melif\u001b[39;00m try_remote \u001b[38;5;129;01mand\u001b[39;00m api \u001b[38;5;129;01mis\u001b[39;00m \u001b[38;5;129;01mnot\u001b[39;00m \u001b[38;5;28;01mNone\u001b[39;00m:\n\u001b[1;32m    514\u001b[0m     run_block_number \u001b[38;5;241m=\u001b[39m block_number \u001b[38;5;28;01mif\u001b[39;00m block_number \u001b[38;5;129;01mis\u001b[39;00m \u001b[38;5;129;01mnot\u001b[39;00m \u001b[38;5;28;01mNone\u001b[39;00m \u001b[38;5;28;01melse\u001b[39;00m \u001b[38;5;28mself\u001b[39m\u001b[38;5;241m.\u001b[39mblock_number\n",
      "File \u001b[0;32m~/mambaforge/envs/cm310-2/lib/python3.10/site-packages/credmark_model_framework-0.8.22-py3.10.egg/credmark/cmf/engine/context.py:694\u001b[0m, in \u001b[0;36mEngineModelContext._run_local_model_with_class\u001b[0;34m(self, slug, input, block_number, version, model_class)\u001b[0m\n\u001b[1;32m    684\u001b[0m     err\u001b[38;5;241m.\u001b[39mdata\u001b[38;5;241m.\u001b[39mstack\u001b[38;5;241m.\u001b[39minsert(\u001b[38;5;241m0\u001b[39m,\n\u001b[1;32m    685\u001b[0m                           ModelCallStackEntry(\n\u001b[1;32m    686\u001b[0m                               slug\u001b[38;5;241m=\u001b[39mslug,\n\u001b[0;32m   (...)\u001b[0m\n\u001b[1;32m    689\u001b[0m                               blockNumber\u001b[38;5;241m=\u001b[39mcontext\u001b[38;5;241m.\u001b[39mblock_number,\n\u001b[1;32m    690\u001b[0m                               trace\u001b[38;5;241m=\u001b[39mtrace \u001b[38;5;28;01mif\u001b[39;00m trace \u001b[38;5;129;01mis\u001b[39;00m \u001b[38;5;129;01mnot\u001b[39;00m \u001b[38;5;28;01mNone\u001b[39;00m \u001b[38;5;28;01melse\u001b[39;00m \u001b[38;5;28;01mNone\u001b[39;00m))\n\u001b[1;32m    692\u001b[0m     EngineModelContext\u001b[38;5;241m.\u001b[39mnotify_model_run(slug, model_class\u001b[38;5;241m.\u001b[39mversion, context\u001b[38;5;241m.\u001b[39mchain_id,\n\u001b[1;32m    693\u001b[0m                                         context\u001b[38;5;241m.\u001b[39mblock_number, \u001b[38;5;28minput\u001b[39m, \u001b[38;5;28;01mNone\u001b[39;00m, err)\n\u001b[0;32m--> 694\u001b[0m     \u001b[38;5;28;01mraise\u001b[39;00m err\n\u001b[1;32m    696\u001b[0m \u001b[38;5;28;01mfinally\u001b[39;00m:\n\u001b[1;32m    697\u001b[0m     context\u001b[38;5;241m.\u001b[39mis_active \u001b[38;5;241m=\u001b[39m \u001b[38;5;28;01mFalse\u001b[39;00m\n",
      "\u001b[0;31mModelRunError\u001b[0m: Exception running model chainlink.price-by-feed(address='0x37bc7498f4ff12c19678ee8fe19d713b87f6a9e6') on chain 1 block 12981067 (2021-08-08 00:00:00) with (\"The function 'aggregator' was not found in this contract's abi. \", 'Are you sure you provided the correct contract abi?')"
     ]
    }
   ],
   "source": [
    "context.models(get_block(get_dt(2021, 5, 6))).jit.feed()"
   ]
  },
  {
   "cell_type": "code",
   "execution_count": 23,
   "id": "85d05cce-a8f0-428b-89ba-fc5d653d105c",
   "metadata": {},
   "outputs": [
    {
     "name": "stderr",
     "output_type": "stream",
     "text": [
      "Exception running model chainlink.price-by-registry(base=Token(address='0xbbbbbbbbbbbbbbbbbbbbbbbbbbbbbbbbbbbbbbbb') quote=Token(address='0x0000000000000000000000000000000000000348')) on chain 1 block 14911537 (2022-06-05 22:31:37) with \n",
      "Could not identify the intended function with name `getFeed`, positional argument(s) of type `(<class 'credmark.cmf.types.token.Token'>, <class 'credmark.cmf.types.token.Token'>)` and keyword argument(s) of type `{}`.\n",
      "Found 1 function(s) with the name `getFeed`: ['getFeed(address,address)']\n",
      "Function invocation failed due to no matching argument types.\n",
      "Traceback (most recent call last):\n",
      "  File \"/home/yangye/mambaforge/envs/cm310-2/lib/python3.10/site-packages/credmark_model_framework-0.8.22-py3.10.egg/credmark/cmf/engine/context.py\", line 613, in _run_local_model_with_class\n",
      "    output = model.run(input)\n",
      "  File \"/home/yangye/dev/credmark/credmark-models-py/notebook/../models/credmark/protocols/oracle/chainlink.py\", line 94, in run\n",
      "    feed = registry.functions.getFeed(token0_address, token1_address).call()\n",
      "  File \"/home/yangye/mambaforge/envs/cm310-2/lib/python3.10/site-packages/web3/contract.py\", line 878, in __call__\n",
      "    clone._set_function_info()\n",
      "  File \"/home/yangye/mambaforge/envs/cm310-2/lib/python3.10/site-packages/web3/contract.py\", line 883, in _set_function_info\n",
      "    self.abi = find_matching_fn_abi(\n",
      "  File \"/home/yangye/mambaforge/envs/cm310-2/lib/python3.10/site-packages/web3/_utils/contracts.py\", line 163, in find_matching_fn_abi\n",
      "    raise ValidationError(message)\n",
      "web3.exceptions.ValidationError: \n",
      "Could not identify the intended function with name `getFeed`, positional argument(s) of type `(<class 'credmark.cmf.types.token.Token'>, <class 'credmark.cmf.types.token.Token'>)` and keyword argument(s) of type `{}`.\n",
      "Found 1 function(s) with the name `getFeed`: ['getFeed(address,address)']\n",
      "Function invocation failed due to no matching argument types.\n"
     ]
    },
    {
     "ename": "ModelRunError",
     "evalue": "Exception running model chainlink.price-by-registry(base=Token(address='0xbbbbbbbbbbbbbbbbbbbbbbbbbbbbbbbbbbbbbbbb') quote=Token(address='0x0000000000000000000000000000000000000348')) on chain 1 block 14911537 (2022-06-05 22:31:37) with \nCould not identify the intended function with name `getFeed`, positional argument(s) of type `(<class 'credmark.cmf.types.token.Token'>, <class 'credmark.cmf.types.token.Token'>)` and keyword argument(s) of type `{}`.\nFound 1 function(s) with the name `getFeed`: ['getFeed(address,address)']\nFunction invocation failed due to no matching argument types.",
     "output_type": "error",
     "traceback": [
      "\u001b[0;31m---------------------------------------------------------------------------\u001b[0m",
      "\u001b[0;31mValidationError\u001b[0m                           Traceback (most recent call last)",
      "File \u001b[0;32m~/mambaforge/envs/cm310-2/lib/python3.10/site-packages/credmark_model_framework-0.8.22-py3.10.egg/credmark/cmf/engine/context.py:613\u001b[0m, in \u001b[0;36mEngineModelContext._run_local_model_with_class\u001b[0;34m(self, slug, input, block_number, version, model_class)\u001b[0m\n\u001b[1;32m    610\u001b[0m     \u001b[38;5;28mself\u001b[39m\u001b[38;5;241m.\u001b[39mdebug_logger\u001b[38;5;241m.\u001b[39mdebug(\n\u001b[1;32m    611\u001b[0m         \u001b[38;5;124mf\u001b[39m\u001b[38;5;124m\"\u001b[39m\u001b[38;5;124m> Run model \u001b[39m\u001b[38;5;124m'\u001b[39m\u001b[38;5;132;01m{\u001b[39;00mslug\u001b[38;5;132;01m}\u001b[39;00m\u001b[38;5;124m'\u001b[39m\u001b[38;5;124m input: \u001b[39m\u001b[38;5;132;01m{\u001b[39;00m\u001b[38;5;28minput\u001b[39m\u001b[38;5;132;01m}\u001b[39;00m\u001b[38;5;124m block_number: \u001b[39m\u001b[38;5;132;01m{\u001b[39;00mblock_number\u001b[38;5;132;01m}\u001b[39;00m\u001b[38;5;124m\"\u001b[39m)\n\u001b[0;32m--> 613\u001b[0m output \u001b[38;5;241m=\u001b[39m \u001b[43mmodel\u001b[49m\u001b[38;5;241;43m.\u001b[39;49m\u001b[43mrun\u001b[49m\u001b[43m(\u001b[49m\u001b[38;5;28;43minput\u001b[39;49m\u001b[43m)\u001b[49m\n\u001b[1;32m    615\u001b[0m \u001b[38;5;28;01mtry\u001b[39;00m:\n\u001b[1;32m    616\u001b[0m     \u001b[38;5;66;03m# transform to the defined outputDTO for validation of output\u001b[39;00m\n",
      "File \u001b[0;32m~/dev/credmark/credmark-models-py/notebook/../models/credmark/protocols/oracle/chainlink.py:94\u001b[0m, in \u001b[0;36mChainLinkPriceByRegistry.run\u001b[0;34m(self, input)\u001b[0m\n\u001b[1;32m     93\u001b[0m sys\u001b[38;5;241m.\u001b[39mtracebacklimit \u001b[38;5;241m=\u001b[39m \u001b[38;5;241m0\u001b[39m\n\u001b[0;32m---> 94\u001b[0m feed \u001b[38;5;241m=\u001b[39m \u001b[43mregistry\u001b[49m\u001b[38;5;241;43m.\u001b[39;49m\u001b[43mfunctions\u001b[49m\u001b[38;5;241;43m.\u001b[39;49m\u001b[43mgetFeed\u001b[49m\u001b[43m(\u001b[49m\u001b[43mtoken0_address\u001b[49m\u001b[43m,\u001b[49m\u001b[43m \u001b[49m\u001b[43mtoken1_address\u001b[49m\u001b[43m)\u001b[49m\u001b[38;5;241m.\u001b[39mcall()\n\u001b[1;32m     95\u001b[0m (_roundId, answer,\n\u001b[1;32m     96\u001b[0m     _startedAt, _updatedAt,\n\u001b[1;32m     97\u001b[0m     _answeredInRound) \u001b[38;5;241m=\u001b[39m (registry\u001b[38;5;241m.\u001b[39mfunctions\n\u001b[1;32m     98\u001b[0m                          \u001b[38;5;241m.\u001b[39mlatestRoundData(token0_address, token1_address)\n\u001b[1;32m     99\u001b[0m                          \u001b[38;5;241m.\u001b[39mcall())\n",
      "File \u001b[0;32m~/mambaforge/envs/cm310-2/lib/python3.10/site-packages/web3/contract.py:878\u001b[0m, in \u001b[0;36mContractFunction.__call__\u001b[0;34m(self, *args, **kwargs)\u001b[0m\n\u001b[1;32m    877\u001b[0m     clone\u001b[38;5;241m.\u001b[39mkwargs \u001b[38;5;241m=\u001b[39m kwargs\n\u001b[0;32m--> 878\u001b[0m \u001b[43mclone\u001b[49m\u001b[38;5;241;43m.\u001b[39;49m\u001b[43m_set_function_info\u001b[49m\u001b[43m(\u001b[49m\u001b[43m)\u001b[49m\n\u001b[1;32m    879\u001b[0m \u001b[38;5;28;01mreturn\u001b[39;00m clone\n",
      "File \u001b[0;32m~/mambaforge/envs/cm310-2/lib/python3.10/site-packages/web3/contract.py:883\u001b[0m, in \u001b[0;36mContractFunction._set_function_info\u001b[0;34m(self)\u001b[0m\n\u001b[1;32m    882\u001b[0m \u001b[38;5;28;01mif\u001b[39;00m \u001b[38;5;129;01mnot\u001b[39;00m \u001b[38;5;28mself\u001b[39m\u001b[38;5;241m.\u001b[39mabi:\n\u001b[0;32m--> 883\u001b[0m     \u001b[38;5;28mself\u001b[39m\u001b[38;5;241m.\u001b[39mabi \u001b[38;5;241m=\u001b[39m \u001b[43mfind_matching_fn_abi\u001b[49m\u001b[43m(\u001b[49m\n\u001b[1;32m    884\u001b[0m \u001b[43m        \u001b[49m\u001b[38;5;28;43mself\u001b[39;49m\u001b[38;5;241;43m.\u001b[39;49m\u001b[43mcontract_abi\u001b[49m\u001b[43m,\u001b[49m\n\u001b[1;32m    885\u001b[0m \u001b[43m        \u001b[49m\u001b[38;5;28;43mself\u001b[39;49m\u001b[38;5;241;43m.\u001b[39;49m\u001b[43mweb3\u001b[49m\u001b[38;5;241;43m.\u001b[39;49m\u001b[43mcodec\u001b[49m\u001b[43m,\u001b[49m\n\u001b[1;32m    886\u001b[0m \u001b[43m        \u001b[49m\u001b[38;5;28;43mself\u001b[39;49m\u001b[38;5;241;43m.\u001b[39;49m\u001b[43mfunction_identifier\u001b[49m\u001b[43m,\u001b[49m\n\u001b[1;32m    887\u001b[0m \u001b[43m        \u001b[49m\u001b[38;5;28;43mself\u001b[39;49m\u001b[38;5;241;43m.\u001b[39;49m\u001b[43margs\u001b[49m\u001b[43m,\u001b[49m\n\u001b[1;32m    888\u001b[0m \u001b[43m        \u001b[49m\u001b[38;5;28;43mself\u001b[39;49m\u001b[38;5;241;43m.\u001b[39;49m\u001b[43mkwargs\u001b[49m\n\u001b[1;32m    889\u001b[0m \u001b[43m    \u001b[49m\u001b[43m)\u001b[49m\n\u001b[1;32m    890\u001b[0m \u001b[38;5;28;01mif\u001b[39;00m \u001b[38;5;28mself\u001b[39m\u001b[38;5;241m.\u001b[39mfunction_identifier \u001b[38;5;129;01min\u001b[39;00m [FallbackFn, ReceiveFn]:\n",
      "File \u001b[0;32m~/mambaforge/envs/cm310-2/lib/python3.10/site-packages/web3/_utils/contracts.py:163\u001b[0m, in \u001b[0;36mfind_matching_fn_abi\u001b[0;34m(abi, abi_codec, fn_identifier, args, kwargs)\u001b[0m\n\u001b[1;32m    148\u001b[0m message \u001b[38;5;241m=\u001b[39m (\n\u001b[1;32m    149\u001b[0m     \u001b[38;5;124m\"\u001b[39m\u001b[38;5;130;01m\\n\u001b[39;00m\u001b[38;5;124mCould not identify the intended function with name `\u001b[39m\u001b[38;5;132;01m{name}\u001b[39;00m\u001b[38;5;124m`, \u001b[39m\u001b[38;5;124m\"\u001b[39m\n\u001b[1;32m    150\u001b[0m     \u001b[38;5;124m\"\u001b[39m\u001b[38;5;124mpositional argument(s) of type `\u001b[39m\u001b[38;5;132;01m{arg_types}\u001b[39;00m\u001b[38;5;124m` and \u001b[39m\u001b[38;5;124m\"\u001b[39m\n\u001b[0;32m   (...)\u001b[0m\n\u001b[1;32m    160\u001b[0m     diagnosis\u001b[38;5;241m=\u001b[39mdiagnosis,\n\u001b[1;32m    161\u001b[0m )\n\u001b[0;32m--> 163\u001b[0m \u001b[38;5;28;01mraise\u001b[39;00m ValidationError(message)\n",
      "\u001b[0;31mValidationError\u001b[0m: \nCould not identify the intended function with name `getFeed`, positional argument(s) of type `(<class 'credmark.cmf.types.token.Token'>, <class 'credmark.cmf.types.token.Token'>)` and keyword argument(s) of type `{}`.\nFound 1 function(s) with the name `getFeed`: ['getFeed(address,address)']\nFunction invocation failed due to no matching argument types.",
      "\nDuring handling of the above exception, another exception occurred:\n",
      "\u001b[0;31mModelRunError\u001b[0m                             Traceback (most recent call last)",
      "Input \u001b[0;32mIn [23]\u001b[0m, in \u001b[0;36m<cell line: 1>\u001b[0;34m()\u001b[0m\n\u001b[0;32m----> 1\u001b[0m \u001b[43mcontext\u001b[49m\u001b[38;5;241;43m.\u001b[39;49m\u001b[43mmodels\u001b[49m\u001b[38;5;241;43m.\u001b[39;49m\u001b[43mchainlink\u001b[49m\u001b[38;5;241;43m.\u001b[39;49m\u001b[43mprice_by_registry\u001b[49m\u001b[43m(\u001b[49m\u001b[43mbase\u001b[49m\u001b[38;5;241;43m=\u001b[39;49m\u001b[43m{\u001b[49m\u001b[38;5;124;43m'\u001b[39;49m\u001b[38;5;124;43maddress\u001b[39;49m\u001b[38;5;124;43m'\u001b[39;49m\u001b[43m:\u001b[49m\u001b[43m \u001b[49m\u001b[38;5;124;43m'\u001b[39;49m\u001b[38;5;124;43m0xbBbBBBBbbBBBbbbBbbBbbbbBBbBbbbbBbBbbBBbB\u001b[39;49m\u001b[38;5;124;43m'\u001b[39;49m\u001b[43m}\u001b[49m\u001b[43m,\u001b[49m\n\u001b[1;32m      2\u001b[0m \u001b[43m                                           \u001b[49m\u001b[43mquote\u001b[49m\u001b[38;5;241;43m=\u001b[39;49m\u001b[43m{\u001b[49m\u001b[38;5;124;43m'\u001b[39;49m\u001b[38;5;124;43maddress\u001b[39;49m\u001b[38;5;124;43m'\u001b[39;49m\u001b[43m:\u001b[49m\u001b[43m \u001b[49m\u001b[38;5;124;43m'\u001b[39;49m\u001b[38;5;124;43m0x0000000000000000000000000000000000000348\u001b[39;49m\u001b[38;5;124;43m'\u001b[39;49m\u001b[43m}\u001b[49m\u001b[43m)\u001b[49m\n",
      "File \u001b[0;32m~/mambaforge/envs/cm310-2/lib/python3.10/site-packages/credmark_model_framework-0.8.22-py3.10.egg/credmark/cmf/model/context.py:71\u001b[0m, in \u001b[0;36mRunModelMethod.__call__\u001b[0;34m(self, input, return_type, **kwargs)\u001b[0m\n\u001b[1;32m     68\u001b[0m \u001b[38;5;28;01melif\u001b[39;00m \u001b[38;5;28minput\u001b[39m \u001b[38;5;129;01mis\u001b[39;00m \u001b[38;5;28;01mNone\u001b[39;00m:\n\u001b[1;32m     69\u001b[0m     \u001b[38;5;28minput\u001b[39m \u001b[38;5;241m=\u001b[39m kwargs\n\u001b[0;32m---> 71\u001b[0m \u001b[38;5;28;01mreturn\u001b[39;00m \u001b[38;5;28;43mself\u001b[39;49m\u001b[38;5;241;43m.\u001b[39;49m\u001b[43m__context\u001b[49m\u001b[38;5;241;43m.\u001b[39;49m\u001b[43mrun_model\u001b[49m\u001b[43m(\u001b[49m\n\u001b[1;32m     72\u001b[0m \u001b[43m    \u001b[49m\u001b[38;5;124;43mf\u001b[39;49m\u001b[38;5;124;43m\"\u001b[39;49m\u001b[38;5;132;43;01m{\u001b[39;49;00m\u001b[38;5;28;43mself\u001b[39;49m\u001b[38;5;241;43m.\u001b[39;49m\u001b[43m__prefix\u001b[49m\u001b[38;5;241;43m.\u001b[39;49m\u001b[43mreplace\u001b[49m\u001b[43m(\u001b[49m\u001b[38;5;124;43m'\u001b[39;49m\u001b[38;5;124;43m_\u001b[39;49m\u001b[38;5;124;43m'\u001b[39;49m\u001b[43m,\u001b[49m\u001b[43m \u001b[49m\u001b[38;5;124;43m'\u001b[39;49m\u001b[38;5;124;43m-\u001b[39;49m\u001b[38;5;124;43m'\u001b[39;49m\u001b[43m)\u001b[49m\u001b[38;5;132;43;01m}\u001b[39;49;00m\u001b[38;5;124;43m\"\u001b[39;49m\u001b[43m,\u001b[49m\n\u001b[1;32m     73\u001b[0m \u001b[43m    \u001b[49m\u001b[38;5;28;43minput\u001b[39;49m\u001b[43m,\u001b[49m\u001b[43m \u001b[49m\u001b[43mblock_number\u001b[49m\u001b[38;5;241;43m=\u001b[39;49m\u001b[38;5;28;43mself\u001b[39;49m\u001b[38;5;241;43m.\u001b[39;49m\u001b[43m__block_number\u001b[49m\u001b[43m,\u001b[49m\n\u001b[1;32m     74\u001b[0m \u001b[43m    \u001b[49m\u001b[43mreturn_type\u001b[49m\u001b[38;5;241;43m=\u001b[39;49m\u001b[43mreturn_type\u001b[49m\u001b[43m)\u001b[49m\n",
      "File \u001b[0;32m~/mambaforge/envs/cm310-2/lib/python3.10/site-packages/credmark_model_framework-0.8.22-py3.10.egg/credmark/cmf/engine/context.py:379\u001b[0m, in \u001b[0;36mEngineModelContext.run_model\u001b[0;34m(self, slug, input, return_type, block_number, version)\u001b[0m\n\u001b[1;32m    374\u001b[0m \u001b[38;5;28;01mif\u001b[39;00m block_number \u001b[38;5;129;01mis\u001b[39;00m \u001b[38;5;129;01mnot\u001b[39;00m \u001b[38;5;28;01mNone\u001b[39;00m \u001b[38;5;129;01mand\u001b[39;00m block_number \u001b[38;5;241m>\u001b[39m \u001b[38;5;28mself\u001b[39m\u001b[38;5;241m.\u001b[39mblock_number:\n\u001b[1;32m    375\u001b[0m     \u001b[38;5;28;01mraise\u001b[39;00m ModelInvalidStateError(\n\u001b[1;32m    376\u001b[0m         \u001b[38;5;124mf\u001b[39m\u001b[38;5;124m'\u001b[39m\u001b[38;5;124mAttempt to run model \u001b[39m\u001b[38;5;132;01m{\u001b[39;00mslug\u001b[38;5;132;01m}\u001b[39;00m\u001b[38;5;124m at context block \u001b[39m\u001b[38;5;132;01m{\u001b[39;00m\u001b[38;5;28mself\u001b[39m\u001b[38;5;241m.\u001b[39mblock_number\u001b[38;5;132;01m}\u001b[39;00m\u001b[38;5;124m \u001b[39m\u001b[38;5;124m'\u001b[39m\n\u001b[1;32m    377\u001b[0m         \u001b[38;5;124mf\u001b[39m\u001b[38;5;124m'\u001b[39m\u001b[38;5;124mwith future block \u001b[39m\u001b[38;5;132;01m{\u001b[39;00mblock_number\u001b[38;5;132;01m}\u001b[39;00m\u001b[38;5;124m'\u001b[39m)\n\u001b[0;32m--> 379\u001b[0m res_tuple \u001b[38;5;241m=\u001b[39m \u001b[38;5;28;43mself\u001b[39;49m\u001b[38;5;241;43m.\u001b[39;49m\u001b[43m_run_model\u001b[49m\u001b[43m(\u001b[49m\u001b[43mslug\u001b[49m\u001b[43m,\u001b[49m\u001b[43m \u001b[49m\u001b[38;5;28;43minput\u001b[39;49m\u001b[43m,\u001b[49m\u001b[43m \u001b[49m\u001b[43mblock_number\u001b[49m\u001b[43m,\u001b[49m\u001b[43m \u001b[49m\u001b[43mversion\u001b[49m\u001b[43m)\u001b[49m\n\u001b[1;32m    381\u001b[0m \u001b[38;5;66;03m# The last item of the tuple is the output.\u001b[39;00m\n\u001b[1;32m    382\u001b[0m output \u001b[38;5;241m=\u001b[39m res_tuple[\u001b[38;5;241m-\u001b[39m\u001b[38;5;241m1\u001b[39m]\n",
      "File \u001b[0;32m~/mambaforge/envs/cm310-2/lib/python3.10/site-packages/credmark_model_framework-0.8.22-py3.10.egg/credmark/cmf/engine/context.py:438\u001b[0m, in \u001b[0;36mEngineModelContext._run_model\u001b[0;34m(self, slug, input, block_number, version)\u001b[0m\n\u001b[1;32m    435\u001b[0m     \u001b[38;5;28;01mif\u001b[39;00m \u001b[38;5;28mself\u001b[39m\u001b[38;5;241m.\u001b[39m__depth \u001b[38;5;241m>\u001b[39m\u001b[38;5;241m=\u001b[39m \u001b[38;5;28mself\u001b[39m\u001b[38;5;241m.\u001b[39mmax_run_depth:\n\u001b[1;32m    436\u001b[0m         \u001b[38;5;28;01mraise\u001b[39;00m MaxModelRunDepthError(\u001b[38;5;124mf\u001b[39m\u001b[38;5;124m'\u001b[39m\u001b[38;5;124mMax model run depth hit \u001b[39m\u001b[38;5;132;01m{\u001b[39;00m\u001b[38;5;28mself\u001b[39m\u001b[38;5;241m.\u001b[39m__depth\u001b[38;5;132;01m}\u001b[39;00m\u001b[38;5;124m'\u001b[39m)\n\u001b[0;32m--> 438\u001b[0m     \u001b[38;5;28;01mreturn\u001b[39;00m \u001b[38;5;28;43mself\u001b[39;49m\u001b[38;5;241;43m.\u001b[39;49m\u001b[43m_run_model_with_class\u001b[49m\u001b[43m(\u001b[49m\n\u001b[1;32m    439\u001b[0m \u001b[43m        \u001b[49m\u001b[43mslug\u001b[49m\u001b[43m,\u001b[49m\n\u001b[1;32m    440\u001b[0m \u001b[43m        \u001b[49m\u001b[38;5;28;43minput\u001b[39;49m\u001b[43m,\u001b[49m\n\u001b[1;32m    441\u001b[0m \u001b[43m        \u001b[49m\u001b[43mblock_number\u001b[49m\u001b[43m,\u001b[49m\n\u001b[1;32m    442\u001b[0m \u001b[43m        \u001b[49m\u001b[43mversion\u001b[49m\u001b[43m,\u001b[49m\n\u001b[1;32m    443\u001b[0m \u001b[43m        \u001b[49m\u001b[43mmodel_class\u001b[49m\u001b[43m,\u001b[49m\n\u001b[1;32m    444\u001b[0m \u001b[43m        \u001b[49m\u001b[43muse_local\u001b[49m\u001b[43m,\u001b[49m\n\u001b[1;32m    445\u001b[0m \u001b[43m        \u001b[49m\u001b[43mtry_remote\u001b[49m\u001b[43m)\u001b[49m\n\u001b[1;32m    446\u001b[0m \u001b[38;5;28;01mfinally\u001b[39;00m:\n\u001b[1;32m    447\u001b[0m     \u001b[38;5;28mself\u001b[39m\u001b[38;5;241m.\u001b[39m__depth \u001b[38;5;241m-\u001b[39m\u001b[38;5;241m=\u001b[39m \u001b[38;5;241m1\u001b[39m\n",
      "File \u001b[0;32m~/mambaforge/envs/cm310-2/lib/python3.10/site-packages/credmark_model_framework-0.8.22-py3.10.egg/credmark/cmf/engine/context.py:494\u001b[0m, in \u001b[0;36mEngineModelContext._run_model_with_class\u001b[0;34m(self, slug, input, block_number, version, model_class, use_local, try_remote)\u001b[0m\n\u001b[1;32m    490\u001b[0m debug_log \u001b[38;5;241m=\u001b[39m \u001b[38;5;28mself\u001b[39m\u001b[38;5;241m.\u001b[39mdebug_logger\u001b[38;5;241m.\u001b[39misEnabledFor(logging\u001b[38;5;241m.\u001b[39mDEBUG)\n\u001b[1;32m    492\u001b[0m \u001b[38;5;28;01mif\u001b[39;00m use_local \u001b[38;5;129;01mand\u001b[39;00m model_class \u001b[38;5;129;01mis\u001b[39;00m \u001b[38;5;129;01mnot\u001b[39;00m \u001b[38;5;28;01mNone\u001b[39;00m:\n\u001b[0;32m--> 494\u001b[0m     slug, version, output \u001b[38;5;241m=\u001b[39m \u001b[38;5;28;43mself\u001b[39;49m\u001b[38;5;241;43m.\u001b[39;49m\u001b[43m_run_local_model_with_class\u001b[49m\u001b[43m(\u001b[49m\n\u001b[1;32m    495\u001b[0m \u001b[43m        \u001b[49m\u001b[43mslug\u001b[49m\u001b[43m,\u001b[49m\n\u001b[1;32m    496\u001b[0m \u001b[43m        \u001b[49m\u001b[38;5;28;43minput\u001b[39;49m\u001b[43m,\u001b[49m\n\u001b[1;32m    497\u001b[0m \u001b[43m        \u001b[49m\u001b[43mblock_number\u001b[49m\u001b[43m,\u001b[49m\n\u001b[1;32m    498\u001b[0m \u001b[43m        \u001b[49m\u001b[43mversion\u001b[49m\u001b[43m,\u001b[49m\n\u001b[1;32m    499\u001b[0m \u001b[43m        \u001b[49m\u001b[43mmodel_class\u001b[49m\u001b[43m)\u001b[49m\n\u001b[1;32m    501\u001b[0m \u001b[38;5;28;01melif\u001b[39;00m try_remote \u001b[38;5;129;01mand\u001b[39;00m api \u001b[38;5;129;01mis\u001b[39;00m \u001b[38;5;129;01mnot\u001b[39;00m \u001b[38;5;28;01mNone\u001b[39;00m:\n\u001b[1;32m    502\u001b[0m     run_block_number \u001b[38;5;241m=\u001b[39m block_number \u001b[38;5;28;01mif\u001b[39;00m block_number \u001b[38;5;129;01mis\u001b[39;00m \u001b[38;5;129;01mnot\u001b[39;00m \u001b[38;5;28;01mNone\u001b[39;00m \u001b[38;5;28;01melse\u001b[39;00m \u001b[38;5;28mself\u001b[39m\u001b[38;5;241m.\u001b[39mblock_number\n",
      "File \u001b[0;32m~/mambaforge/envs/cm310-2/lib/python3.10/site-packages/credmark_model_framework-0.8.22-py3.10.egg/credmark/cmf/engine/context.py:682\u001b[0m, in \u001b[0;36mEngineModelContext._run_local_model_with_class\u001b[0;34m(self, slug, input, block_number, version, model_class)\u001b[0m\n\u001b[1;32m    672\u001b[0m     err\u001b[38;5;241m.\u001b[39mdata\u001b[38;5;241m.\u001b[39mstack\u001b[38;5;241m.\u001b[39minsert(\u001b[38;5;241m0\u001b[39m,\n\u001b[1;32m    673\u001b[0m                           ModelCallStackEntry(\n\u001b[1;32m    674\u001b[0m                               slug\u001b[38;5;241m=\u001b[39mslug,\n\u001b[0;32m   (...)\u001b[0m\n\u001b[1;32m    677\u001b[0m                               blockNumber\u001b[38;5;241m=\u001b[39mcontext\u001b[38;5;241m.\u001b[39mblock_number,\n\u001b[1;32m    678\u001b[0m                               trace\u001b[38;5;241m=\u001b[39mtrace \u001b[38;5;28;01mif\u001b[39;00m trace \u001b[38;5;129;01mis\u001b[39;00m \u001b[38;5;129;01mnot\u001b[39;00m \u001b[38;5;28;01mNone\u001b[39;00m \u001b[38;5;28;01melse\u001b[39;00m \u001b[38;5;28;01mNone\u001b[39;00m))\n\u001b[1;32m    680\u001b[0m     EngineModelContext\u001b[38;5;241m.\u001b[39mnotify_model_run(slug, model_class\u001b[38;5;241m.\u001b[39mversion, context\u001b[38;5;241m.\u001b[39mchain_id,\n\u001b[1;32m    681\u001b[0m                                         context\u001b[38;5;241m.\u001b[39mblock_number, \u001b[38;5;28minput\u001b[39m, \u001b[38;5;28;01mNone\u001b[39;00m, err)\n\u001b[0;32m--> 682\u001b[0m     \u001b[38;5;28;01mraise\u001b[39;00m err\n\u001b[1;32m    684\u001b[0m \u001b[38;5;28;01mfinally\u001b[39;00m:\n\u001b[1;32m    685\u001b[0m     context\u001b[38;5;241m.\u001b[39mis_active \u001b[38;5;241m=\u001b[39m \u001b[38;5;28;01mFalse\u001b[39;00m\n",
      "\u001b[0;31mModelRunError\u001b[0m: Exception running model chainlink.price-by-registry(base=Token(address='0xbbbbbbbbbbbbbbbbbbbbbbbbbbbbbbbbbbbbbbbb') quote=Token(address='0x0000000000000000000000000000000000000348')) on chain 1 block 14911537 (2022-06-05 22:31:37) with \nCould not identify the intended function with name `getFeed`, positional argument(s) of type `(<class 'credmark.cmf.types.token.Token'>, <class 'credmark.cmf.types.token.Token'>)` and keyword argument(s) of type `{}`.\nFound 1 function(s) with the name `getFeed`: ['getFeed(address,address)']\nFunction invocation failed due to no matching argument types."
     ]
    }
   ],
   "source": [
    "context.models.chainlink.price_by_registry(base={'address': '0xbBbBBBBbbBBBbbbBbbBbbbbBBbBbbbbBbBbbBBbB'},\n",
    "                                           quote={'address': '0x0000000000000000000000000000000000000348'})"
   ]
  },
  {
   "cell_type": "code",
   "execution_count": 21,
   "id": "f428ab9a-4a43-4c1d-b673-aa2fd713f1dc",
   "metadata": {},
   "outputs": [
    {
     "name": "stderr",
     "output_type": "stream",
     "text": [
      "Exception running model jit.feed() on chain 1 block 12770589 (2021-07-05 23:59:50) with Could not transact with/call contract function, is contract deployed correctly and chain synced?\n",
      "eth_abi.exceptions.InsufficientDataBytes: Tried to read 32 bytes.  Only got 0 bytes\n",
      "\n",
      "The above exception was the direct cause of the following exception:\n",
      "\n",
      "web3.exceptions.BadFunctionCallOutput: Could not transact with/call contract function, is contract deployed correctly and chain synced?\n"
     ]
    },
    {
     "ename": "ModelRunError",
     "evalue": "Exception running model jit.feed() on chain 1 block 12770589 (2021-07-05 23:59:50) with Could not transact with/call contract function, is contract deployed correctly and chain synced?",
     "output_type": "error",
     "traceback": [
      "\u001b[0;31m---------------------------------------------------------------------------\u001b[0m",
      "\u001b[0;31mInsufficientDataBytes\u001b[0m                     Traceback (most recent call last)",
      "File \u001b[0;32m~/mambaforge/envs/cm310-2/lib/python3.10/site-packages/web3/contract.py:1513\u001b[0m, in \u001b[0;36mcall_contract_function\u001b[0;34m(web3, address, normalizers, function_identifier, transaction, block_id, contract_abi, fn_abi, state_override, *args, **kwargs)\u001b[0m\n\u001b[1;32m   1512\u001b[0m \u001b[38;5;28;01mtry\u001b[39;00m:\n\u001b[0;32m-> 1513\u001b[0m     output_data \u001b[38;5;241m=\u001b[39m \u001b[43mweb3\u001b[49m\u001b[38;5;241;43m.\u001b[39;49m\u001b[43mcodec\u001b[49m\u001b[38;5;241;43m.\u001b[39;49m\u001b[43mdecode_abi\u001b[49m\u001b[43m(\u001b[49m\u001b[43moutput_types\u001b[49m\u001b[43m,\u001b[49m\u001b[43m \u001b[49m\u001b[43mreturn_data\u001b[49m\u001b[43m)\u001b[49m\n\u001b[1;32m   1514\u001b[0m \u001b[38;5;28;01mexcept\u001b[39;00m DecodingError \u001b[38;5;28;01mas\u001b[39;00m e:\n\u001b[1;32m   1515\u001b[0m     \u001b[38;5;66;03m# Provide a more helpful error message than the one provided by\u001b[39;00m\n\u001b[1;32m   1516\u001b[0m     \u001b[38;5;66;03m# eth-abi-utils\u001b[39;00m\n",
      "File \u001b[0;32m~/mambaforge/envs/cm310-2/lib/python3.10/site-packages/eth_abi/codec.py:181\u001b[0m, in \u001b[0;36mABIDecoder.decode_abi\u001b[0;34m(self, types, data)\u001b[0m\n\u001b[1;32m    179\u001b[0m stream \u001b[38;5;241m=\u001b[39m \u001b[38;5;28mself\u001b[39m\u001b[38;5;241m.\u001b[39mstream_class(data)\n\u001b[0;32m--> 181\u001b[0m \u001b[38;5;28;01mreturn\u001b[39;00m \u001b[43mdecoder\u001b[49m\u001b[43m(\u001b[49m\u001b[43mstream\u001b[49m\u001b[43m)\u001b[49m\n",
      "File \u001b[0;32m~/mambaforge/envs/cm310-2/lib/python3.10/site-packages/eth_abi/decoding.py:127\u001b[0m, in \u001b[0;36mBaseDecoder.__call__\u001b[0;34m(self, stream)\u001b[0m\n\u001b[1;32m    126\u001b[0m \u001b[38;5;28;01mdef\u001b[39;00m \u001b[38;5;21m__call__\u001b[39m(\u001b[38;5;28mself\u001b[39m, stream: ContextFramesBytesIO) \u001b[38;5;241m-\u001b[39m\u001b[38;5;241m>\u001b[39m Any:\n\u001b[0;32m--> 127\u001b[0m     \u001b[38;5;28;01mreturn\u001b[39;00m \u001b[38;5;28;43mself\u001b[39;49m\u001b[38;5;241;43m.\u001b[39;49m\u001b[43mdecode\u001b[49m\u001b[43m(\u001b[49m\u001b[43mstream\u001b[49m\u001b[43m)\u001b[49m\n",
      "File \u001b[0;32m~/mambaforge/envs/cm310-2/lib/python3.10/site-packages/eth_utils/functional.py:45\u001b[0m, in \u001b[0;36mapply_to_return_value.<locals>.outer.<locals>.inner\u001b[0;34m(*args, **kwargs)\u001b[0m\n\u001b[1;32m     43\u001b[0m \u001b[38;5;129m@functools\u001b[39m\u001b[38;5;241m.\u001b[39mwraps(fn)\n\u001b[1;32m     44\u001b[0m \u001b[38;5;28;01mdef\u001b[39;00m \u001b[38;5;21minner\u001b[39m(\u001b[38;5;241m*\u001b[39margs, \u001b[38;5;241m*\u001b[39m\u001b[38;5;241m*\u001b[39mkwargs) \u001b[38;5;241m-\u001b[39m\u001b[38;5;241m>\u001b[39m T:  \u001b[38;5;66;03m# type: ignore\u001b[39;00m\n\u001b[0;32m---> 45\u001b[0m     \u001b[38;5;28;01mreturn\u001b[39;00m \u001b[43mcallback\u001b[49m\u001b[43m(\u001b[49m\u001b[43mfn\u001b[49m\u001b[43m(\u001b[49m\u001b[38;5;241;43m*\u001b[39;49m\u001b[43margs\u001b[49m\u001b[43m,\u001b[49m\u001b[43m \u001b[49m\u001b[38;5;241;43m*\u001b[39;49m\u001b[38;5;241;43m*\u001b[39;49m\u001b[43mkwargs\u001b[49m\u001b[43m)\u001b[49m\u001b[43m)\u001b[49m\n",
      "File \u001b[0;32m~/mambaforge/envs/cm310-2/lib/python3.10/site-packages/eth_abi/decoding.py:173\u001b[0m, in \u001b[0;36mTupleDecoder.decode\u001b[0;34m(self, stream)\u001b[0m\n\u001b[1;32m    172\u001b[0m \u001b[38;5;28;01mfor\u001b[39;00m decoder \u001b[38;5;129;01min\u001b[39;00m \u001b[38;5;28mself\u001b[39m\u001b[38;5;241m.\u001b[39mdecoders:\n\u001b[0;32m--> 173\u001b[0m     \u001b[38;5;28;01myield\u001b[39;00m \u001b[43mdecoder\u001b[49m\u001b[43m(\u001b[49m\u001b[43mstream\u001b[49m\u001b[43m)\u001b[49m\n",
      "File \u001b[0;32m~/mambaforge/envs/cm310-2/lib/python3.10/site-packages/eth_abi/decoding.py:127\u001b[0m, in \u001b[0;36mBaseDecoder.__call__\u001b[0;34m(self, stream)\u001b[0m\n\u001b[1;32m    126\u001b[0m \u001b[38;5;28;01mdef\u001b[39;00m \u001b[38;5;21m__call__\u001b[39m(\u001b[38;5;28mself\u001b[39m, stream: ContextFramesBytesIO) \u001b[38;5;241m-\u001b[39m\u001b[38;5;241m>\u001b[39m Any:\n\u001b[0;32m--> 127\u001b[0m     \u001b[38;5;28;01mreturn\u001b[39;00m \u001b[38;5;28;43mself\u001b[39;49m\u001b[38;5;241;43m.\u001b[39;49m\u001b[43mdecode\u001b[49m\u001b[43m(\u001b[49m\u001b[43mstream\u001b[49m\u001b[43m)\u001b[49m\n",
      "File \u001b[0;32m~/mambaforge/envs/cm310-2/lib/python3.10/site-packages/eth_abi/decoding.py:198\u001b[0m, in \u001b[0;36mSingleDecoder.decode\u001b[0;34m(self, stream)\u001b[0m\n\u001b[1;32m    197\u001b[0m \u001b[38;5;28;01mdef\u001b[39;00m \u001b[38;5;21mdecode\u001b[39m(\u001b[38;5;28mself\u001b[39m, stream):\n\u001b[0;32m--> 198\u001b[0m     raw_data \u001b[38;5;241m=\u001b[39m \u001b[38;5;28;43mself\u001b[39;49m\u001b[38;5;241;43m.\u001b[39;49m\u001b[43mread_data_from_stream\u001b[49m\u001b[43m(\u001b[49m\u001b[43mstream\u001b[49m\u001b[43m)\u001b[49m\n\u001b[1;32m    199\u001b[0m     data, padding_bytes \u001b[38;5;241m=\u001b[39m \u001b[38;5;28mself\u001b[39m\u001b[38;5;241m.\u001b[39msplit_data_and_padding(raw_data)\n",
      "File \u001b[0;32m~/mambaforge/envs/cm310-2/lib/python3.10/site-packages/eth_abi/decoding.py:305\u001b[0m, in \u001b[0;36mFixedByteSizeDecoder.read_data_from_stream\u001b[0;34m(self, stream)\u001b[0m\n\u001b[1;32m    304\u001b[0m \u001b[38;5;28;01mif\u001b[39;00m \u001b[38;5;28mlen\u001b[39m(data) \u001b[38;5;241m!=\u001b[39m \u001b[38;5;28mself\u001b[39m\u001b[38;5;241m.\u001b[39mdata_byte_size:\n\u001b[0;32m--> 305\u001b[0m     \u001b[38;5;28;01mraise\u001b[39;00m InsufficientDataBytes(\n\u001b[1;32m    306\u001b[0m         \u001b[38;5;124m\"\u001b[39m\u001b[38;5;124mTried to read \u001b[39m\u001b[38;5;132;01m{0}\u001b[39;00m\u001b[38;5;124m bytes.  Only got \u001b[39m\u001b[38;5;132;01m{1}\u001b[39;00m\u001b[38;5;124m bytes\u001b[39m\u001b[38;5;124m\"\u001b[39m\u001b[38;5;241m.\u001b[39mformat(\n\u001b[1;32m    307\u001b[0m             \u001b[38;5;28mself\u001b[39m\u001b[38;5;241m.\u001b[39mdata_byte_size,\n\u001b[1;32m    308\u001b[0m             \u001b[38;5;28mlen\u001b[39m(data),\n\u001b[1;32m    309\u001b[0m         )\n\u001b[1;32m    310\u001b[0m     )\n\u001b[1;32m    312\u001b[0m \u001b[38;5;28;01mreturn\u001b[39;00m data\n",
      "\u001b[0;31mInsufficientDataBytes\u001b[0m: Tried to read 32 bytes.  Only got 0 bytes",
      "\nThe above exception was the direct cause of the following exception:\n",
      "\u001b[0;31mBadFunctionCallOutput\u001b[0m                     Traceback (most recent call last)",
      "File \u001b[0;32m~/mambaforge/envs/cm310-2/lib/python3.10/site-packages/credmark_model_framework-0.8.22-py3.10.egg/credmark/cmf/engine/context.py:613\u001b[0m, in \u001b[0;36mEngineModelContext._run_local_model_with_class\u001b[0;34m(self, slug, input, block_number, version, model_class)\u001b[0m\n\u001b[1;32m    610\u001b[0m     \u001b[38;5;28mself\u001b[39m\u001b[38;5;241m.\u001b[39mdebug_logger\u001b[38;5;241m.\u001b[39mdebug(\n\u001b[1;32m    611\u001b[0m         \u001b[38;5;124mf\u001b[39m\u001b[38;5;124m\"\u001b[39m\u001b[38;5;124m> Run model \u001b[39m\u001b[38;5;124m'\u001b[39m\u001b[38;5;132;01m{\u001b[39;00mslug\u001b[38;5;132;01m}\u001b[39;00m\u001b[38;5;124m'\u001b[39m\u001b[38;5;124m input: \u001b[39m\u001b[38;5;132;01m{\u001b[39;00m\u001b[38;5;28minput\u001b[39m\u001b[38;5;132;01m}\u001b[39;00m\u001b[38;5;124m block_number: \u001b[39m\u001b[38;5;132;01m{\u001b[39;00mblock_number\u001b[38;5;132;01m}\u001b[39;00m\u001b[38;5;124m\"\u001b[39m)\n\u001b[0;32m--> 613\u001b[0m output \u001b[38;5;241m=\u001b[39m \u001b[43mmodel\u001b[49m\u001b[38;5;241;43m.\u001b[39;49m\u001b[43mrun\u001b[49m\u001b[43m(\u001b[49m\u001b[38;5;28;43minput\u001b[39;49m\u001b[43m)\u001b[49m\n\u001b[1;32m    615\u001b[0m \u001b[38;5;28;01mtry\u001b[39;00m:\n\u001b[1;32m    616\u001b[0m     \u001b[38;5;66;03m# transform to the defined outputDTO for validation of output\u001b[39;00m\n",
      "Input \u001b[0;32mIn [8]\u001b[0m, in \u001b[0;36mJitFeed.run\u001b[0;34m(self, input)\u001b[0m\n\u001b[1;32m      8\u001b[0m feedreg \u001b[38;5;241m=\u001b[39m \u001b[38;5;28mself\u001b[39m\u001b[38;5;241m.\u001b[39mcontext\u001b[38;5;241m.\u001b[39mmodels\u001b[38;5;241m.\u001b[39mchainlink\u001b[38;5;241m.\u001b[39mget_feed_registry(return_type\u001b[38;5;241m=\u001b[39mContract)\n\u001b[0;32m----> 9\u001b[0m feed \u001b[38;5;241m=\u001b[39m \u001b[43mfeedreg\u001b[49m\u001b[38;5;241;43m.\u001b[39;49m\u001b[43mfunctions\u001b[49m\u001b[38;5;241;43m.\u001b[39;49m\u001b[43mgetFeed\u001b[49m\u001b[43m(\u001b[49m\u001b[38;5;124;43m'\u001b[39;49m\u001b[38;5;124;43m0xbBbBBBBbbBBBbbbBbbBbbbbBBbBbbbbBbBbbBBbB\u001b[39;49m\u001b[38;5;124;43m'\u001b[39;49m\u001b[43m,\u001b[49m\u001b[38;5;124;43m'\u001b[39;49m\u001b[38;5;124;43m0x0000000000000000000000000000000000000348\u001b[39;49m\u001b[38;5;124;43m'\u001b[39;49m\u001b[43m)\u001b[49m\u001b[38;5;241;43m.\u001b[39;49m\u001b[43mcall\u001b[49m\u001b[43m(\u001b[49m\u001b[43m)\u001b[49m\n\u001b[1;32m     10\u001b[0m \u001b[38;5;28;01mreturn\u001b[39;00m {\u001b[38;5;124m'\u001b[39m\u001b[38;5;124mfeed\u001b[39m\u001b[38;5;124m'\u001b[39m: feed}\n",
      "File \u001b[0;32m~/mambaforge/envs/cm310-2/lib/python3.10/site-packages/web3/contract.py:957\u001b[0m, in \u001b[0;36mContractFunction.call\u001b[0;34m(self, transaction, block_identifier, state_override)\u001b[0m\n\u001b[1;32m    955\u001b[0m block_id \u001b[38;5;241m=\u001b[39m parse_block_identifier(\u001b[38;5;28mself\u001b[39m\u001b[38;5;241m.\u001b[39mweb3, block_identifier)\n\u001b[0;32m--> 957\u001b[0m \u001b[38;5;28;01mreturn\u001b[39;00m \u001b[43mcall_contract_function\u001b[49m\u001b[43m(\u001b[49m\n\u001b[1;32m    958\u001b[0m \u001b[43m    \u001b[49m\u001b[38;5;28;43mself\u001b[39;49m\u001b[38;5;241;43m.\u001b[39;49m\u001b[43mweb3\u001b[49m\u001b[43m,\u001b[49m\n\u001b[1;32m    959\u001b[0m \u001b[43m    \u001b[49m\u001b[38;5;28;43mself\u001b[39;49m\u001b[38;5;241;43m.\u001b[39;49m\u001b[43maddress\u001b[49m\u001b[43m,\u001b[49m\n\u001b[1;32m    960\u001b[0m \u001b[43m    \u001b[49m\u001b[38;5;28;43mself\u001b[39;49m\u001b[38;5;241;43m.\u001b[39;49m\u001b[43m_return_data_normalizers\u001b[49m\u001b[43m,\u001b[49m\n\u001b[1;32m    961\u001b[0m \u001b[43m    \u001b[49m\u001b[38;5;28;43mself\u001b[39;49m\u001b[38;5;241;43m.\u001b[39;49m\u001b[43mfunction_identifier\u001b[49m\u001b[43m,\u001b[49m\n\u001b[1;32m    962\u001b[0m \u001b[43m    \u001b[49m\u001b[43mcall_transaction\u001b[49m\u001b[43m,\u001b[49m\n\u001b[1;32m    963\u001b[0m \u001b[43m    \u001b[49m\u001b[43mblock_id\u001b[49m\u001b[43m,\u001b[49m\n\u001b[1;32m    964\u001b[0m \u001b[43m    \u001b[49m\u001b[38;5;28;43mself\u001b[39;49m\u001b[38;5;241;43m.\u001b[39;49m\u001b[43mcontract_abi\u001b[49m\u001b[43m,\u001b[49m\n\u001b[1;32m    965\u001b[0m \u001b[43m    \u001b[49m\u001b[38;5;28;43mself\u001b[39;49m\u001b[38;5;241;43m.\u001b[39;49m\u001b[43mabi\u001b[49m\u001b[43m,\u001b[49m\n\u001b[1;32m    966\u001b[0m \u001b[43m    \u001b[49m\u001b[43mstate_override\u001b[49m\u001b[43m,\u001b[49m\n\u001b[1;32m    967\u001b[0m \u001b[43m    \u001b[49m\u001b[38;5;241;43m*\u001b[39;49m\u001b[38;5;28;43mself\u001b[39;49m\u001b[38;5;241;43m.\u001b[39;49m\u001b[43margs\u001b[49m\u001b[43m,\u001b[49m\n\u001b[1;32m    968\u001b[0m \u001b[43m    \u001b[49m\u001b[38;5;241;43m*\u001b[39;49m\u001b[38;5;241;43m*\u001b[39;49m\u001b[38;5;28;43mself\u001b[39;49m\u001b[38;5;241;43m.\u001b[39;49m\u001b[43mkwargs\u001b[49m\n\u001b[1;32m    969\u001b[0m \u001b[43m\u001b[49m\u001b[43m)\u001b[49m\n",
      "File \u001b[0;32m~/mambaforge/envs/cm310-2/lib/python3.10/site-packages/web3/contract.py:1530\u001b[0m, in \u001b[0;36mcall_contract_function\u001b[0;34m(web3, address, normalizers, function_identifier, transaction, block_id, contract_abi, fn_abi, state_override, *args, **kwargs)\u001b[0m\n\u001b[1;32m   1526\u001b[0m         msg \u001b[38;5;241m=\u001b[39m (\n\u001b[1;32m   1527\u001b[0m             \u001b[38;5;124mf\u001b[39m\u001b[38;5;124m\"\u001b[39m\u001b[38;5;124mCould not decode contract function call to \u001b[39m\u001b[38;5;132;01m{\u001b[39;00mfunction_identifier\u001b[38;5;132;01m}\u001b[39;00m\u001b[38;5;124m with \u001b[39m\u001b[38;5;124m\"\u001b[39m\n\u001b[1;32m   1528\u001b[0m             \u001b[38;5;124mf\u001b[39m\u001b[38;5;124m\"\u001b[39m\u001b[38;5;124mreturn data: \u001b[39m\u001b[38;5;132;01m{\u001b[39;00m\u001b[38;5;28mstr\u001b[39m(return_data)\u001b[38;5;132;01m}\u001b[39;00m\u001b[38;5;124m, output_types: \u001b[39m\u001b[38;5;132;01m{\u001b[39;00moutput_types\u001b[38;5;132;01m}\u001b[39;00m\u001b[38;5;124m\"\u001b[39m\n\u001b[1;32m   1529\u001b[0m         )\n\u001b[0;32m-> 1530\u001b[0m     \u001b[38;5;28;01mraise\u001b[39;00m BadFunctionCallOutput(msg) \u001b[38;5;28;01mfrom\u001b[39;00m \u001b[38;5;21;01me\u001b[39;00m\n\u001b[1;32m   1532\u001b[0m _normalizers \u001b[38;5;241m=\u001b[39m itertools\u001b[38;5;241m.\u001b[39mchain(\n\u001b[1;32m   1533\u001b[0m     BASE_RETURN_NORMALIZERS,\n\u001b[1;32m   1534\u001b[0m     normalizers,\n\u001b[1;32m   1535\u001b[0m )\n",
      "\u001b[0;31mBadFunctionCallOutput\u001b[0m: Could not transact with/call contract function, is contract deployed correctly and chain synced?",
      "\nDuring handling of the above exception, another exception occurred:\n",
      "\u001b[0;31mModelRunError\u001b[0m                             Traceback (most recent call last)",
      "Input \u001b[0;32mIn [21]\u001b[0m, in \u001b[0;36m<cell line: 1>\u001b[0;34m()\u001b[0m\n\u001b[0;32m----> 1\u001b[0m \u001b[43mcontext\u001b[49m\u001b[38;5;241;43m.\u001b[39;49m\u001b[43mmodels\u001b[49m\u001b[43m(\u001b[49m\u001b[43mget_block\u001b[49m\u001b[43m(\u001b[49m\u001b[43mget_dt\u001b[49m\u001b[43m(\u001b[49m\u001b[38;5;241;43m2021\u001b[39;49m\u001b[43m,\u001b[49m\u001b[43m \u001b[49m\u001b[38;5;241;43m7\u001b[39;49m\u001b[43m,\u001b[49m\u001b[43m \u001b[49m\u001b[38;5;241;43m6\u001b[39;49m\u001b[43m)\u001b[49m\u001b[43m)\u001b[49m\u001b[43m)\u001b[49m\u001b[38;5;241;43m.\u001b[39;49m\u001b[43mjit\u001b[49m\u001b[38;5;241;43m.\u001b[39;49m\u001b[43mfeed\u001b[49m\u001b[43m(\u001b[49m\u001b[43m)\u001b[49m\n",
      "File \u001b[0;32m~/mambaforge/envs/cm310-2/lib/python3.10/site-packages/credmark_model_framework-0.8.22-py3.10.egg/credmark/cmf/model/context.py:71\u001b[0m, in \u001b[0;36mRunModelMethod.__call__\u001b[0;34m(self, input, return_type, **kwargs)\u001b[0m\n\u001b[1;32m     68\u001b[0m \u001b[38;5;28;01melif\u001b[39;00m \u001b[38;5;28minput\u001b[39m \u001b[38;5;129;01mis\u001b[39;00m \u001b[38;5;28;01mNone\u001b[39;00m:\n\u001b[1;32m     69\u001b[0m     \u001b[38;5;28minput\u001b[39m \u001b[38;5;241m=\u001b[39m kwargs\n\u001b[0;32m---> 71\u001b[0m \u001b[38;5;28;01mreturn\u001b[39;00m \u001b[38;5;28;43mself\u001b[39;49m\u001b[38;5;241;43m.\u001b[39;49m\u001b[43m__context\u001b[49m\u001b[38;5;241;43m.\u001b[39;49m\u001b[43mrun_model\u001b[49m\u001b[43m(\u001b[49m\n\u001b[1;32m     72\u001b[0m \u001b[43m    \u001b[49m\u001b[38;5;124;43mf\u001b[39;49m\u001b[38;5;124;43m\"\u001b[39;49m\u001b[38;5;132;43;01m{\u001b[39;49;00m\u001b[38;5;28;43mself\u001b[39;49m\u001b[38;5;241;43m.\u001b[39;49m\u001b[43m__prefix\u001b[49m\u001b[38;5;241;43m.\u001b[39;49m\u001b[43mreplace\u001b[49m\u001b[43m(\u001b[49m\u001b[38;5;124;43m'\u001b[39;49m\u001b[38;5;124;43m_\u001b[39;49m\u001b[38;5;124;43m'\u001b[39;49m\u001b[43m,\u001b[49m\u001b[43m \u001b[49m\u001b[38;5;124;43m'\u001b[39;49m\u001b[38;5;124;43m-\u001b[39;49m\u001b[38;5;124;43m'\u001b[39;49m\u001b[43m)\u001b[49m\u001b[38;5;132;43;01m}\u001b[39;49;00m\u001b[38;5;124;43m\"\u001b[39;49m\u001b[43m,\u001b[49m\n\u001b[1;32m     73\u001b[0m \u001b[43m    \u001b[49m\u001b[38;5;28;43minput\u001b[39;49m\u001b[43m,\u001b[49m\u001b[43m \u001b[49m\u001b[43mblock_number\u001b[49m\u001b[38;5;241;43m=\u001b[39;49m\u001b[38;5;28;43mself\u001b[39;49m\u001b[38;5;241;43m.\u001b[39;49m\u001b[43m__block_number\u001b[49m\u001b[43m,\u001b[49m\n\u001b[1;32m     74\u001b[0m \u001b[43m    \u001b[49m\u001b[43mreturn_type\u001b[49m\u001b[38;5;241;43m=\u001b[39;49m\u001b[43mreturn_type\u001b[49m\u001b[43m)\u001b[49m\n",
      "File \u001b[0;32m~/mambaforge/envs/cm310-2/lib/python3.10/site-packages/credmark_model_framework-0.8.22-py3.10.egg/credmark/cmf/engine/context.py:379\u001b[0m, in \u001b[0;36mEngineModelContext.run_model\u001b[0;34m(self, slug, input, return_type, block_number, version)\u001b[0m\n\u001b[1;32m    374\u001b[0m \u001b[38;5;28;01mif\u001b[39;00m block_number \u001b[38;5;129;01mis\u001b[39;00m \u001b[38;5;129;01mnot\u001b[39;00m \u001b[38;5;28;01mNone\u001b[39;00m \u001b[38;5;129;01mand\u001b[39;00m block_number \u001b[38;5;241m>\u001b[39m \u001b[38;5;28mself\u001b[39m\u001b[38;5;241m.\u001b[39mblock_number:\n\u001b[1;32m    375\u001b[0m     \u001b[38;5;28;01mraise\u001b[39;00m ModelInvalidStateError(\n\u001b[1;32m    376\u001b[0m         \u001b[38;5;124mf\u001b[39m\u001b[38;5;124m'\u001b[39m\u001b[38;5;124mAttempt to run model \u001b[39m\u001b[38;5;132;01m{\u001b[39;00mslug\u001b[38;5;132;01m}\u001b[39;00m\u001b[38;5;124m at context block \u001b[39m\u001b[38;5;132;01m{\u001b[39;00m\u001b[38;5;28mself\u001b[39m\u001b[38;5;241m.\u001b[39mblock_number\u001b[38;5;132;01m}\u001b[39;00m\u001b[38;5;124m \u001b[39m\u001b[38;5;124m'\u001b[39m\n\u001b[1;32m    377\u001b[0m         \u001b[38;5;124mf\u001b[39m\u001b[38;5;124m'\u001b[39m\u001b[38;5;124mwith future block \u001b[39m\u001b[38;5;132;01m{\u001b[39;00mblock_number\u001b[38;5;132;01m}\u001b[39;00m\u001b[38;5;124m'\u001b[39m)\n\u001b[0;32m--> 379\u001b[0m res_tuple \u001b[38;5;241m=\u001b[39m \u001b[38;5;28;43mself\u001b[39;49m\u001b[38;5;241;43m.\u001b[39;49m\u001b[43m_run_model\u001b[49m\u001b[43m(\u001b[49m\u001b[43mslug\u001b[49m\u001b[43m,\u001b[49m\u001b[43m \u001b[49m\u001b[38;5;28;43minput\u001b[39;49m\u001b[43m,\u001b[49m\u001b[43m \u001b[49m\u001b[43mblock_number\u001b[49m\u001b[43m,\u001b[49m\u001b[43m \u001b[49m\u001b[43mversion\u001b[49m\u001b[43m)\u001b[49m\n\u001b[1;32m    381\u001b[0m \u001b[38;5;66;03m# The last item of the tuple is the output.\u001b[39;00m\n\u001b[1;32m    382\u001b[0m output \u001b[38;5;241m=\u001b[39m res_tuple[\u001b[38;5;241m-\u001b[39m\u001b[38;5;241m1\u001b[39m]\n",
      "File \u001b[0;32m~/mambaforge/envs/cm310-2/lib/python3.10/site-packages/credmark_model_framework-0.8.22-py3.10.egg/credmark/cmf/engine/context.py:438\u001b[0m, in \u001b[0;36mEngineModelContext._run_model\u001b[0;34m(self, slug, input, block_number, version)\u001b[0m\n\u001b[1;32m    435\u001b[0m     \u001b[38;5;28;01mif\u001b[39;00m \u001b[38;5;28mself\u001b[39m\u001b[38;5;241m.\u001b[39m__depth \u001b[38;5;241m>\u001b[39m\u001b[38;5;241m=\u001b[39m \u001b[38;5;28mself\u001b[39m\u001b[38;5;241m.\u001b[39mmax_run_depth:\n\u001b[1;32m    436\u001b[0m         \u001b[38;5;28;01mraise\u001b[39;00m MaxModelRunDepthError(\u001b[38;5;124mf\u001b[39m\u001b[38;5;124m'\u001b[39m\u001b[38;5;124mMax model run depth hit \u001b[39m\u001b[38;5;132;01m{\u001b[39;00m\u001b[38;5;28mself\u001b[39m\u001b[38;5;241m.\u001b[39m__depth\u001b[38;5;132;01m}\u001b[39;00m\u001b[38;5;124m'\u001b[39m)\n\u001b[0;32m--> 438\u001b[0m     \u001b[38;5;28;01mreturn\u001b[39;00m \u001b[38;5;28;43mself\u001b[39;49m\u001b[38;5;241;43m.\u001b[39;49m\u001b[43m_run_model_with_class\u001b[49m\u001b[43m(\u001b[49m\n\u001b[1;32m    439\u001b[0m \u001b[43m        \u001b[49m\u001b[43mslug\u001b[49m\u001b[43m,\u001b[49m\n\u001b[1;32m    440\u001b[0m \u001b[43m        \u001b[49m\u001b[38;5;28;43minput\u001b[39;49m\u001b[43m,\u001b[49m\n\u001b[1;32m    441\u001b[0m \u001b[43m        \u001b[49m\u001b[43mblock_number\u001b[49m\u001b[43m,\u001b[49m\n\u001b[1;32m    442\u001b[0m \u001b[43m        \u001b[49m\u001b[43mversion\u001b[49m\u001b[43m,\u001b[49m\n\u001b[1;32m    443\u001b[0m \u001b[43m        \u001b[49m\u001b[43mmodel_class\u001b[49m\u001b[43m,\u001b[49m\n\u001b[1;32m    444\u001b[0m \u001b[43m        \u001b[49m\u001b[43muse_local\u001b[49m\u001b[43m,\u001b[49m\n\u001b[1;32m    445\u001b[0m \u001b[43m        \u001b[49m\u001b[43mtry_remote\u001b[49m\u001b[43m)\u001b[49m\n\u001b[1;32m    446\u001b[0m \u001b[38;5;28;01mfinally\u001b[39;00m:\n\u001b[1;32m    447\u001b[0m     \u001b[38;5;28mself\u001b[39m\u001b[38;5;241m.\u001b[39m__depth \u001b[38;5;241m-\u001b[39m\u001b[38;5;241m=\u001b[39m \u001b[38;5;241m1\u001b[39m\n",
      "File \u001b[0;32m~/mambaforge/envs/cm310-2/lib/python3.10/site-packages/credmark_model_framework-0.8.22-py3.10.egg/credmark/cmf/engine/context.py:494\u001b[0m, in \u001b[0;36mEngineModelContext._run_model_with_class\u001b[0;34m(self, slug, input, block_number, version, model_class, use_local, try_remote)\u001b[0m\n\u001b[1;32m    490\u001b[0m debug_log \u001b[38;5;241m=\u001b[39m \u001b[38;5;28mself\u001b[39m\u001b[38;5;241m.\u001b[39mdebug_logger\u001b[38;5;241m.\u001b[39misEnabledFor(logging\u001b[38;5;241m.\u001b[39mDEBUG)\n\u001b[1;32m    492\u001b[0m \u001b[38;5;28;01mif\u001b[39;00m use_local \u001b[38;5;129;01mand\u001b[39;00m model_class \u001b[38;5;129;01mis\u001b[39;00m \u001b[38;5;129;01mnot\u001b[39;00m \u001b[38;5;28;01mNone\u001b[39;00m:\n\u001b[0;32m--> 494\u001b[0m     slug, version, output \u001b[38;5;241m=\u001b[39m \u001b[38;5;28;43mself\u001b[39;49m\u001b[38;5;241;43m.\u001b[39;49m\u001b[43m_run_local_model_with_class\u001b[49m\u001b[43m(\u001b[49m\n\u001b[1;32m    495\u001b[0m \u001b[43m        \u001b[49m\u001b[43mslug\u001b[49m\u001b[43m,\u001b[49m\n\u001b[1;32m    496\u001b[0m \u001b[43m        \u001b[49m\u001b[38;5;28;43minput\u001b[39;49m\u001b[43m,\u001b[49m\n\u001b[1;32m    497\u001b[0m \u001b[43m        \u001b[49m\u001b[43mblock_number\u001b[49m\u001b[43m,\u001b[49m\n\u001b[1;32m    498\u001b[0m \u001b[43m        \u001b[49m\u001b[43mversion\u001b[49m\u001b[43m,\u001b[49m\n\u001b[1;32m    499\u001b[0m \u001b[43m        \u001b[49m\u001b[43mmodel_class\u001b[49m\u001b[43m)\u001b[49m\n\u001b[1;32m    501\u001b[0m \u001b[38;5;28;01melif\u001b[39;00m try_remote \u001b[38;5;129;01mand\u001b[39;00m api \u001b[38;5;129;01mis\u001b[39;00m \u001b[38;5;129;01mnot\u001b[39;00m \u001b[38;5;28;01mNone\u001b[39;00m:\n\u001b[1;32m    502\u001b[0m     run_block_number \u001b[38;5;241m=\u001b[39m block_number \u001b[38;5;28;01mif\u001b[39;00m block_number \u001b[38;5;129;01mis\u001b[39;00m \u001b[38;5;129;01mnot\u001b[39;00m \u001b[38;5;28;01mNone\u001b[39;00m \u001b[38;5;28;01melse\u001b[39;00m \u001b[38;5;28mself\u001b[39m\u001b[38;5;241m.\u001b[39mblock_number\n",
      "File \u001b[0;32m~/mambaforge/envs/cm310-2/lib/python3.10/site-packages/credmark_model_framework-0.8.22-py3.10.egg/credmark/cmf/engine/context.py:682\u001b[0m, in \u001b[0;36mEngineModelContext._run_local_model_with_class\u001b[0;34m(self, slug, input, block_number, version, model_class)\u001b[0m\n\u001b[1;32m    672\u001b[0m     err\u001b[38;5;241m.\u001b[39mdata\u001b[38;5;241m.\u001b[39mstack\u001b[38;5;241m.\u001b[39minsert(\u001b[38;5;241m0\u001b[39m,\n\u001b[1;32m    673\u001b[0m                           ModelCallStackEntry(\n\u001b[1;32m    674\u001b[0m                               slug\u001b[38;5;241m=\u001b[39mslug,\n\u001b[0;32m   (...)\u001b[0m\n\u001b[1;32m    677\u001b[0m                               blockNumber\u001b[38;5;241m=\u001b[39mcontext\u001b[38;5;241m.\u001b[39mblock_number,\n\u001b[1;32m    678\u001b[0m                               trace\u001b[38;5;241m=\u001b[39mtrace \u001b[38;5;28;01mif\u001b[39;00m trace \u001b[38;5;129;01mis\u001b[39;00m \u001b[38;5;129;01mnot\u001b[39;00m \u001b[38;5;28;01mNone\u001b[39;00m \u001b[38;5;28;01melse\u001b[39;00m \u001b[38;5;28;01mNone\u001b[39;00m))\n\u001b[1;32m    680\u001b[0m     EngineModelContext\u001b[38;5;241m.\u001b[39mnotify_model_run(slug, model_class\u001b[38;5;241m.\u001b[39mversion, context\u001b[38;5;241m.\u001b[39mchain_id,\n\u001b[1;32m    681\u001b[0m                                         context\u001b[38;5;241m.\u001b[39mblock_number, \u001b[38;5;28minput\u001b[39m, \u001b[38;5;28;01mNone\u001b[39;00m, err)\n\u001b[0;32m--> 682\u001b[0m     \u001b[38;5;28;01mraise\u001b[39;00m err\n\u001b[1;32m    684\u001b[0m \u001b[38;5;28;01mfinally\u001b[39;00m:\n\u001b[1;32m    685\u001b[0m     context\u001b[38;5;241m.\u001b[39mis_active \u001b[38;5;241m=\u001b[39m \u001b[38;5;28;01mFalse\u001b[39;00m\n",
      "\u001b[0;31mModelRunError\u001b[0m: Exception running model jit.feed() on chain 1 block 12770589 (2021-07-05 23:59:50) with Could not transact with/call contract function, is contract deployed correctly and chain synced?"
     ]
    }
   ],
   "source": [
    "context.models(get_block(get_dt(2021, 7, 6))).jit.feed()"
   ]
  },
  {
   "cell_type": "code",
   "execution_count": 4,
   "id": "5e37f678-bd93-4403-acce-b11bd8148e96",
   "metadata": {},
   "outputs": [
    {
     "name": "stdout",
     "output_type": "stream",
     "text": [
      "ETH/ETH: 1.0\n",
      "ETH/USD: 1959.1628\n",
      "ETH/GBP: 1554.471650507006\n",
      "ETH/CNY: 13061.172407816053\n",
      "CNY/USD: 0.149999\n",
      "USD/ETH: 0.0005104221047888414\n",
      "GBP/ETH: 0.0006433053955495684\n",
      "BTC/CNY: 209542.96551607383\n",
      "0x767FE9EDC9E0dF98E07454847909b5E959D7ca0E/USD: 305.926817304668\n",
      "JPY/0x767FE9EDC9E0dF98E07454847909b5E959D7ca0E: 2.5391039819383218e-05\n",
      "0x767FE9EDC9E0dF98E07454847909b5E959D7ca0E/JPY: 39383.97194890034\n",
      "JPY/0x85f138bfEE4ef8e540890CFb48F620571d67Eda3: 0.0002960778720037849\n",
      "USD/0x85f138bfEE4ef8e540890CFb48F620571d67Eda3: 0.03811605242202231\n",
      "0x85f138bfEE4ef8e540890CFb48F620571d67Eda3/USD: 26.23566546\n",
      "0x85f138bfEE4ef8e540890CFb48F620571d67Eda3/JPY: 3377.4898246607795\n",
      "JPY/0x85f138bfEE4ef8e540890CFb48F620571d67Eda3: 0.0002960778720037849\n",
      "CNY/0xa0b86991c6218b36c1d19d4a2e9eb0ce3606eb48: 0.14985080606352924\n",
      "0x6b175474e89094c44da98b954eedeac495271d0f/CNY: 6.681762287397306\n",
      "ETH/0xc00e94Cb662C3520282E6f5717214004A7f26888: 31.293477432178285\n",
      "CNY/0xc00e94Cb662C3520282E6f5717214004A7f26888: 0.002395916419681565\n",
      "0xc00e94Cb662C3520282E6f5717214004A7f26888/CNY: 417.3768299200134\n",
      "CNY/0x767FE9EDC9E0dF98E07454847909b5E959D7ca0E: 0.0004903100725903941\n",
      "0x767FE9EDC9E0dF98E07454847909b5E959D7ca0E/CNY: 2039.525712202535\n"
     ]
    }
   ],
   "source": [
    "test_cases = [\n",
    "    {'base': 'ETH', 'quote': 'ETH'},\n",
    "    {'base': 'ETH', 'quote': 'USD'},\n",
    "    {'base': 'ETH', 'quote': 'GBP'},    \n",
    "    {'base': 'ETH', 'quote': 'CNY'},\n",
    "    {'base': 'CNY', 'quote': 'USD'},    \n",
    "    {'base': 'USD', 'quote': 'ETH'},\n",
    "    {'base': 'GBP', 'quote': 'ETH'},\n",
    "    {'base': 'BTC', 'quote': 'CNY'},\n",
    "    {'base': '0x767FE9EDC9E0dF98E07454847909b5E959D7ca0E', 'quote': 'USD'}, # ILV\n",
    "    {'base': 'JPY', 'quote': '0x767FE9EDC9E0dF98E07454847909b5E959D7ca0E'},\n",
    "    {'quote': 'JPY', 'base': '0x767FE9EDC9E0dF98E07454847909b5E959D7ca0E'},\n",
    "    {'base': 'JPY', 'quote': '0x85f138bfEE4ef8e540890CFb48F620571d67Eda3'}, # WAVAX\n",
    "    {'base': 'USD', 'quote': '0x85f138bfEE4ef8e540890CFb48F620571d67Eda3'},\n",
    "    {'quote': 'USD', 'base': '0x85f138bfEE4ef8e540890CFb48F620571d67Eda3'},\n",
    "    {'quote': 'JPY', 'base': '0x85f138bfEE4ef8e540890CFb48F620571d67Eda3'},\n",
    "    {'base': 'JPY', 'quote': '0x85f138bfEE4ef8e540890CFb48F620571d67Eda3'},\n",
    "    {'base': 'CNY', 'quote': Token(symbol='USDC').address},\n",
    "    {'quote': 'CNY', 'base': Token(symbol='DAI').address},\n",
    "    {'base': 'ETH', 'quote': '0xc00e94Cb662C3520282E6f5717214004A7f26888'}, # COMP\n",
    "    {'base': 'CNY', 'quote': '0xc00e94Cb662C3520282E6f5717214004A7f26888'},\n",
    "    {'quote': 'CNY', 'base': '0xc00e94Cb662C3520282E6f5717214004A7f26888'},\n",
    "    {'base': 'CNY', 'quote': '0x767FE9EDC9E0dF98E07454847909b5E959D7ca0E'}, # ILV\n",
    "    {'quote': 'CNY', 'base': '0x767FE9EDC9E0dF98E07454847909b5E959D7ca0E'},\n",
    "]\n",
    "\n",
    "for case in test_cases:\n",
    "    price = context.models.price.oracle_chainlink(case)\n",
    "    print(f\"{case['base']}/{case['quote']}: {price['price']}\")"
   ]
  }
 ],
 "metadata": {
  "kernelspec": {
   "display_name": "Python [conda env:cm310-2] *",
   "language": "python",
   "name": "conda-env-cm310-2-py"
  },
  "language_info": {
   "codemirror_mode": {
    "name": "ipython",
    "version": 3
   },
   "file_extension": ".py",
   "mimetype": "text/x-python",
   "name": "python",
   "nbconvert_exporter": "python",
   "pygments_lexer": "ipython3",
   "version": "3.10.4"
  }
 },
 "nbformat": 4,
 "nbformat_minor": 5
}
